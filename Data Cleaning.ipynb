{
 "cells": [
  {
   "cell_type": "markdown",
   "id": "42321876",
   "metadata": {},
   "source": [
    "# Data Cleaning in Python"
   ]
  },
  {
   "cell_type": "markdown",
   "id": "58f0d7df",
   "metadata": {},
   "source": [
    "> ### Most Common Techniques For Data Cleaning"
   ]
  },
  {
   "cell_type": "markdown",
   "id": "e1307d09",
   "metadata": {},
   "source": [
    "#### Common commands and functions used for data cleaning in Python:"
   ]
  },
  {
   "cell_type": "markdown",
   "id": "7ba7308d",
   "metadata": {},
   "source": [
    "1. **Importing Libraries:**\n",
    "- import pandas as pd\n",
    "- import numpy as np\n",
    "\n",
    "2. **Reading Data:**\n",
    "- df = pd.read_csv('filename.csv')\n",
    "- df = pd.read_excel('filename.xlsx')\n",
    "- df = pd.read_sql('SELECT * FROM table', connection)\n",
    "\n",
    "3. **Exploring Data:**\n",
    "- df.head()  # Display the first few rows\n",
    "- df.info()  # Get information about the DataFrame\n",
    "- df.describe()  # Generate descriptive statistics\n",
    "\n",
    "4. **Handling Missing Values:**\n",
    "- df.isnull()  # Check for missing values\n",
    "- df.dropna()  # Drop rows with missing values\n",
    "- df.fillna(value)  # Fill missing values with a specified value\n",
    "\n",
    "5. **Removing Duplicates:**\n",
    "- df.duplicated()  # Check for duplicate rows\n",
    "- df.drop_duplicates()  # Remove duplicate rows\n",
    "\n",
    "6. **Filtering Data:**\n",
    "- df[df['column'] > value]  # Filter rows based on a condition\n",
    "- df.query('condition')  # Filter rows using a query string\n",
    "\n",
    "7. **Handling Outliers:**\n",
    "- import scipy.stats as stats\n",
    "- z_scores = stats.zscore(df['column'])\n",
    "- df = df[(z_scores < threshold)]\n",
    "\n",
    "8. **Data Imputation:**\n",
    "- from sklearn.impute import SimpleImputer\n",
    "- imputer = SimpleImputer(strategy='mean')\n",
    "- df['column'] = imputer.fit_transform(df[['column']])\n",
    "\n",
    "9. **Data Transformation:**\n",
    "- df.apply(func)  # Apply a function to each element or column\n",
    "- df.map(dict)  # Map values using a dictionary\n",
    "- df.replace(old_value, new_value)  # Replace values with new ones\n",
    "- df.rename(columns={'old_name': 'new_name'})  # Rename columns\n",
    "\n",
    "10. **Data Standardization or Normalization:**\n",
    "- from sklearn.preprocessing import StandardScaler, MinMaxScaler\n",
    "- scaler = StandardScaler()\n",
    "- df['column'] = scaler.fit_transform(df[['column']])\n",
    "\n",
    "These commands should provide a good starting point for cleaning data in Python"
   ]
  },
  {
   "cell_type": "markdown",
   "id": "257156b7",
   "metadata": {},
   "source": [
    "***"
   ]
  },
  {
   "cell_type": "markdown",
   "id": "399cda79",
   "metadata": {},
   "source": [
    "#  Handling missing values"
   ]
  },
  {
   "cell_type": "markdown",
   "id": "9c9c0701",
   "metadata": {},
   "source": [
    "### Steps:\n",
    "- Take a first look at the data\n",
    "- See how many missing data points we have\n",
    "- Figure out why the data is missing\n",
    "- Drop missing values\n",
    "- Filling in missing values"
   ]
  },
  {
   "cell_type": "markdown",
   "id": "92631c33",
   "metadata": {},
   "source": [
    "Datasets:\n",
    "1. Detailed NFL Play-by-Play Data \n",
    "\n",
    "Contains all the regular season plays from the 2009-2016 NFL seasons. The dataset has 356,768 rows and 100 columns.\n",
    "\n",
    "2. San Francisco Building Permits\n",
    "\n",
    "A building permit is an official approval document issued by a governmental agency that allows you or your contractor to proceed with a construction or remodeling project on one's property. The data was downloaded for the dates ranging from Jan 1st, 2013 to Feb 25th, 2018 using the filter in San Francisco open data portal. There are 43 columns and close to 200k records\n"
   ]
  },
  {
   "cell_type": "code",
   "execution_count": 1,
   "id": "9fbdb977",
   "metadata": {},
   "outputs": [],
   "source": [
    "# modules we'll use\n",
    "import pandas as pd\n",
    "import numpy as np"
   ]
  },
  {
   "cell_type": "code",
   "execution_count": 3,
   "id": "f85c7794",
   "metadata": {},
   "outputs": [],
   "source": [
    "import warnings\n",
    "warnings.filterwarnings(\"ignore\")"
   ]
  },
  {
   "cell_type": "code",
   "execution_count": 4,
   "id": "4168ac99",
   "metadata": {},
   "outputs": [],
   "source": [
    "# read in all our data\n",
    "nfl_data = pd.read_csv(\"NFL Play by Play 2009-2017 (v4).csv\")\n",
    "sf_permits = pd.read_csv(\"Building_Permits.csv\")"
   ]
  },
  {
   "cell_type": "code",
   "execution_count": 5,
   "id": "4d9c1bb3",
   "metadata": {},
   "outputs": [],
   "source": [
    "# set seed for reproducibility\n",
    "np.random.seed(0) "
   ]
  },
  {
   "cell_type": "markdown",
   "id": "fff15e24",
   "metadata": {},
   "source": [
    "By setting a seed value, it ensures that the random numbers generated by NumPy will be the same every time the code is run, which makes the results reproducible. The specific value chosen for the seed doesn't matter as long as it's the same across different runs of the code if you want the same random numbers to be generated.Setting the seed is often useful in scenarios where you want to ensure that random processes, such as initialization of weights in machine learning models or random sampling, produce consistent results for debugging or comparison purposes.\n",
    "\n",
    "Note that the code doesn't produce any output or result by itself. It simply sets the seed value for random number generation."
   ]
  },
  {
   "cell_type": "code",
   "execution_count": 6,
   "id": "89786e9e",
   "metadata": {},
   "outputs": [
    {
     "data": {
      "text/html": [
       "<div>\n",
       "<style scoped>\n",
       "    .dataframe tbody tr th:only-of-type {\n",
       "        vertical-align: middle;\n",
       "    }\n",
       "\n",
       "    .dataframe tbody tr th {\n",
       "        vertical-align: top;\n",
       "    }\n",
       "\n",
       "    .dataframe thead th {\n",
       "        text-align: right;\n",
       "    }\n",
       "</style>\n",
       "<table border=\"1\" class=\"dataframe\">\n",
       "  <thead>\n",
       "    <tr style=\"text-align: right;\">\n",
       "      <th></th>\n",
       "      <th>Date</th>\n",
       "      <th>GameID</th>\n",
       "      <th>Drive</th>\n",
       "      <th>qtr</th>\n",
       "      <th>down</th>\n",
       "      <th>time</th>\n",
       "      <th>TimeUnder</th>\n",
       "      <th>TimeSecs</th>\n",
       "      <th>PlayTimeDiff</th>\n",
       "      <th>SideofField</th>\n",
       "      <th>...</th>\n",
       "      <th>yacEPA</th>\n",
       "      <th>Home_WP_pre</th>\n",
       "      <th>Away_WP_pre</th>\n",
       "      <th>Home_WP_post</th>\n",
       "      <th>Away_WP_post</th>\n",
       "      <th>Win_Prob</th>\n",
       "      <th>WPA</th>\n",
       "      <th>airWPA</th>\n",
       "      <th>yacWPA</th>\n",
       "      <th>Season</th>\n",
       "    </tr>\n",
       "  </thead>\n",
       "  <tbody>\n",
       "    <tr>\n",
       "      <th>244485</th>\n",
       "      <td>2014-10-26</td>\n",
       "      <td>2014102607</td>\n",
       "      <td>18</td>\n",
       "      <td>3</td>\n",
       "      <td>1.0</td>\n",
       "      <td>00:39</td>\n",
       "      <td>1</td>\n",
       "      <td>939.0</td>\n",
       "      <td>12.0</td>\n",
       "      <td>TB</td>\n",
       "      <td>...</td>\n",
       "      <td>1.240299</td>\n",
       "      <td>0.225647</td>\n",
       "      <td>0.774353</td>\n",
       "      <td>0.245582</td>\n",
       "      <td>0.754418</td>\n",
       "      <td>0.225647</td>\n",
       "      <td>0.019935</td>\n",
       "      <td>-0.018156</td>\n",
       "      <td>0.038091</td>\n",
       "      <td>2014</td>\n",
       "    </tr>\n",
       "    <tr>\n",
       "      <th>115340</th>\n",
       "      <td>2011-11-20</td>\n",
       "      <td>2011112000</td>\n",
       "      <td>22</td>\n",
       "      <td>4</td>\n",
       "      <td>1.0</td>\n",
       "      <td>06:47</td>\n",
       "      <td>7</td>\n",
       "      <td>407.0</td>\n",
       "      <td>44.0</td>\n",
       "      <td>OAK</td>\n",
       "      <td>...</td>\n",
       "      <td>NaN</td>\n",
       "      <td>0.056036</td>\n",
       "      <td>0.943964</td>\n",
       "      <td>0.042963</td>\n",
       "      <td>0.957037</td>\n",
       "      <td>0.943964</td>\n",
       "      <td>0.013073</td>\n",
       "      <td>NaN</td>\n",
       "      <td>NaN</td>\n",
       "      <td>2011</td>\n",
       "    </tr>\n",
       "    <tr>\n",
       "      <th>68357</th>\n",
       "      <td>2010-11-14</td>\n",
       "      <td>2010111401</td>\n",
       "      <td>8</td>\n",
       "      <td>2</td>\n",
       "      <td>NaN</td>\n",
       "      <td>00:23</td>\n",
       "      <td>1</td>\n",
       "      <td>1823.0</td>\n",
       "      <td>0.0</td>\n",
       "      <td>CLE</td>\n",
       "      <td>...</td>\n",
       "      <td>NaN</td>\n",
       "      <td>0.365307</td>\n",
       "      <td>0.634693</td>\n",
       "      <td>0.384697</td>\n",
       "      <td>0.615303</td>\n",
       "      <td>0.634693</td>\n",
       "      <td>-0.019390</td>\n",
       "      <td>NaN</td>\n",
       "      <td>NaN</td>\n",
       "      <td>2010</td>\n",
       "    </tr>\n",
       "    <tr>\n",
       "      <th>368377</th>\n",
       "      <td>2017-09-24</td>\n",
       "      <td>2017092405</td>\n",
       "      <td>24</td>\n",
       "      <td>4</td>\n",
       "      <td>1.0</td>\n",
       "      <td>08:48</td>\n",
       "      <td>9</td>\n",
       "      <td>528.0</td>\n",
       "      <td>8.0</td>\n",
       "      <td>CLE</td>\n",
       "      <td>...</td>\n",
       "      <td>1.075660</td>\n",
       "      <td>0.935995</td>\n",
       "      <td>0.064005</td>\n",
       "      <td>0.921231</td>\n",
       "      <td>0.078769</td>\n",
       "      <td>0.064005</td>\n",
       "      <td>0.014764</td>\n",
       "      <td>0.003866</td>\n",
       "      <td>0.010899</td>\n",
       "      <td>2017</td>\n",
       "    </tr>\n",
       "    <tr>\n",
       "      <th>384684</th>\n",
       "      <td>2017-11-05</td>\n",
       "      <td>2017110505</td>\n",
       "      <td>11</td>\n",
       "      <td>2</td>\n",
       "      <td>1.0</td>\n",
       "      <td>09:15</td>\n",
       "      <td>10</td>\n",
       "      <td>2355.0</td>\n",
       "      <td>0.0</td>\n",
       "      <td>DEN</td>\n",
       "      <td>...</td>\n",
       "      <td>NaN</td>\n",
       "      <td>0.928474</td>\n",
       "      <td>0.071526</td>\n",
       "      <td>0.934641</td>\n",
       "      <td>0.065359</td>\n",
       "      <td>0.071526</td>\n",
       "      <td>-0.006166</td>\n",
       "      <td>NaN</td>\n",
       "      <td>NaN</td>\n",
       "      <td>2017</td>\n",
       "    </tr>\n",
       "  </tbody>\n",
       "</table>\n",
       "<p>5 rows × 102 columns</p>\n",
       "</div>"
      ],
      "text/plain": [
       "              Date      GameID  Drive  qtr  down   time  TimeUnder  TimeSecs  \\\n",
       "244485  2014-10-26  2014102607     18    3   1.0  00:39          1     939.0   \n",
       "115340  2011-11-20  2011112000     22    4   1.0  06:47          7     407.0   \n",
       "68357   2010-11-14  2010111401      8    2   NaN  00:23          1    1823.0   \n",
       "368377  2017-09-24  2017092405     24    4   1.0  08:48          9     528.0   \n",
       "384684  2017-11-05  2017110505     11    2   1.0  09:15         10    2355.0   \n",
       "\n",
       "        PlayTimeDiff SideofField  ...    yacEPA  Home_WP_pre  Away_WP_pre  \\\n",
       "244485          12.0          TB  ...  1.240299     0.225647     0.774353   \n",
       "115340          44.0         OAK  ...       NaN     0.056036     0.943964   \n",
       "68357            0.0         CLE  ...       NaN     0.365307     0.634693   \n",
       "368377           8.0         CLE  ...  1.075660     0.935995     0.064005   \n",
       "384684           0.0         DEN  ...       NaN     0.928474     0.071526   \n",
       "\n",
       "        Home_WP_post  Away_WP_post  Win_Prob       WPA    airWPA    yacWPA  \\\n",
       "244485      0.245582      0.754418  0.225647  0.019935 -0.018156  0.038091   \n",
       "115340      0.042963      0.957037  0.943964  0.013073       NaN       NaN   \n",
       "68357       0.384697      0.615303  0.634693 -0.019390       NaN       NaN   \n",
       "368377      0.921231      0.078769  0.064005  0.014764  0.003866  0.010899   \n",
       "384684      0.934641      0.065359  0.071526 -0.006166       NaN       NaN   \n",
       "\n",
       "        Season  \n",
       "244485    2014  \n",
       "115340    2011  \n",
       "68357     2010  \n",
       "368377    2017  \n",
       "384684    2017  \n",
       "\n",
       "[5 rows x 102 columns]"
      ]
     },
     "execution_count": 6,
     "metadata": {},
     "output_type": "execute_result"
    }
   ],
   "source": [
    "# look at a few rows of the nfl_data file. I can see a handful of missing data already!\n",
    "nfl_data.sample(5)"
   ]
  },
  {
   "cell_type": "code",
   "execution_count": 7,
   "id": "1d65fb7b",
   "metadata": {},
   "outputs": [
    {
     "data": {
      "text/html": [
       "<div>\n",
       "<style scoped>\n",
       "    .dataframe tbody tr th:only-of-type {\n",
       "        vertical-align: middle;\n",
       "    }\n",
       "\n",
       "    .dataframe tbody tr th {\n",
       "        vertical-align: top;\n",
       "    }\n",
       "\n",
       "    .dataframe thead th {\n",
       "        text-align: right;\n",
       "    }\n",
       "</style>\n",
       "<table border=\"1\" class=\"dataframe\">\n",
       "  <thead>\n",
       "    <tr style=\"text-align: right;\">\n",
       "      <th></th>\n",
       "      <th>Permit Number</th>\n",
       "      <th>Permit Type</th>\n",
       "      <th>Permit Type Definition</th>\n",
       "      <th>Permit Creation Date</th>\n",
       "      <th>Block</th>\n",
       "      <th>Lot</th>\n",
       "      <th>Street Number</th>\n",
       "      <th>Street Number Suffix</th>\n",
       "      <th>Street Name</th>\n",
       "      <th>Street Suffix</th>\n",
       "      <th>...</th>\n",
       "      <th>Existing Construction Type</th>\n",
       "      <th>Existing Construction Type Description</th>\n",
       "      <th>Proposed Construction Type</th>\n",
       "      <th>Proposed Construction Type Description</th>\n",
       "      <th>Site Permit</th>\n",
       "      <th>Supervisor District</th>\n",
       "      <th>Neighborhoods - Analysis Boundaries</th>\n",
       "      <th>Zipcode</th>\n",
       "      <th>Location</th>\n",
       "      <th>Record ID</th>\n",
       "    </tr>\n",
       "  </thead>\n",
       "  <tbody>\n",
       "    <tr>\n",
       "      <th>78651</th>\n",
       "      <td>201503120624</td>\n",
       "      <td>8</td>\n",
       "      <td>otc alterations permit</td>\n",
       "      <td>03/12/2015</td>\n",
       "      <td>4273</td>\n",
       "      <td>029</td>\n",
       "      <td>2986</td>\n",
       "      <td>NaN</td>\n",
       "      <td>26th</td>\n",
       "      <td>St</td>\n",
       "      <td>...</td>\n",
       "      <td>5.0</td>\n",
       "      <td>wood frame (5)</td>\n",
       "      <td>5.0</td>\n",
       "      <td>wood frame (5)</td>\n",
       "      <td>NaN</td>\n",
       "      <td>9.0</td>\n",
       "      <td>Mission</td>\n",
       "      <td>94110.0</td>\n",
       "      <td>(37.74972976527956, -122.40963202424835)</td>\n",
       "      <td>1374057173006</td>\n",
       "    </tr>\n",
       "    <tr>\n",
       "      <th>177779</th>\n",
       "      <td>201707071220</td>\n",
       "      <td>8</td>\n",
       "      <td>otc alterations permit</td>\n",
       "      <td>07/07/2017</td>\n",
       "      <td>0453</td>\n",
       "      <td>004A</td>\n",
       "      <td>950</td>\n",
       "      <td>NaN</td>\n",
       "      <td>Bay</td>\n",
       "      <td>St</td>\n",
       "      <td>...</td>\n",
       "      <td>5.0</td>\n",
       "      <td>wood frame (5)</td>\n",
       "      <td>5.0</td>\n",
       "      <td>wood frame (5)</td>\n",
       "      <td>NaN</td>\n",
       "      <td>2.0</td>\n",
       "      <td>Russian Hill</td>\n",
       "      <td>94109.0</td>\n",
       "      <td>(37.80472551510833, -122.42280760820965)</td>\n",
       "      <td>1469546420378</td>\n",
       "    </tr>\n",
       "    <tr>\n",
       "      <th>64978</th>\n",
       "      <td>M529127</td>\n",
       "      <td>8</td>\n",
       "      <td>otc alterations permit</td>\n",
       "      <td>10/21/2014</td>\n",
       "      <td>0478</td>\n",
       "      <td>011</td>\n",
       "      <td>1290</td>\n",
       "      <td>NaN</td>\n",
       "      <td>Chestnut</td>\n",
       "      <td>St</td>\n",
       "      <td>...</td>\n",
       "      <td>NaN</td>\n",
       "      <td>NaN</td>\n",
       "      <td>NaN</td>\n",
       "      <td>NaN</td>\n",
       "      <td>NaN</td>\n",
       "      <td>2.0</td>\n",
       "      <td>Russian Hill</td>\n",
       "      <td>94109.0</td>\n",
       "      <td>(37.80244997614665, -122.42443255018165)</td>\n",
       "      <td>1359656465959</td>\n",
       "    </tr>\n",
       "    <tr>\n",
       "      <th>165958</th>\n",
       "      <td>201704073507</td>\n",
       "      <td>8</td>\n",
       "      <td>otc alterations permit</td>\n",
       "      <td>04/07/2017</td>\n",
       "      <td>6507</td>\n",
       "      <td>003A</td>\n",
       "      <td>1134</td>\n",
       "      <td>NaN</td>\n",
       "      <td>Noe</td>\n",
       "      <td>St</td>\n",
       "      <td>...</td>\n",
       "      <td>5.0</td>\n",
       "      <td>wood frame (5)</td>\n",
       "      <td>5.0</td>\n",
       "      <td>wood frame (5)</td>\n",
       "      <td>NaN</td>\n",
       "      <td>8.0</td>\n",
       "      <td>Noe Valley</td>\n",
       "      <td>94114.0</td>\n",
       "      <td>(37.750866393629146, -122.43209633372915)</td>\n",
       "      <td>1458922436280</td>\n",
       "    </tr>\n",
       "    <tr>\n",
       "      <th>147902</th>\n",
       "      <td>201701237639</td>\n",
       "      <td>8</td>\n",
       "      <td>otc alterations permit</td>\n",
       "      <td>01/23/2017</td>\n",
       "      <td>0623</td>\n",
       "      <td>001</td>\n",
       "      <td>1755</td>\n",
       "      <td>NaN</td>\n",
       "      <td>Van Ness</td>\n",
       "      <td>Av</td>\n",
       "      <td>...</td>\n",
       "      <td>5.0</td>\n",
       "      <td>wood frame (5)</td>\n",
       "      <td>5.0</td>\n",
       "      <td>wood frame (5)</td>\n",
       "      <td>NaN</td>\n",
       "      <td>2.0</td>\n",
       "      <td>Pacific Heights</td>\n",
       "      <td>94109.0</td>\n",
       "      <td>(37.791925784456105, -122.42306858292103)</td>\n",
       "      <td>1450933235988</td>\n",
       "    </tr>\n",
       "  </tbody>\n",
       "</table>\n",
       "<p>5 rows × 43 columns</p>\n",
       "</div>"
      ],
      "text/plain": [
       "       Permit Number  Permit Type  Permit Type Definition  \\\n",
       "78651   201503120624            8  otc alterations permit   \n",
       "177779  201707071220            8  otc alterations permit   \n",
       "64978        M529127            8  otc alterations permit   \n",
       "165958  201704073507            8  otc alterations permit   \n",
       "147902  201701237639            8  otc alterations permit   \n",
       "\n",
       "       Permit Creation Date Block   Lot  Street Number Street Number Suffix  \\\n",
       "78651            03/12/2015  4273   029           2986                  NaN   \n",
       "177779           07/07/2017  0453  004A            950                  NaN   \n",
       "64978            10/21/2014  0478   011           1290                  NaN   \n",
       "165958           04/07/2017  6507  003A           1134                  NaN   \n",
       "147902           01/23/2017  0623   001           1755                  NaN   \n",
       "\n",
       "       Street Name Street Suffix  ...  Existing Construction Type  \\\n",
       "78651         26th            St  ...                         5.0   \n",
       "177779         Bay            St  ...                         5.0   \n",
       "64978     Chestnut            St  ...                         NaN   \n",
       "165958         Noe            St  ...                         5.0   \n",
       "147902    Van Ness            Av  ...                         5.0   \n",
       "\n",
       "       Existing Construction Type Description Proposed Construction Type  \\\n",
       "78651                          wood frame (5)                        5.0   \n",
       "177779                         wood frame (5)                        5.0   \n",
       "64978                                     NaN                        NaN   \n",
       "165958                         wood frame (5)                        5.0   \n",
       "147902                         wood frame (5)                        5.0   \n",
       "\n",
       "       Proposed Construction Type Description Site Permit Supervisor District  \\\n",
       "78651                          wood frame (5)         NaN                 9.0   \n",
       "177779                         wood frame (5)         NaN                 2.0   \n",
       "64978                                     NaN         NaN                 2.0   \n",
       "165958                         wood frame (5)         NaN                 8.0   \n",
       "147902                         wood frame (5)         NaN                 2.0   \n",
       "\n",
       "       Neighborhoods - Analysis Boundaries  Zipcode  \\\n",
       "78651                              Mission  94110.0   \n",
       "177779                        Russian Hill  94109.0   \n",
       "64978                         Russian Hill  94109.0   \n",
       "165958                          Noe Valley  94114.0   \n",
       "147902                     Pacific Heights  94109.0   \n",
       "\n",
       "                                         Location      Record ID  \n",
       "78651    (37.74972976527956, -122.40963202424835)  1374057173006  \n",
       "177779   (37.80472551510833, -122.42280760820965)  1469546420378  \n",
       "64978    (37.80244997614665, -122.42443255018165)  1359656465959  \n",
       "165958  (37.750866393629146, -122.43209633372915)  1458922436280  \n",
       "147902  (37.791925784456105, -122.42306858292103)  1450933235988  \n",
       "\n",
       "[5 rows x 43 columns]"
      ]
     },
     "execution_count": 7,
     "metadata": {},
     "output_type": "execute_result"
    }
   ],
   "source": [
    "sf_permits.sample(5) #A lot of missing values here as well , especially on the Site Permit"
   ]
  },
  {
   "cell_type": "markdown",
   "id": "ede949b4",
   "metadata": {},
   "source": [
    "### How many missing points we have?"
   ]
  },
  {
   "cell_type": "code",
   "execution_count": 39,
   "id": "f9cddaf9",
   "metadata": {},
   "outputs": [
    {
     "data": {
      "text/plain": [
       "Date                0\n",
       "GameID              0\n",
       "Drive               0\n",
       "qtr                 0\n",
       "down            61154\n",
       "time              224\n",
       "TimeUnder           0\n",
       "TimeSecs          224\n",
       "PlayTimeDiff      444\n",
       "SideofField       528\n",
       "dtype: int64"
      ]
     },
     "execution_count": 39,
     "metadata": {},
     "output_type": "execute_result"
    }
   ],
   "source": [
    "# get the number of missing data points per column\n",
    "missing_values_count = nfl_data.isnull().sum()\n",
    "\n",
    "# look at the number of missing points in the first ten columns\n",
    "missing_values_count[0:10]"
   ]
  },
  {
   "cell_type": "markdown",
   "id": "57c50f42",
   "metadata": {},
   "source": [
    "### It might be helpful to see what percentage of the values in our dataset were missing to give us a better sense of the scale of this problem:"
   ]
  },
  {
   "cell_type": "code",
   "execution_count": 40,
   "id": "5df70667",
   "metadata": {},
   "outputs": [],
   "source": [
    "# how many total missing values do we have?\n",
    "total_cells = np.product(nfl_data.shape)\n",
    "total_missing = missing_values_count.sum()"
   ]
  },
  {
   "cell_type": "code",
   "execution_count": 41,
   "id": "827fbea0",
   "metadata": {},
   "outputs": [
    {
     "data": {
      "text/plain": [
       "24.87214126835169"
      ]
     },
     "execution_count": 41,
     "metadata": {},
     "output_type": "execute_result"
    }
   ],
   "source": [
    "# percent of data that is missing\n",
    "(total_missing/total_cells) * 100"
   ]
  },
  {
   "cell_type": "markdown",
   "id": "31c01a42",
   "metadata": {},
   "source": [
    "***"
   ]
  },
  {
   "cell_type": "markdown",
   "id": "e0cac2cd",
   "metadata": {},
   "source": [
    "To find the % of total missing values in the dataset , we calculate the number of data rows x columns and the then we divided the by number of missing values :\n",
    "$$ \\frac{Total\\ Number\\ of\\ Data}{Total\\ Number\\ of\\ Missing\\ Data} *100 $$"
   ]
  },
  {
   "cell_type": "code",
   "execution_count": 11,
   "id": "190bc4f1",
   "metadata": {},
   "outputs": [
    {
     "data": {
      "text/plain": [
       "41584176"
      ]
     },
     "execution_count": 11,
     "metadata": {},
     "output_type": "execute_result"
    }
   ],
   "source": [
    "total_cells"
   ]
  },
  {
   "cell_type": "code",
   "execution_count": 13,
   "id": "97fa729b",
   "metadata": {},
   "outputs": [
    {
     "data": {
      "text/plain": [
       "(407688, 102)"
      ]
     },
     "execution_count": 13,
     "metadata": {},
     "output_type": "execute_result"
    }
   ],
   "source": [
    "nfl_data.shape"
   ]
  },
  {
   "cell_type": "code",
   "execution_count": 14,
   "id": "2244d297",
   "metadata": {},
   "outputs": [
    {
     "data": {
      "text/plain": [
       "41584176"
      ]
     },
     "execution_count": 14,
     "metadata": {},
     "output_type": "execute_result"
    }
   ],
   "source": [
    "102*407688"
   ]
  },
  {
   "cell_type": "code",
   "execution_count": 15,
   "id": "2e0c0823",
   "metadata": {},
   "outputs": [
    {
     "data": {
      "text/plain": [
       "10342875"
      ]
     },
     "execution_count": 15,
     "metadata": {},
     "output_type": "execute_result"
    }
   ],
   "source": [
    "missing_values_count.sum()"
   ]
  },
  {
   "cell_type": "markdown",
   "id": "4f735c91",
   "metadata": {},
   "source": [
    "***"
   ]
  },
  {
   "cell_type": "markdown",
   "id": "5ee1d58f",
   "metadata": {},
   "source": [
    "### 24.9% of the NFL data are missing"
   ]
  },
  {
   "cell_type": "code",
   "execution_count": 28,
   "id": "c34c25e0",
   "metadata": {},
   "outputs": [
    {
     "data": {
      "text/plain": [
       "Permit Number                  0\n",
       "Permit Type                    0\n",
       "Permit Type Definition         0\n",
       "Permit Creation Date           0\n",
       "Block                          0\n",
       "Lot                            0\n",
       "Street Number                  0\n",
       "Street Number Suffix      196684\n",
       "Street Name                    0\n",
       "Street Suffix               2768\n",
       "dtype: int64"
      ]
     },
     "execution_count": 28,
     "metadata": {},
     "output_type": "execute_result"
    }
   ],
   "source": [
    "missing_count = sf_permits.isnull().sum()\n",
    "missing_count[0:10]"
   ]
  },
  {
   "cell_type": "code",
   "execution_count": 29,
   "id": "2861c4eb",
   "metadata": {},
   "outputs": [
    {
     "data": {
      "text/plain": [
       "(198900, 43)"
      ]
     },
     "execution_count": 29,
     "metadata": {},
     "output_type": "execute_result"
    }
   ],
   "source": [
    "sf_permits.shape"
   ]
  },
  {
   "cell_type": "code",
   "execution_count": 34,
   "id": "4b3ce327",
   "metadata": {},
   "outputs": [],
   "source": [
    "# how many total missing values do we have?\n",
    "total_cells = np.product(sf_permits.shape)\n",
    "total_missing = missing_values_count.sum()"
   ]
  },
  {
   "cell_type": "code",
   "execution_count": 35,
   "id": "e4369fce",
   "metadata": {},
   "outputs": [
    {
     "data": {
      "text/plain": [
       "2245941"
      ]
     },
     "execution_count": 35,
     "metadata": {},
     "output_type": "execute_result"
    }
   ],
   "source": [
    "total_missing "
   ]
  },
  {
   "cell_type": "code",
   "execution_count": 38,
   "id": "12eb64c3",
   "metadata": {},
   "outputs": [
    {
     "data": {
      "text/plain": [
       "26.26002315058403"
      ]
     },
     "execution_count": 38,
     "metadata": {},
     "output_type": "execute_result"
    }
   ],
   "source": [
    "# percent of data that is missing\n",
    "(total_missing/total_cells) * 100"
   ]
  },
  {
   "cell_type": "markdown",
   "id": "0991cdf2",
   "metadata": {},
   "source": [
    "### 26.3% of the San Francisco data are missing"
   ]
  },
  {
   "cell_type": "markdown",
   "id": "f1addef5",
   "metadata": {},
   "source": [
    "## Figuring out why the data is missing\n"
   ]
  },
  {
   "cell_type": "markdown",
   "id": "af92a0cd",
   "metadata": {},
   "source": [
    "This is the point at which we get into the part of data science called **\"data intution\"**, by which I mean \"really looking at your data and trying to figure out **why** it is the way it is and **how** that will affect your analysis\".For dealing with missing values, you'll need to use your intution to figure out why the value is missing. One of the most important question you can ask yourself to help figure this out is this:\n",
    "\n",
    "> **Is this value missing because it wasn't recorded or because it dosen't exist?**"
   ]
  },
  {
   "cell_type": "markdown",
   "id": "5634786b",
   "metadata": {},
   "source": [
    "- If a value is missing because **it doens't exist** (like the height of the oldest child of someone who doesn't have any children) then it doesn't make sense to try and guess what it might be. These values you probably do want to keep as NaN. \n",
    "- On the other hand, if a value is missing because **it wasn't recorded**, then you can try to guess what it might have been based on the other values in that column and row. (This is called \"imputation\")"
   ]
  },
  {
   "cell_type": "code",
   "execution_count": 42,
   "id": "3fcba9b7",
   "metadata": {},
   "outputs": [
    {
     "data": {
      "text/plain": [
       "Date                0\n",
       "GameID              0\n",
       "Drive               0\n",
       "qtr                 0\n",
       "down            61154\n",
       "time              224\n",
       "TimeUnder           0\n",
       "TimeSecs          224\n",
       "PlayTimeDiff      444\n",
       "SideofField       528\n",
       "dtype: int64"
      ]
     },
     "execution_count": 42,
     "metadata": {},
     "output_type": "execute_result"
    }
   ],
   "source": [
    "# look at the # of missing points in the first ten columns NFL data\n",
    "missing_values_count[0:10]"
   ]
  },
  {
   "cell_type": "markdown",
   "id": "c1ade81e",
   "metadata": {},
   "source": [
    "**TimeSecs**: this column has information on the number of seconds left in the game when the play was made. his means that these values are probably missing because they were not recorded, rather than because they don't exist. \n",
    "\n",
    "So, it would make sense for us to try and guess what they should be rather than just leaving them as NA's.\n"
   ]
  },
  {
   "cell_type": "markdown",
   "id": "58d68f79",
   "metadata": {},
   "source": [
    "On the other hand, there are other fields, like **PenalizedTeam** that also have lot of missing fields. In this case, though, the field is missing because if there was no penalty then it doesn't make sense to say which team was penalized\n",
    "\n",
    "For this column, it would make more sense to either leave it empty or to add a third value like \"neither\" and use that to replace the NA's."
   ]
  },
  {
   "cell_type": "markdown",
   "id": "0a613af5",
   "metadata": {},
   "source": [
    "## Drop missing values\n"
   ]
  },
  {
   "cell_type": "markdown",
   "id": "d75220c0",
   "metadata": {},
   "source": [
    "If you're sure you want to drop rows with missing values, pandas does have a handy function, dropna() to help you do this. Let's try it out on our NFL dataset!"
   ]
  },
  {
   "cell_type": "code",
   "execution_count": 48,
   "id": "f8e3d136",
   "metadata": {},
   "outputs": [
    {
     "data": {
      "text/html": [
       "<div>\n",
       "<style scoped>\n",
       "    .dataframe tbody tr th:only-of-type {\n",
       "        vertical-align: middle;\n",
       "    }\n",
       "\n",
       "    .dataframe tbody tr th {\n",
       "        vertical-align: top;\n",
       "    }\n",
       "\n",
       "    .dataframe thead th {\n",
       "        text-align: right;\n",
       "    }\n",
       "</style>\n",
       "<table border=\"1\" class=\"dataframe\">\n",
       "  <thead>\n",
       "    <tr style=\"text-align: right;\">\n",
       "      <th></th>\n",
       "      <th>Date</th>\n",
       "      <th>GameID</th>\n",
       "      <th>Drive</th>\n",
       "      <th>qtr</th>\n",
       "      <th>down</th>\n",
       "      <th>time</th>\n",
       "      <th>TimeUnder</th>\n",
       "      <th>TimeSecs</th>\n",
       "      <th>PlayTimeDiff</th>\n",
       "      <th>SideofField</th>\n",
       "      <th>...</th>\n",
       "      <th>yacEPA</th>\n",
       "      <th>Home_WP_pre</th>\n",
       "      <th>Away_WP_pre</th>\n",
       "      <th>Home_WP_post</th>\n",
       "      <th>Away_WP_post</th>\n",
       "      <th>Win_Prob</th>\n",
       "      <th>WPA</th>\n",
       "      <th>airWPA</th>\n",
       "      <th>yacWPA</th>\n",
       "      <th>Season</th>\n",
       "    </tr>\n",
       "  </thead>\n",
       "  <tbody>\n",
       "  </tbody>\n",
       "</table>\n",
       "<p>0 rows × 102 columns</p>\n",
       "</div>"
      ],
      "text/plain": [
       "Empty DataFrame\n",
       "Columns: [Date, GameID, Drive, qtr, down, time, TimeUnder, TimeSecs, PlayTimeDiff, SideofField, yrdln, yrdline100, ydstogo, ydsnet, GoalToGo, FirstDown, posteam, DefensiveTeam, desc, PlayAttempted, Yards.Gained, sp, Touchdown, ExPointResult, TwoPointConv, DefTwoPoint, Safety, Onsidekick, PuntResult, PlayType, Passer, Passer_ID, PassAttempt, PassOutcome, PassLength, AirYards, YardsAfterCatch, QBHit, PassLocation, InterceptionThrown, Interceptor, Rusher, Rusher_ID, RushAttempt, RunLocation, RunGap, Receiver, Receiver_ID, Reception, ReturnResult, Returner, BlockingPlayer, Tackler1, Tackler2, FieldGoalResult, FieldGoalDistance, Fumble, RecFumbTeam, RecFumbPlayer, Sack, Challenge.Replay, ChalReplayResult, Accepted.Penalty, PenalizedTeam, PenaltyType, PenalizedPlayer, Penalty.Yards, PosTeamScore, DefTeamScore, ScoreDiff, AbsScoreDiff, HomeTeam, AwayTeam, Timeout_Indicator, Timeout_Team, posteam_timeouts_pre, HomeTimeouts_Remaining_Pre, AwayTimeouts_Remaining_Pre, HomeTimeouts_Remaining_Post, AwayTimeouts_Remaining_Post, No_Score_Prob, Opp_Field_Goal_Prob, Opp_Safety_Prob, Opp_Touchdown_Prob, Field_Goal_Prob, Safety_Prob, Touchdown_Prob, ExPoint_Prob, TwoPoint_Prob, ExpPts, EPA, airEPA, yacEPA, Home_WP_pre, Away_WP_pre, Home_WP_post, Away_WP_post, Win_Prob, WPA, airWPA, ...]\n",
       "Index: []\n",
       "\n",
       "[0 rows x 102 columns]"
      ]
     },
     "execution_count": 48,
     "metadata": {},
     "output_type": "execute_result"
    }
   ],
   "source": [
    "# remove all the rows that contain a missing value\n",
    "nfl_data.dropna()"
   ]
  },
  {
   "cell_type": "markdown",
   "id": "f084cbd0",
   "metadata": {},
   "source": [
    " it looks like that's removed all our data! 😱 This is because every row in our dataset had at least one missing value. We might have better luck removing all the columns that have at least one missing value instead."
   ]
  },
  {
   "cell_type": "code",
   "execution_count": 56,
   "id": "ff16d626",
   "metadata": {},
   "outputs": [
    {
     "data": {
      "text/html": [
       "<div>\n",
       "<style scoped>\n",
       "    .dataframe tbody tr th:only-of-type {\n",
       "        vertical-align: middle;\n",
       "    }\n",
       "\n",
       "    .dataframe tbody tr th {\n",
       "        vertical-align: top;\n",
       "    }\n",
       "\n",
       "    .dataframe thead th {\n",
       "        text-align: right;\n",
       "    }\n",
       "</style>\n",
       "<table border=\"1\" class=\"dataframe\">\n",
       "  <thead>\n",
       "    <tr style=\"text-align: right;\">\n",
       "      <th></th>\n",
       "      <th>Date</th>\n",
       "      <th>GameID</th>\n",
       "      <th>Drive</th>\n",
       "      <th>qtr</th>\n",
       "      <th>TimeUnder</th>\n",
       "      <th>ydstogo</th>\n",
       "      <th>ydsnet</th>\n",
       "      <th>PlayAttempted</th>\n",
       "      <th>Yards.Gained</th>\n",
       "      <th>sp</th>\n",
       "      <th>...</th>\n",
       "      <th>Timeout_Indicator</th>\n",
       "      <th>Timeout_Team</th>\n",
       "      <th>posteam_timeouts_pre</th>\n",
       "      <th>HomeTimeouts_Remaining_Pre</th>\n",
       "      <th>AwayTimeouts_Remaining_Pre</th>\n",
       "      <th>HomeTimeouts_Remaining_Post</th>\n",
       "      <th>AwayTimeouts_Remaining_Post</th>\n",
       "      <th>ExPoint_Prob</th>\n",
       "      <th>TwoPoint_Prob</th>\n",
       "      <th>Season</th>\n",
       "    </tr>\n",
       "  </thead>\n",
       "  <tbody>\n",
       "    <tr>\n",
       "      <th>0</th>\n",
       "      <td>2009-09-10</td>\n",
       "      <td>2009091000</td>\n",
       "      <td>1</td>\n",
       "      <td>1</td>\n",
       "      <td>15</td>\n",
       "      <td>0</td>\n",
       "      <td>0</td>\n",
       "      <td>1</td>\n",
       "      <td>39</td>\n",
       "      <td>0</td>\n",
       "      <td>...</td>\n",
       "      <td>0</td>\n",
       "      <td>None</td>\n",
       "      <td>3</td>\n",
       "      <td>3</td>\n",
       "      <td>3</td>\n",
       "      <td>3</td>\n",
       "      <td>3</td>\n",
       "      <td>0.0</td>\n",
       "      <td>0.0</td>\n",
       "      <td>2009</td>\n",
       "    </tr>\n",
       "    <tr>\n",
       "      <th>1</th>\n",
       "      <td>2009-09-10</td>\n",
       "      <td>2009091000</td>\n",
       "      <td>1</td>\n",
       "      <td>1</td>\n",
       "      <td>15</td>\n",
       "      <td>10</td>\n",
       "      <td>5</td>\n",
       "      <td>1</td>\n",
       "      <td>5</td>\n",
       "      <td>0</td>\n",
       "      <td>...</td>\n",
       "      <td>0</td>\n",
       "      <td>None</td>\n",
       "      <td>3</td>\n",
       "      <td>3</td>\n",
       "      <td>3</td>\n",
       "      <td>3</td>\n",
       "      <td>3</td>\n",
       "      <td>0.0</td>\n",
       "      <td>0.0</td>\n",
       "      <td>2009</td>\n",
       "    </tr>\n",
       "    <tr>\n",
       "      <th>2</th>\n",
       "      <td>2009-09-10</td>\n",
       "      <td>2009091000</td>\n",
       "      <td>1</td>\n",
       "      <td>1</td>\n",
       "      <td>15</td>\n",
       "      <td>5</td>\n",
       "      <td>2</td>\n",
       "      <td>1</td>\n",
       "      <td>-3</td>\n",
       "      <td>0</td>\n",
       "      <td>...</td>\n",
       "      <td>0</td>\n",
       "      <td>None</td>\n",
       "      <td>3</td>\n",
       "      <td>3</td>\n",
       "      <td>3</td>\n",
       "      <td>3</td>\n",
       "      <td>3</td>\n",
       "      <td>0.0</td>\n",
       "      <td>0.0</td>\n",
       "      <td>2009</td>\n",
       "    </tr>\n",
       "    <tr>\n",
       "      <th>3</th>\n",
       "      <td>2009-09-10</td>\n",
       "      <td>2009091000</td>\n",
       "      <td>1</td>\n",
       "      <td>1</td>\n",
       "      <td>14</td>\n",
       "      <td>8</td>\n",
       "      <td>2</td>\n",
       "      <td>1</td>\n",
       "      <td>0</td>\n",
       "      <td>0</td>\n",
       "      <td>...</td>\n",
       "      <td>0</td>\n",
       "      <td>None</td>\n",
       "      <td>3</td>\n",
       "      <td>3</td>\n",
       "      <td>3</td>\n",
       "      <td>3</td>\n",
       "      <td>3</td>\n",
       "      <td>0.0</td>\n",
       "      <td>0.0</td>\n",
       "      <td>2009</td>\n",
       "    </tr>\n",
       "    <tr>\n",
       "      <th>4</th>\n",
       "      <td>2009-09-10</td>\n",
       "      <td>2009091000</td>\n",
       "      <td>1</td>\n",
       "      <td>1</td>\n",
       "      <td>14</td>\n",
       "      <td>8</td>\n",
       "      <td>2</td>\n",
       "      <td>1</td>\n",
       "      <td>0</td>\n",
       "      <td>0</td>\n",
       "      <td>...</td>\n",
       "      <td>0</td>\n",
       "      <td>None</td>\n",
       "      <td>3</td>\n",
       "      <td>3</td>\n",
       "      <td>3</td>\n",
       "      <td>3</td>\n",
       "      <td>3</td>\n",
       "      <td>0.0</td>\n",
       "      <td>0.0</td>\n",
       "      <td>2009</td>\n",
       "    </tr>\n",
       "  </tbody>\n",
       "</table>\n",
       "<p>5 rows × 41 columns</p>\n",
       "</div>"
      ],
      "text/plain": [
       "         Date      GameID  Drive  qtr  TimeUnder  ydstogo  ydsnet  \\\n",
       "0  2009-09-10  2009091000      1    1         15        0       0   \n",
       "1  2009-09-10  2009091000      1    1         15       10       5   \n",
       "2  2009-09-10  2009091000      1    1         15        5       2   \n",
       "3  2009-09-10  2009091000      1    1         14        8       2   \n",
       "4  2009-09-10  2009091000      1    1         14        8       2   \n",
       "\n",
       "   PlayAttempted  Yards.Gained  sp  ...  Timeout_Indicator  Timeout_Team  \\\n",
       "0              1            39   0  ...                  0          None   \n",
       "1              1             5   0  ...                  0          None   \n",
       "2              1            -3   0  ...                  0          None   \n",
       "3              1             0   0  ...                  0          None   \n",
       "4              1             0   0  ...                  0          None   \n",
       "\n",
       "   posteam_timeouts_pre HomeTimeouts_Remaining_Pre AwayTimeouts_Remaining_Pre  \\\n",
       "0                     3                          3                          3   \n",
       "1                     3                          3                          3   \n",
       "2                     3                          3                          3   \n",
       "3                     3                          3                          3   \n",
       "4                     3                          3                          3   \n",
       "\n",
       "   HomeTimeouts_Remaining_Post  AwayTimeouts_Remaining_Post  ExPoint_Prob  \\\n",
       "0                            3                            3           0.0   \n",
       "1                            3                            3           0.0   \n",
       "2                            3                            3           0.0   \n",
       "3                            3                            3           0.0   \n",
       "4                            3                            3           0.0   \n",
       "\n",
       "   TwoPoint_Prob  Season  \n",
       "0            0.0    2009  \n",
       "1            0.0    2009  \n",
       "2            0.0    2009  \n",
       "3            0.0    2009  \n",
       "4            0.0    2009  \n",
       "\n",
       "[5 rows x 41 columns]"
      ]
     },
     "execution_count": 56,
     "metadata": {},
     "output_type": "execute_result"
    }
   ],
   "source": [
    "# remove all columns with at least one missing value\n",
    "columns_with_na_dropped = nfl_data.dropna(axis=1)\n",
    "columns_with_na_dropped.head()"
   ]
  },
  {
   "cell_type": "code",
   "execution_count": 50,
   "id": "23facfe5",
   "metadata": {},
   "outputs": [
    {
     "name": "stdout",
     "output_type": "stream",
     "text": [
      "Columns in original dataset: 102 \n",
      "\n",
      "Columns with na's dropped: 41\n"
     ]
    }
   ],
   "source": [
    "# just how much data did we lose?\n",
    "print(\"Columns in original dataset: %d \\n\" % nfl_data.shape[1])\n",
    "print(\"Columns with na's dropped: %d\" % columns_with_na_dropped.shape[1])"
   ]
  },
  {
   "cell_type": "markdown",
   "id": "2dec31d8",
   "metadata": {},
   "source": [
    "***"
   ]
  },
  {
   "cell_type": "markdown",
   "id": "ec92d81c",
   "metadata": {},
   "source": [
    "Trying the same on the sf data"
   ]
  },
  {
   "cell_type": "code",
   "execution_count": 52,
   "id": "339bf6cc",
   "metadata": {},
   "outputs": [
    {
     "data": {
      "text/html": [
       "<div>\n",
       "<style scoped>\n",
       "    .dataframe tbody tr th:only-of-type {\n",
       "        vertical-align: middle;\n",
       "    }\n",
       "\n",
       "    .dataframe tbody tr th {\n",
       "        vertical-align: top;\n",
       "    }\n",
       "\n",
       "    .dataframe thead th {\n",
       "        text-align: right;\n",
       "    }\n",
       "</style>\n",
       "<table border=\"1\" class=\"dataframe\">\n",
       "  <thead>\n",
       "    <tr style=\"text-align: right;\">\n",
       "      <th></th>\n",
       "      <th>Permit Number</th>\n",
       "      <th>Permit Type</th>\n",
       "      <th>Permit Type Definition</th>\n",
       "      <th>Permit Creation Date</th>\n",
       "      <th>Block</th>\n",
       "      <th>Lot</th>\n",
       "      <th>Street Number</th>\n",
       "      <th>Street Number Suffix</th>\n",
       "      <th>Street Name</th>\n",
       "      <th>Street Suffix</th>\n",
       "      <th>...</th>\n",
       "      <th>Existing Construction Type</th>\n",
       "      <th>Existing Construction Type Description</th>\n",
       "      <th>Proposed Construction Type</th>\n",
       "      <th>Proposed Construction Type Description</th>\n",
       "      <th>Site Permit</th>\n",
       "      <th>Supervisor District</th>\n",
       "      <th>Neighborhoods - Analysis Boundaries</th>\n",
       "      <th>Zipcode</th>\n",
       "      <th>Location</th>\n",
       "      <th>Record ID</th>\n",
       "    </tr>\n",
       "  </thead>\n",
       "  <tbody>\n",
       "  </tbody>\n",
       "</table>\n",
       "<p>0 rows × 43 columns</p>\n",
       "</div>"
      ],
      "text/plain": [
       "Empty DataFrame\n",
       "Columns: [Permit Number, Permit Type, Permit Type Definition, Permit Creation Date, Block, Lot, Street Number, Street Number Suffix, Street Name, Street Suffix, Unit, Unit Suffix, Description, Current Status, Current Status Date, Filed Date, Issued Date, Completed Date, First Construction Document Date, Structural Notification, Number of Existing Stories, Number of Proposed Stories, Voluntary Soft-Story Retrofit, Fire Only Permit, Permit Expiration Date, Estimated Cost, Revised Cost, Existing Use, Existing Units, Proposed Use, Proposed Units, Plansets, TIDF Compliance, Existing Construction Type, Existing Construction Type Description, Proposed Construction Type, Proposed Construction Type Description, Site Permit, Supervisor District, Neighborhoods - Analysis Boundaries, Zipcode, Location, Record ID]\n",
       "Index: []\n",
       "\n",
       "[0 rows x 43 columns]"
      ]
     },
     "execution_count": 52,
     "metadata": {},
     "output_type": "execute_result"
    }
   ],
   "source": [
    "# remove all the rows that contain a missing value\n",
    "sf_permits.dropna()"
   ]
  },
  {
   "cell_type": "code",
   "execution_count": 54,
   "id": "8caa45af",
   "metadata": {},
   "outputs": [
    {
     "data": {
      "text/html": [
       "<div>\n",
       "<style scoped>\n",
       "    .dataframe tbody tr th:only-of-type {\n",
       "        vertical-align: middle;\n",
       "    }\n",
       "\n",
       "    .dataframe tbody tr th {\n",
       "        vertical-align: top;\n",
       "    }\n",
       "\n",
       "    .dataframe thead th {\n",
       "        text-align: right;\n",
       "    }\n",
       "</style>\n",
       "<table border=\"1\" class=\"dataframe\">\n",
       "  <thead>\n",
       "    <tr style=\"text-align: right;\">\n",
       "      <th></th>\n",
       "      <th>Permit Number</th>\n",
       "      <th>Permit Type</th>\n",
       "      <th>Permit Type Definition</th>\n",
       "      <th>Permit Creation Date</th>\n",
       "      <th>Block</th>\n",
       "      <th>Lot</th>\n",
       "      <th>Street Number</th>\n",
       "      <th>Street Name</th>\n",
       "      <th>Current Status</th>\n",
       "      <th>Current Status Date</th>\n",
       "      <th>Filed Date</th>\n",
       "      <th>Record ID</th>\n",
       "    </tr>\n",
       "  </thead>\n",
       "  <tbody>\n",
       "    <tr>\n",
       "      <th>0</th>\n",
       "      <td>201505065519</td>\n",
       "      <td>4</td>\n",
       "      <td>sign - erect</td>\n",
       "      <td>05/06/2015</td>\n",
       "      <td>0326</td>\n",
       "      <td>023</td>\n",
       "      <td>140</td>\n",
       "      <td>Ellis</td>\n",
       "      <td>expired</td>\n",
       "      <td>12/21/2017</td>\n",
       "      <td>05/06/2015</td>\n",
       "      <td>1380611233945</td>\n",
       "    </tr>\n",
       "    <tr>\n",
       "      <th>1</th>\n",
       "      <td>201604195146</td>\n",
       "      <td>4</td>\n",
       "      <td>sign - erect</td>\n",
       "      <td>04/19/2016</td>\n",
       "      <td>0306</td>\n",
       "      <td>007</td>\n",
       "      <td>440</td>\n",
       "      <td>Geary</td>\n",
       "      <td>issued</td>\n",
       "      <td>08/03/2017</td>\n",
       "      <td>04/19/2016</td>\n",
       "      <td>1420164406718</td>\n",
       "    </tr>\n",
       "    <tr>\n",
       "      <th>2</th>\n",
       "      <td>201605278609</td>\n",
       "      <td>3</td>\n",
       "      <td>additions alterations or repairs</td>\n",
       "      <td>05/27/2016</td>\n",
       "      <td>0595</td>\n",
       "      <td>203</td>\n",
       "      <td>1647</td>\n",
       "      <td>Pacific</td>\n",
       "      <td>withdrawn</td>\n",
       "      <td>09/26/2017</td>\n",
       "      <td>05/27/2016</td>\n",
       "      <td>1424856504716</td>\n",
       "    </tr>\n",
       "    <tr>\n",
       "      <th>3</th>\n",
       "      <td>201611072166</td>\n",
       "      <td>8</td>\n",
       "      <td>otc alterations permit</td>\n",
       "      <td>11/07/2016</td>\n",
       "      <td>0156</td>\n",
       "      <td>011</td>\n",
       "      <td>1230</td>\n",
       "      <td>Pacific</td>\n",
       "      <td>complete</td>\n",
       "      <td>07/24/2017</td>\n",
       "      <td>11/07/2016</td>\n",
       "      <td>1443574295566</td>\n",
       "    </tr>\n",
       "    <tr>\n",
       "      <th>4</th>\n",
       "      <td>201611283529</td>\n",
       "      <td>6</td>\n",
       "      <td>demolitions</td>\n",
       "      <td>11/28/2016</td>\n",
       "      <td>0342</td>\n",
       "      <td>001</td>\n",
       "      <td>950</td>\n",
       "      <td>Market</td>\n",
       "      <td>issued</td>\n",
       "      <td>12/01/2017</td>\n",
       "      <td>11/28/2016</td>\n",
       "      <td>144548169992</td>\n",
       "    </tr>\n",
       "  </tbody>\n",
       "</table>\n",
       "</div>"
      ],
      "text/plain": [
       "  Permit Number  Permit Type            Permit Type Definition  \\\n",
       "0  201505065519            4                      sign - erect   \n",
       "1  201604195146            4                      sign - erect   \n",
       "2  201605278609            3  additions alterations or repairs   \n",
       "3  201611072166            8            otc alterations permit   \n",
       "4  201611283529            6                       demolitions   \n",
       "\n",
       "  Permit Creation Date Block  Lot  Street Number Street Name Current Status  \\\n",
       "0           05/06/2015  0326  023            140       Ellis        expired   \n",
       "1           04/19/2016  0306  007            440       Geary         issued   \n",
       "2           05/27/2016  0595  203           1647     Pacific      withdrawn   \n",
       "3           11/07/2016  0156  011           1230     Pacific       complete   \n",
       "4           11/28/2016  0342  001            950      Market         issued   \n",
       "\n",
       "  Current Status Date  Filed Date      Record ID  \n",
       "0          12/21/2017  05/06/2015  1380611233945  \n",
       "1          08/03/2017  04/19/2016  1420164406718  \n",
       "2          09/26/2017  05/27/2016  1424856504716  \n",
       "3          07/24/2017  11/07/2016  1443574295566  \n",
       "4          12/01/2017  11/28/2016   144548169992  "
      ]
     },
     "execution_count": 54,
     "metadata": {},
     "output_type": "execute_result"
    }
   ],
   "source": [
    "# remove all columns with at least one missing value\n",
    "columns_dropped = sf_permits.dropna(axis=1)\n",
    "columns_dropped.head()"
   ]
  },
  {
   "cell_type": "code",
   "execution_count": 55,
   "id": "048493bd",
   "metadata": {},
   "outputs": [
    {
     "name": "stdout",
     "output_type": "stream",
     "text": [
      "Columns in original dataset: 43 \n",
      "\n",
      "Columns with na's dropped: 12\n"
     ]
    }
   ],
   "source": [
    "# just how much data did we lose?\n",
    "print(\"Columns in original dataset: %d \\n\" % sf_permits.shape[1])\n",
    "print(\"Columns with na's dropped: %d\" % columns_dropped.shape[1])"
   ]
  },
  {
   "cell_type": "markdown",
   "id": "f4022eb9",
   "metadata": {},
   "source": [
    "***"
   ]
  },
  {
   "cell_type": "markdown",
   "id": "0edd28df",
   "metadata": {},
   "source": [
    "## Filling in missing values automatically\n"
   ]
  },
  {
   "cell_type": "code",
   "execution_count": 57,
   "id": "26440c4f",
   "metadata": {},
   "outputs": [
    {
     "data": {
      "text/html": [
       "<div>\n",
       "<style scoped>\n",
       "    .dataframe tbody tr th:only-of-type {\n",
       "        vertical-align: middle;\n",
       "    }\n",
       "\n",
       "    .dataframe tbody tr th {\n",
       "        vertical-align: top;\n",
       "    }\n",
       "\n",
       "    .dataframe thead th {\n",
       "        text-align: right;\n",
       "    }\n",
       "</style>\n",
       "<table border=\"1\" class=\"dataframe\">\n",
       "  <thead>\n",
       "    <tr style=\"text-align: right;\">\n",
       "      <th></th>\n",
       "      <th>Date</th>\n",
       "      <th>GameID</th>\n",
       "      <th>Drive</th>\n",
       "      <th>qtr</th>\n",
       "      <th>down</th>\n",
       "      <th>time</th>\n",
       "      <th>TimeUnder</th>\n",
       "      <th>TimeSecs</th>\n",
       "      <th>PlayTimeDiff</th>\n",
       "      <th>SideofField</th>\n",
       "      <th>...</th>\n",
       "      <th>yacEPA</th>\n",
       "      <th>Home_WP_pre</th>\n",
       "      <th>Away_WP_pre</th>\n",
       "      <th>Home_WP_post</th>\n",
       "      <th>Away_WP_post</th>\n",
       "      <th>Win_Prob</th>\n",
       "      <th>WPA</th>\n",
       "      <th>airWPA</th>\n",
       "      <th>yacWPA</th>\n",
       "      <th>Season</th>\n",
       "    </tr>\n",
       "  </thead>\n",
       "  <tbody>\n",
       "    <tr>\n",
       "      <th>0</th>\n",
       "      <td>2009-09-10</td>\n",
       "      <td>2009091000</td>\n",
       "      <td>1</td>\n",
       "      <td>1</td>\n",
       "      <td>NaN</td>\n",
       "      <td>15:00</td>\n",
       "      <td>15</td>\n",
       "      <td>3600.0</td>\n",
       "      <td>0.0</td>\n",
       "      <td>TEN</td>\n",
       "      <td>...</td>\n",
       "      <td>NaN</td>\n",
       "      <td>0.485675</td>\n",
       "      <td>0.514325</td>\n",
       "      <td>0.546433</td>\n",
       "      <td>0.453567</td>\n",
       "      <td>0.485675</td>\n",
       "      <td>0.060758</td>\n",
       "      <td>NaN</td>\n",
       "      <td>NaN</td>\n",
       "      <td>2009</td>\n",
       "    </tr>\n",
       "    <tr>\n",
       "      <th>1</th>\n",
       "      <td>2009-09-10</td>\n",
       "      <td>2009091000</td>\n",
       "      <td>1</td>\n",
       "      <td>1</td>\n",
       "      <td>1.0</td>\n",
       "      <td>14:53</td>\n",
       "      <td>15</td>\n",
       "      <td>3593.0</td>\n",
       "      <td>7.0</td>\n",
       "      <td>PIT</td>\n",
       "      <td>...</td>\n",
       "      <td>1.146076</td>\n",
       "      <td>0.546433</td>\n",
       "      <td>0.453567</td>\n",
       "      <td>0.551088</td>\n",
       "      <td>0.448912</td>\n",
       "      <td>0.546433</td>\n",
       "      <td>0.004655</td>\n",
       "      <td>-0.032244</td>\n",
       "      <td>0.036899</td>\n",
       "      <td>2009</td>\n",
       "    </tr>\n",
       "    <tr>\n",
       "      <th>2</th>\n",
       "      <td>2009-09-10</td>\n",
       "      <td>2009091000</td>\n",
       "      <td>1</td>\n",
       "      <td>1</td>\n",
       "      <td>2.0</td>\n",
       "      <td>14:16</td>\n",
       "      <td>15</td>\n",
       "      <td>3556.0</td>\n",
       "      <td>37.0</td>\n",
       "      <td>PIT</td>\n",
       "      <td>...</td>\n",
       "      <td>NaN</td>\n",
       "      <td>0.551088</td>\n",
       "      <td>0.448912</td>\n",
       "      <td>0.510793</td>\n",
       "      <td>0.489207</td>\n",
       "      <td>0.551088</td>\n",
       "      <td>-0.040295</td>\n",
       "      <td>NaN</td>\n",
       "      <td>NaN</td>\n",
       "      <td>2009</td>\n",
       "    </tr>\n",
       "    <tr>\n",
       "      <th>3</th>\n",
       "      <td>2009-09-10</td>\n",
       "      <td>2009091000</td>\n",
       "      <td>1</td>\n",
       "      <td>1</td>\n",
       "      <td>3.0</td>\n",
       "      <td>13:35</td>\n",
       "      <td>14</td>\n",
       "      <td>3515.0</td>\n",
       "      <td>41.0</td>\n",
       "      <td>PIT</td>\n",
       "      <td>...</td>\n",
       "      <td>-5.031425</td>\n",
       "      <td>0.510793</td>\n",
       "      <td>0.489207</td>\n",
       "      <td>0.461217</td>\n",
       "      <td>0.538783</td>\n",
       "      <td>0.510793</td>\n",
       "      <td>-0.049576</td>\n",
       "      <td>0.106663</td>\n",
       "      <td>-0.156239</td>\n",
       "      <td>2009</td>\n",
       "    </tr>\n",
       "    <tr>\n",
       "      <th>4</th>\n",
       "      <td>2009-09-10</td>\n",
       "      <td>2009091000</td>\n",
       "      <td>1</td>\n",
       "      <td>1</td>\n",
       "      <td>4.0</td>\n",
       "      <td>13:27</td>\n",
       "      <td>14</td>\n",
       "      <td>3507.0</td>\n",
       "      <td>8.0</td>\n",
       "      <td>PIT</td>\n",
       "      <td>...</td>\n",
       "      <td>NaN</td>\n",
       "      <td>0.461217</td>\n",
       "      <td>0.538783</td>\n",
       "      <td>0.558929</td>\n",
       "      <td>0.441071</td>\n",
       "      <td>0.461217</td>\n",
       "      <td>0.097712</td>\n",
       "      <td>NaN</td>\n",
       "      <td>NaN</td>\n",
       "      <td>2009</td>\n",
       "    </tr>\n",
       "  </tbody>\n",
       "</table>\n",
       "<p>5 rows × 102 columns</p>\n",
       "</div>"
      ],
      "text/plain": [
       "         Date      GameID  Drive  qtr  down   time  TimeUnder  TimeSecs  \\\n",
       "0  2009-09-10  2009091000      1    1   NaN  15:00         15    3600.0   \n",
       "1  2009-09-10  2009091000      1    1   1.0  14:53         15    3593.0   \n",
       "2  2009-09-10  2009091000      1    1   2.0  14:16         15    3556.0   \n",
       "3  2009-09-10  2009091000      1    1   3.0  13:35         14    3515.0   \n",
       "4  2009-09-10  2009091000      1    1   4.0  13:27         14    3507.0   \n",
       "\n",
       "   PlayTimeDiff SideofField  ...    yacEPA  Home_WP_pre  Away_WP_pre  \\\n",
       "0           0.0         TEN  ...       NaN     0.485675     0.514325   \n",
       "1           7.0         PIT  ...  1.146076     0.546433     0.453567   \n",
       "2          37.0         PIT  ...       NaN     0.551088     0.448912   \n",
       "3          41.0         PIT  ... -5.031425     0.510793     0.489207   \n",
       "4           8.0         PIT  ...       NaN     0.461217     0.538783   \n",
       "\n",
       "   Home_WP_post  Away_WP_post  Win_Prob       WPA    airWPA    yacWPA  Season  \n",
       "0      0.546433      0.453567  0.485675  0.060758       NaN       NaN    2009  \n",
       "1      0.551088      0.448912  0.546433  0.004655 -0.032244  0.036899    2009  \n",
       "2      0.510793      0.489207  0.551088 -0.040295       NaN       NaN    2009  \n",
       "3      0.461217      0.538783  0.510793 -0.049576  0.106663 -0.156239    2009  \n",
       "4      0.558929      0.441071  0.461217  0.097712       NaN       NaN    2009  \n",
       "\n",
       "[5 rows x 102 columns]"
      ]
     },
     "execution_count": 57,
     "metadata": {},
     "output_type": "execute_result"
    }
   ],
   "source": [
    "nfl_data.head()"
   ]
  },
  {
   "cell_type": "code",
   "execution_count": 58,
   "id": "f9c15007",
   "metadata": {},
   "outputs": [
    {
     "data": {
      "text/html": [
       "<div>\n",
       "<style scoped>\n",
       "    .dataframe tbody tr th:only-of-type {\n",
       "        vertical-align: middle;\n",
       "    }\n",
       "\n",
       "    .dataframe tbody tr th {\n",
       "        vertical-align: top;\n",
       "    }\n",
       "\n",
       "    .dataframe thead th {\n",
       "        text-align: right;\n",
       "    }\n",
       "</style>\n",
       "<table border=\"1\" class=\"dataframe\">\n",
       "  <thead>\n",
       "    <tr style=\"text-align: right;\">\n",
       "      <th></th>\n",
       "      <th>EPA</th>\n",
       "      <th>airEPA</th>\n",
       "      <th>yacEPA</th>\n",
       "      <th>Home_WP_pre</th>\n",
       "      <th>Away_WP_pre</th>\n",
       "      <th>Home_WP_post</th>\n",
       "      <th>Away_WP_post</th>\n",
       "      <th>Win_Prob</th>\n",
       "      <th>WPA</th>\n",
       "      <th>airWPA</th>\n",
       "      <th>yacWPA</th>\n",
       "      <th>Season</th>\n",
       "    </tr>\n",
       "  </thead>\n",
       "  <tbody>\n",
       "    <tr>\n",
       "      <th>0</th>\n",
       "      <td>2.014474</td>\n",
       "      <td>NaN</td>\n",
       "      <td>NaN</td>\n",
       "      <td>0.485675</td>\n",
       "      <td>0.514325</td>\n",
       "      <td>0.546433</td>\n",
       "      <td>0.453567</td>\n",
       "      <td>0.485675</td>\n",
       "      <td>0.060758</td>\n",
       "      <td>NaN</td>\n",
       "      <td>NaN</td>\n",
       "      <td>2009</td>\n",
       "    </tr>\n",
       "    <tr>\n",
       "      <th>1</th>\n",
       "      <td>0.077907</td>\n",
       "      <td>-1.068169</td>\n",
       "      <td>1.146076</td>\n",
       "      <td>0.546433</td>\n",
       "      <td>0.453567</td>\n",
       "      <td>0.551088</td>\n",
       "      <td>0.448912</td>\n",
       "      <td>0.546433</td>\n",
       "      <td>0.004655</td>\n",
       "      <td>-0.032244</td>\n",
       "      <td>0.036899</td>\n",
       "      <td>2009</td>\n",
       "    </tr>\n",
       "    <tr>\n",
       "      <th>2</th>\n",
       "      <td>-1.402760</td>\n",
       "      <td>NaN</td>\n",
       "      <td>NaN</td>\n",
       "      <td>0.551088</td>\n",
       "      <td>0.448912</td>\n",
       "      <td>0.510793</td>\n",
       "      <td>0.489207</td>\n",
       "      <td>0.551088</td>\n",
       "      <td>-0.040295</td>\n",
       "      <td>NaN</td>\n",
       "      <td>NaN</td>\n",
       "      <td>2009</td>\n",
       "    </tr>\n",
       "    <tr>\n",
       "      <th>3</th>\n",
       "      <td>-1.712583</td>\n",
       "      <td>3.318841</td>\n",
       "      <td>-5.031425</td>\n",
       "      <td>0.510793</td>\n",
       "      <td>0.489207</td>\n",
       "      <td>0.461217</td>\n",
       "      <td>0.538783</td>\n",
       "      <td>0.510793</td>\n",
       "      <td>-0.049576</td>\n",
       "      <td>0.106663</td>\n",
       "      <td>-0.156239</td>\n",
       "      <td>2009</td>\n",
       "    </tr>\n",
       "    <tr>\n",
       "      <th>4</th>\n",
       "      <td>2.097796</td>\n",
       "      <td>NaN</td>\n",
       "      <td>NaN</td>\n",
       "      <td>0.461217</td>\n",
       "      <td>0.538783</td>\n",
       "      <td>0.558929</td>\n",
       "      <td>0.441071</td>\n",
       "      <td>0.461217</td>\n",
       "      <td>0.097712</td>\n",
       "      <td>NaN</td>\n",
       "      <td>NaN</td>\n",
       "      <td>2009</td>\n",
       "    </tr>\n",
       "  </tbody>\n",
       "</table>\n",
       "</div>"
      ],
      "text/plain": [
       "        EPA    airEPA    yacEPA  Home_WP_pre  Away_WP_pre  Home_WP_post  \\\n",
       "0  2.014474       NaN       NaN     0.485675     0.514325      0.546433   \n",
       "1  0.077907 -1.068169  1.146076     0.546433     0.453567      0.551088   \n",
       "2 -1.402760       NaN       NaN     0.551088     0.448912      0.510793   \n",
       "3 -1.712583  3.318841 -5.031425     0.510793     0.489207      0.461217   \n",
       "4  2.097796       NaN       NaN     0.461217     0.538783      0.558929   \n",
       "\n",
       "   Away_WP_post  Win_Prob       WPA    airWPA    yacWPA  Season  \n",
       "0      0.453567  0.485675  0.060758       NaN       NaN    2009  \n",
       "1      0.448912  0.546433  0.004655 -0.032244  0.036899    2009  \n",
       "2      0.489207  0.551088 -0.040295       NaN       NaN    2009  \n",
       "3      0.538783  0.510793 -0.049576  0.106663 -0.156239    2009  \n",
       "4      0.441071  0.461217  0.097712       NaN       NaN    2009  "
      ]
     },
     "execution_count": 58,
     "metadata": {},
     "output_type": "execute_result"
    }
   ],
   "source": [
    "# get a small subset of the NFL dataset\n",
    "subset_nfl_data = nfl_data.loc[:, 'EPA':'Season'].head()\n",
    "subset_nfl_data"
   ]
  },
  {
   "cell_type": "markdown",
   "id": "e8616a16",
   "metadata": {},
   "source": [
    "We can use the Panda's fillna() function to fill in missing values in a dataframe for us. One option we have is to specify what we want the NaN values to be replaced with. Here, I'm saying that I would like to replace all the NaN values with 0."
   ]
  },
  {
   "cell_type": "code",
   "execution_count": 59,
   "id": "55449ec0",
   "metadata": {},
   "outputs": [
    {
     "data": {
      "text/html": [
       "<div>\n",
       "<style scoped>\n",
       "    .dataframe tbody tr th:only-of-type {\n",
       "        vertical-align: middle;\n",
       "    }\n",
       "\n",
       "    .dataframe tbody tr th {\n",
       "        vertical-align: top;\n",
       "    }\n",
       "\n",
       "    .dataframe thead th {\n",
       "        text-align: right;\n",
       "    }\n",
       "</style>\n",
       "<table border=\"1\" class=\"dataframe\">\n",
       "  <thead>\n",
       "    <tr style=\"text-align: right;\">\n",
       "      <th></th>\n",
       "      <th>EPA</th>\n",
       "      <th>airEPA</th>\n",
       "      <th>yacEPA</th>\n",
       "      <th>Home_WP_pre</th>\n",
       "      <th>Away_WP_pre</th>\n",
       "      <th>Home_WP_post</th>\n",
       "      <th>Away_WP_post</th>\n",
       "      <th>Win_Prob</th>\n",
       "      <th>WPA</th>\n",
       "      <th>airWPA</th>\n",
       "      <th>yacWPA</th>\n",
       "      <th>Season</th>\n",
       "    </tr>\n",
       "  </thead>\n",
       "  <tbody>\n",
       "    <tr>\n",
       "      <th>0</th>\n",
       "      <td>2.014474</td>\n",
       "      <td>0.000000</td>\n",
       "      <td>0.000000</td>\n",
       "      <td>0.485675</td>\n",
       "      <td>0.514325</td>\n",
       "      <td>0.546433</td>\n",
       "      <td>0.453567</td>\n",
       "      <td>0.485675</td>\n",
       "      <td>0.060758</td>\n",
       "      <td>0.000000</td>\n",
       "      <td>0.000000</td>\n",
       "      <td>2009</td>\n",
       "    </tr>\n",
       "    <tr>\n",
       "      <th>1</th>\n",
       "      <td>0.077907</td>\n",
       "      <td>-1.068169</td>\n",
       "      <td>1.146076</td>\n",
       "      <td>0.546433</td>\n",
       "      <td>0.453567</td>\n",
       "      <td>0.551088</td>\n",
       "      <td>0.448912</td>\n",
       "      <td>0.546433</td>\n",
       "      <td>0.004655</td>\n",
       "      <td>-0.032244</td>\n",
       "      <td>0.036899</td>\n",
       "      <td>2009</td>\n",
       "    </tr>\n",
       "    <tr>\n",
       "      <th>2</th>\n",
       "      <td>-1.402760</td>\n",
       "      <td>0.000000</td>\n",
       "      <td>0.000000</td>\n",
       "      <td>0.551088</td>\n",
       "      <td>0.448912</td>\n",
       "      <td>0.510793</td>\n",
       "      <td>0.489207</td>\n",
       "      <td>0.551088</td>\n",
       "      <td>-0.040295</td>\n",
       "      <td>0.000000</td>\n",
       "      <td>0.000000</td>\n",
       "      <td>2009</td>\n",
       "    </tr>\n",
       "    <tr>\n",
       "      <th>3</th>\n",
       "      <td>-1.712583</td>\n",
       "      <td>3.318841</td>\n",
       "      <td>-5.031425</td>\n",
       "      <td>0.510793</td>\n",
       "      <td>0.489207</td>\n",
       "      <td>0.461217</td>\n",
       "      <td>0.538783</td>\n",
       "      <td>0.510793</td>\n",
       "      <td>-0.049576</td>\n",
       "      <td>0.106663</td>\n",
       "      <td>-0.156239</td>\n",
       "      <td>2009</td>\n",
       "    </tr>\n",
       "    <tr>\n",
       "      <th>4</th>\n",
       "      <td>2.097796</td>\n",
       "      <td>0.000000</td>\n",
       "      <td>0.000000</td>\n",
       "      <td>0.461217</td>\n",
       "      <td>0.538783</td>\n",
       "      <td>0.558929</td>\n",
       "      <td>0.441071</td>\n",
       "      <td>0.461217</td>\n",
       "      <td>0.097712</td>\n",
       "      <td>0.000000</td>\n",
       "      <td>0.000000</td>\n",
       "      <td>2009</td>\n",
       "    </tr>\n",
       "  </tbody>\n",
       "</table>\n",
       "</div>"
      ],
      "text/plain": [
       "        EPA    airEPA    yacEPA  Home_WP_pre  Away_WP_pre  Home_WP_post  \\\n",
       "0  2.014474  0.000000  0.000000     0.485675     0.514325      0.546433   \n",
       "1  0.077907 -1.068169  1.146076     0.546433     0.453567      0.551088   \n",
       "2 -1.402760  0.000000  0.000000     0.551088     0.448912      0.510793   \n",
       "3 -1.712583  3.318841 -5.031425     0.510793     0.489207      0.461217   \n",
       "4  2.097796  0.000000  0.000000     0.461217     0.538783      0.558929   \n",
       "\n",
       "   Away_WP_post  Win_Prob       WPA    airWPA    yacWPA  Season  \n",
       "0      0.453567  0.485675  0.060758  0.000000  0.000000    2009  \n",
       "1      0.448912  0.546433  0.004655 -0.032244  0.036899    2009  \n",
       "2      0.489207  0.551088 -0.040295  0.000000  0.000000    2009  \n",
       "3      0.538783  0.510793 -0.049576  0.106663 -0.156239    2009  \n",
       "4      0.441071  0.461217  0.097712  0.000000  0.000000    2009  "
      ]
     },
     "execution_count": 59,
     "metadata": {},
     "output_type": "execute_result"
    }
   ],
   "source": [
    "# replace all NA's with 0\n",
    "subset_nfl_data.fillna(0)"
   ]
  },
  {
   "cell_type": "markdown",
   "id": "89e54c5a",
   "metadata": {},
   "source": [
    "I could also be a bit more savvy and replace missing values with whatever value comes directly after it in the same column. (This makes a lot of sense for datasets where the observations have some sort of logical order to them.)"
   ]
  },
  {
   "cell_type": "code",
   "execution_count": 60,
   "id": "8f341744",
   "metadata": {},
   "outputs": [
    {
     "data": {
      "text/html": [
       "<div>\n",
       "<style scoped>\n",
       "    .dataframe tbody tr th:only-of-type {\n",
       "        vertical-align: middle;\n",
       "    }\n",
       "\n",
       "    .dataframe tbody tr th {\n",
       "        vertical-align: top;\n",
       "    }\n",
       "\n",
       "    .dataframe thead th {\n",
       "        text-align: right;\n",
       "    }\n",
       "</style>\n",
       "<table border=\"1\" class=\"dataframe\">\n",
       "  <thead>\n",
       "    <tr style=\"text-align: right;\">\n",
       "      <th></th>\n",
       "      <th>EPA</th>\n",
       "      <th>airEPA</th>\n",
       "      <th>yacEPA</th>\n",
       "      <th>Home_WP_pre</th>\n",
       "      <th>Away_WP_pre</th>\n",
       "      <th>Home_WP_post</th>\n",
       "      <th>Away_WP_post</th>\n",
       "      <th>Win_Prob</th>\n",
       "      <th>WPA</th>\n",
       "      <th>airWPA</th>\n",
       "      <th>yacWPA</th>\n",
       "      <th>Season</th>\n",
       "    </tr>\n",
       "  </thead>\n",
       "  <tbody>\n",
       "    <tr>\n",
       "      <th>0</th>\n",
       "      <td>2.014474</td>\n",
       "      <td>-1.068169</td>\n",
       "      <td>1.146076</td>\n",
       "      <td>0.485675</td>\n",
       "      <td>0.514325</td>\n",
       "      <td>0.546433</td>\n",
       "      <td>0.453567</td>\n",
       "      <td>0.485675</td>\n",
       "      <td>0.060758</td>\n",
       "      <td>-0.032244</td>\n",
       "      <td>0.036899</td>\n",
       "      <td>2009</td>\n",
       "    </tr>\n",
       "    <tr>\n",
       "      <th>1</th>\n",
       "      <td>0.077907</td>\n",
       "      <td>-1.068169</td>\n",
       "      <td>1.146076</td>\n",
       "      <td>0.546433</td>\n",
       "      <td>0.453567</td>\n",
       "      <td>0.551088</td>\n",
       "      <td>0.448912</td>\n",
       "      <td>0.546433</td>\n",
       "      <td>0.004655</td>\n",
       "      <td>-0.032244</td>\n",
       "      <td>0.036899</td>\n",
       "      <td>2009</td>\n",
       "    </tr>\n",
       "    <tr>\n",
       "      <th>2</th>\n",
       "      <td>-1.402760</td>\n",
       "      <td>3.318841</td>\n",
       "      <td>-5.031425</td>\n",
       "      <td>0.551088</td>\n",
       "      <td>0.448912</td>\n",
       "      <td>0.510793</td>\n",
       "      <td>0.489207</td>\n",
       "      <td>0.551088</td>\n",
       "      <td>-0.040295</td>\n",
       "      <td>0.106663</td>\n",
       "      <td>-0.156239</td>\n",
       "      <td>2009</td>\n",
       "    </tr>\n",
       "    <tr>\n",
       "      <th>3</th>\n",
       "      <td>-1.712583</td>\n",
       "      <td>3.318841</td>\n",
       "      <td>-5.031425</td>\n",
       "      <td>0.510793</td>\n",
       "      <td>0.489207</td>\n",
       "      <td>0.461217</td>\n",
       "      <td>0.538783</td>\n",
       "      <td>0.510793</td>\n",
       "      <td>-0.049576</td>\n",
       "      <td>0.106663</td>\n",
       "      <td>-0.156239</td>\n",
       "      <td>2009</td>\n",
       "    </tr>\n",
       "    <tr>\n",
       "      <th>4</th>\n",
       "      <td>2.097796</td>\n",
       "      <td>0.000000</td>\n",
       "      <td>0.000000</td>\n",
       "      <td>0.461217</td>\n",
       "      <td>0.538783</td>\n",
       "      <td>0.558929</td>\n",
       "      <td>0.441071</td>\n",
       "      <td>0.461217</td>\n",
       "      <td>0.097712</td>\n",
       "      <td>0.000000</td>\n",
       "      <td>0.000000</td>\n",
       "      <td>2009</td>\n",
       "    </tr>\n",
       "  </tbody>\n",
       "</table>\n",
       "</div>"
      ],
      "text/plain": [
       "        EPA    airEPA    yacEPA  Home_WP_pre  Away_WP_pre  Home_WP_post  \\\n",
       "0  2.014474 -1.068169  1.146076     0.485675     0.514325      0.546433   \n",
       "1  0.077907 -1.068169  1.146076     0.546433     0.453567      0.551088   \n",
       "2 -1.402760  3.318841 -5.031425     0.551088     0.448912      0.510793   \n",
       "3 -1.712583  3.318841 -5.031425     0.510793     0.489207      0.461217   \n",
       "4  2.097796  0.000000  0.000000     0.461217     0.538783      0.558929   \n",
       "\n",
       "   Away_WP_post  Win_Prob       WPA    airWPA    yacWPA  Season  \n",
       "0      0.453567  0.485675  0.060758 -0.032244  0.036899    2009  \n",
       "1      0.448912  0.546433  0.004655 -0.032244  0.036899    2009  \n",
       "2      0.489207  0.551088 -0.040295  0.106663 -0.156239    2009  \n",
       "3      0.538783  0.510793 -0.049576  0.106663 -0.156239    2009  \n",
       "4      0.441071  0.461217  0.097712  0.000000  0.000000    2009  "
      ]
     },
     "execution_count": 60,
     "metadata": {},
     "output_type": "execute_result"
    }
   ],
   "source": [
    "# replace all NA's the value that comes directly after it in the same column, \n",
    "# then replace all the reamining na's with 0\n",
    "subset_nfl_data.fillna(method = 'bfill', axis=0).fillna(0)"
   ]
  },
  {
   "cell_type": "markdown",
   "id": "32bee391",
   "metadata": {},
   "source": [
    "## Missing Values (Extra)"
   ]
  },
  {
   "cell_type": "markdown",
   "id": "887bb624",
   "metadata": {},
   "source": [
    "Python libraries represent missing numbers as nan which is short for \"not a number\". You can detect which cells have missing values, and then count how many there are in each column with the command:\n",
    "\n",
    "> missing_val_count_by_column = (data.isnull().sum())\n",
    "> print(missing_val_count_by_column[missing_val_count_by_column > 0"
   ]
  },
  {
   "cell_type": "markdown",
   "id": "47cd6a0a",
   "metadata": {},
   "source": [
    "### A Simple Option: Drop Columns with Missing Values\n",
    "If your data is in a DataFrame called original_data, you can drop columns with missing values. One way to do that is\n",
    "> data_without_missing_values = original_data.dropna(axis=1)\n"
   ]
  },
  {
   "cell_type": "markdown",
   "id": "ec25fb3a",
   "metadata": {},
   "source": [
    "In many cases, you'll have both a training dataset and a test dataset. You will want to drop the same columns in both DataFrames. In that case, you would write\n",
    "> cols_with_missing = [col for col in original_data.columns \n",
    "                                 if original_data[col].isnull().any()]\n",
    "                                 \n",
    "> reduced_original_data = original_data.drop(cols_with_missing, axis=1)\n",
    "\n",
    "> reduced_test_data = test_data.drop(cols_with_missing, axis=1)"
   ]
  },
  {
   "cell_type": "markdown",
   "id": "cf41206e",
   "metadata": {},
   "source": [
    "### A Better Option: Imputation\n",
    "Imputation fills in the missing value with some number. The imputed value won't be exactly right in most cases, but it usually gives more accurate models than dropping the column entirely.\n",
    "\n",
    "This is done with"
   ]
  },
  {
   "cell_type": "markdown",
   "id": "4247deb5",
   "metadata": {},
   "source": [
    "> from sklearn.impute import SimpleImputer\n",
    "\n",
    ">my_imputer = SimpleImputer()\n",
    "\n",
    "> data_with_imputed_values = my_imputer.fit_transform(original_data)\n",
    "\n",
    "The default behavior fills in the mean value for imputation. Statisticians have researched more complex strategies, but those complex strategies typically give no benefit once you plug the results into sophisticated machine learning models."
   ]
  },
  {
   "cell_type": "markdown",
   "id": "3561e266",
   "metadata": {},
   "source": []
  },
  {
   "cell_type": "markdown",
   "id": "03b59187",
   "metadata": {},
   "source": [
    "## Conclusion on handling missing values:\n",
    "> 1. ***Number of missing values in the dataset:***\n",
    "missing_values_count = **df.isnull().sum()**"
   ]
  },
  {
   "cell_type": "markdown",
   "id": "c8710119",
   "metadata": {},
   "source": [
    "> 2. ***Percentage of missing values in the dataset*** :\n",
    "\n",
    "> total_data = np.product(df.shape)\n",
    "\n",
    "> total_missing = missing_values_count.sum()\n",
    "\n",
    "> **(total_missing/total_data) * 100**"
   ]
  },
  {
   "cell_type": "markdown",
   "id": "a7a07d4e",
   "metadata": {},
   "source": [
    "> 3. ***Dropping rows or collumns with missing data***:\n",
    "\n",
    "> rows: **df.dropna()**\n",
    "\n",
    "> cols : **df.dropna(axis = 1)**"
   ]
  },
  {
   "cell_type": "markdown",
   "id": "89ab9e09",
   "metadata": {},
   "source": [
    "> 4. ***Filling missing Data*** :"
   ]
  },
  {
   "cell_type": "markdown",
   "id": "608f4fe5",
   "metadata": {},
   "source": [
    "> all na's into 0 : **df.fillna(0)**\n",
    "\n",
    "> using other filling methods: **df.fillna(method = 'bfill', axis=0)**"
   ]
  },
  {
   "cell_type": "markdown",
   "id": "957fbac6",
   "metadata": {},
   "source": [
    "## dataframe.fillna()"
   ]
  },
  {
   "cell_type": "code",
   "execution_count": 61,
   "id": "216c81f5",
   "metadata": {},
   "outputs": [],
   "source": [
    "df = pd.DataFrame([[np.nan, 2, np.nan, 0],\n",
    "                   [3, 4, np.nan, 1],\n",
    "                   [np.nan, np.nan, np.nan, np.nan],\n",
    "                   [np.nan, 3, np.nan, 4]],\n",
    "                  columns=list(\"ABCD\"))"
   ]
  },
  {
   "cell_type": "code",
   "execution_count": 62,
   "id": "71282aed",
   "metadata": {},
   "outputs": [
    {
     "data": {
      "text/html": [
       "<div>\n",
       "<style scoped>\n",
       "    .dataframe tbody tr th:only-of-type {\n",
       "        vertical-align: middle;\n",
       "    }\n",
       "\n",
       "    .dataframe tbody tr th {\n",
       "        vertical-align: top;\n",
       "    }\n",
       "\n",
       "    .dataframe thead th {\n",
       "        text-align: right;\n",
       "    }\n",
       "</style>\n",
       "<table border=\"1\" class=\"dataframe\">\n",
       "  <thead>\n",
       "    <tr style=\"text-align: right;\">\n",
       "      <th></th>\n",
       "      <th>A</th>\n",
       "      <th>B</th>\n",
       "      <th>C</th>\n",
       "      <th>D</th>\n",
       "    </tr>\n",
       "  </thead>\n",
       "  <tbody>\n",
       "    <tr>\n",
       "      <th>0</th>\n",
       "      <td>NaN</td>\n",
       "      <td>2.0</td>\n",
       "      <td>NaN</td>\n",
       "      <td>0.0</td>\n",
       "    </tr>\n",
       "    <tr>\n",
       "      <th>1</th>\n",
       "      <td>3.0</td>\n",
       "      <td>4.0</td>\n",
       "      <td>NaN</td>\n",
       "      <td>1.0</td>\n",
       "    </tr>\n",
       "    <tr>\n",
       "      <th>2</th>\n",
       "      <td>NaN</td>\n",
       "      <td>NaN</td>\n",
       "      <td>NaN</td>\n",
       "      <td>NaN</td>\n",
       "    </tr>\n",
       "    <tr>\n",
       "      <th>3</th>\n",
       "      <td>NaN</td>\n",
       "      <td>3.0</td>\n",
       "      <td>NaN</td>\n",
       "      <td>4.0</td>\n",
       "    </tr>\n",
       "  </tbody>\n",
       "</table>\n",
       "</div>"
      ],
      "text/plain": [
       "     A    B   C    D\n",
       "0  NaN  2.0 NaN  0.0\n",
       "1  3.0  4.0 NaN  1.0\n",
       "2  NaN  NaN NaN  NaN\n",
       "3  NaN  3.0 NaN  4.0"
      ]
     },
     "execution_count": 62,
     "metadata": {},
     "output_type": "execute_result"
    }
   ],
   "source": [
    "df"
   ]
  },
  {
   "cell_type": "code",
   "execution_count": 63,
   "id": "42231f18",
   "metadata": {},
   "outputs": [
    {
     "data": {
      "text/html": [
       "<div>\n",
       "<style scoped>\n",
       "    .dataframe tbody tr th:only-of-type {\n",
       "        vertical-align: middle;\n",
       "    }\n",
       "\n",
       "    .dataframe tbody tr th {\n",
       "        vertical-align: top;\n",
       "    }\n",
       "\n",
       "    .dataframe thead th {\n",
       "        text-align: right;\n",
       "    }\n",
       "</style>\n",
       "<table border=\"1\" class=\"dataframe\">\n",
       "  <thead>\n",
       "    <tr style=\"text-align: right;\">\n",
       "      <th></th>\n",
       "      <th>A</th>\n",
       "      <th>B</th>\n",
       "      <th>C</th>\n",
       "      <th>D</th>\n",
       "    </tr>\n",
       "  </thead>\n",
       "  <tbody>\n",
       "    <tr>\n",
       "      <th>0</th>\n",
       "      <td>0.0</td>\n",
       "      <td>2.0</td>\n",
       "      <td>0.0</td>\n",
       "      <td>0.0</td>\n",
       "    </tr>\n",
       "    <tr>\n",
       "      <th>1</th>\n",
       "      <td>3.0</td>\n",
       "      <td>4.0</td>\n",
       "      <td>0.0</td>\n",
       "      <td>1.0</td>\n",
       "    </tr>\n",
       "    <tr>\n",
       "      <th>2</th>\n",
       "      <td>0.0</td>\n",
       "      <td>0.0</td>\n",
       "      <td>0.0</td>\n",
       "      <td>0.0</td>\n",
       "    </tr>\n",
       "    <tr>\n",
       "      <th>3</th>\n",
       "      <td>0.0</td>\n",
       "      <td>3.0</td>\n",
       "      <td>0.0</td>\n",
       "      <td>4.0</td>\n",
       "    </tr>\n",
       "  </tbody>\n",
       "</table>\n",
       "</div>"
      ],
      "text/plain": [
       "     A    B    C    D\n",
       "0  0.0  2.0  0.0  0.0\n",
       "1  3.0  4.0  0.0  1.0\n",
       "2  0.0  0.0  0.0  0.0\n",
       "3  0.0  3.0  0.0  4.0"
      ]
     },
     "execution_count": 63,
     "metadata": {},
     "output_type": "execute_result"
    }
   ],
   "source": [
    "# Replace all NaN elements with 0s.\n",
    "df.fillna(0)"
   ]
  },
  {
   "cell_type": "code",
   "execution_count": 64,
   "id": "e7fd3b0f",
   "metadata": {},
   "outputs": [
    {
     "data": {
      "text/html": [
       "<div>\n",
       "<style scoped>\n",
       "    .dataframe tbody tr th:only-of-type {\n",
       "        vertical-align: middle;\n",
       "    }\n",
       "\n",
       "    .dataframe tbody tr th {\n",
       "        vertical-align: top;\n",
       "    }\n",
       "\n",
       "    .dataframe thead th {\n",
       "        text-align: right;\n",
       "    }\n",
       "</style>\n",
       "<table border=\"1\" class=\"dataframe\">\n",
       "  <thead>\n",
       "    <tr style=\"text-align: right;\">\n",
       "      <th></th>\n",
       "      <th>A</th>\n",
       "      <th>B</th>\n",
       "      <th>C</th>\n",
       "      <th>D</th>\n",
       "    </tr>\n",
       "  </thead>\n",
       "  <tbody>\n",
       "    <tr>\n",
       "      <th>0</th>\n",
       "      <td>NaN</td>\n",
       "      <td>2.0</td>\n",
       "      <td>NaN</td>\n",
       "      <td>0.0</td>\n",
       "    </tr>\n",
       "    <tr>\n",
       "      <th>1</th>\n",
       "      <td>3.0</td>\n",
       "      <td>4.0</td>\n",
       "      <td>NaN</td>\n",
       "      <td>1.0</td>\n",
       "    </tr>\n",
       "    <tr>\n",
       "      <th>2</th>\n",
       "      <td>3.0</td>\n",
       "      <td>4.0</td>\n",
       "      <td>NaN</td>\n",
       "      <td>1.0</td>\n",
       "    </tr>\n",
       "    <tr>\n",
       "      <th>3</th>\n",
       "      <td>3.0</td>\n",
       "      <td>3.0</td>\n",
       "      <td>NaN</td>\n",
       "      <td>4.0</td>\n",
       "    </tr>\n",
       "  </tbody>\n",
       "</table>\n",
       "</div>"
      ],
      "text/plain": [
       "     A    B   C    D\n",
       "0  NaN  2.0 NaN  0.0\n",
       "1  3.0  4.0 NaN  1.0\n",
       "2  3.0  4.0 NaN  1.0\n",
       "3  3.0  3.0 NaN  4.0"
      ]
     },
     "execution_count": 64,
     "metadata": {},
     "output_type": "execute_result"
    }
   ],
   "source": [
    "# We can also propagate non-null values forward or backward.\n",
    "df.fillna(method=\"ffill\")\n",
    "# filling the NAN value with whatever comes before it .\n",
    "# ffill: propagate last valid observation forward to next valid.\n",
    "# bfill: use next valid observation to fill gap."
   ]
  },
  {
   "cell_type": "code",
   "execution_count": 66,
   "id": "9c7a220d",
   "metadata": {},
   "outputs": [
    {
     "data": {
      "text/html": [
       "<div>\n",
       "<style scoped>\n",
       "    .dataframe tbody tr th:only-of-type {\n",
       "        vertical-align: middle;\n",
       "    }\n",
       "\n",
       "    .dataframe tbody tr th {\n",
       "        vertical-align: top;\n",
       "    }\n",
       "\n",
       "    .dataframe thead th {\n",
       "        text-align: right;\n",
       "    }\n",
       "</style>\n",
       "<table border=\"1\" class=\"dataframe\">\n",
       "  <thead>\n",
       "    <tr style=\"text-align: right;\">\n",
       "      <th></th>\n",
       "      <th>A</th>\n",
       "      <th>B</th>\n",
       "      <th>C</th>\n",
       "      <th>D</th>\n",
       "    </tr>\n",
       "  </thead>\n",
       "  <tbody>\n",
       "    <tr>\n",
       "      <th>0</th>\n",
       "      <td>0.0</td>\n",
       "      <td>2.0</td>\n",
       "      <td>2.0</td>\n",
       "      <td>0.0</td>\n",
       "    </tr>\n",
       "    <tr>\n",
       "      <th>1</th>\n",
       "      <td>3.0</td>\n",
       "      <td>4.0</td>\n",
       "      <td>2.0</td>\n",
       "      <td>1.0</td>\n",
       "    </tr>\n",
       "    <tr>\n",
       "      <th>2</th>\n",
       "      <td>0.0</td>\n",
       "      <td>1.0</td>\n",
       "      <td>2.0</td>\n",
       "      <td>3.0</td>\n",
       "    </tr>\n",
       "    <tr>\n",
       "      <th>3</th>\n",
       "      <td>0.0</td>\n",
       "      <td>3.0</td>\n",
       "      <td>2.0</td>\n",
       "      <td>4.0</td>\n",
       "    </tr>\n",
       "  </tbody>\n",
       "</table>\n",
       "</div>"
      ],
      "text/plain": [
       "     A    B    C    D\n",
       "0  0.0  2.0  2.0  0.0\n",
       "1  3.0  4.0  2.0  1.0\n",
       "2  0.0  1.0  2.0  3.0\n",
       "3  0.0  3.0  2.0  4.0"
      ]
     },
     "execution_count": 66,
     "metadata": {},
     "output_type": "execute_result"
    }
   ],
   "source": [
    "# Replace all NaN elements in column ‘A’, ‘B’, ‘C’, and ‘D’, with 0, 1, 2, and 3 respectively.\n",
    "\n",
    "values = {\"A\": 0, \"B\": 1, \"C\": 2, \"D\": 3}\n",
    "df.fillna(value=values)"
   ]
  },
  {
   "cell_type": "code",
   "execution_count": 67,
   "id": "1fd191e9",
   "metadata": {},
   "outputs": [
    {
     "data": {
      "text/html": [
       "<div>\n",
       "<style scoped>\n",
       "    .dataframe tbody tr th:only-of-type {\n",
       "        vertical-align: middle;\n",
       "    }\n",
       "\n",
       "    .dataframe tbody tr th {\n",
       "        vertical-align: top;\n",
       "    }\n",
       "\n",
       "    .dataframe thead th {\n",
       "        text-align: right;\n",
       "    }\n",
       "</style>\n",
       "<table border=\"1\" class=\"dataframe\">\n",
       "  <thead>\n",
       "    <tr style=\"text-align: right;\">\n",
       "      <th></th>\n",
       "      <th>A</th>\n",
       "      <th>B</th>\n",
       "      <th>C</th>\n",
       "      <th>D</th>\n",
       "    </tr>\n",
       "  </thead>\n",
       "  <tbody>\n",
       "    <tr>\n",
       "      <th>0</th>\n",
       "      <td>0.0</td>\n",
       "      <td>2.0</td>\n",
       "      <td>2.0</td>\n",
       "      <td>0.0</td>\n",
       "    </tr>\n",
       "    <tr>\n",
       "      <th>1</th>\n",
       "      <td>3.0</td>\n",
       "      <td>4.0</td>\n",
       "      <td>NaN</td>\n",
       "      <td>1.0</td>\n",
       "    </tr>\n",
       "    <tr>\n",
       "      <th>2</th>\n",
       "      <td>NaN</td>\n",
       "      <td>1.0</td>\n",
       "      <td>NaN</td>\n",
       "      <td>3.0</td>\n",
       "    </tr>\n",
       "    <tr>\n",
       "      <th>3</th>\n",
       "      <td>NaN</td>\n",
       "      <td>3.0</td>\n",
       "      <td>NaN</td>\n",
       "      <td>4.0</td>\n",
       "    </tr>\n",
       "  </tbody>\n",
       "</table>\n",
       "</div>"
      ],
      "text/plain": [
       "     A    B    C    D\n",
       "0  0.0  2.0  2.0  0.0\n",
       "1  3.0  4.0  NaN  1.0\n",
       "2  NaN  1.0  NaN  3.0\n",
       "3  NaN  3.0  NaN  4.0"
      ]
     },
     "execution_count": 67,
     "metadata": {},
     "output_type": "execute_result"
    }
   ],
   "source": [
    "# Only replace the first NaN element.\n",
    "df.fillna(value=values, limit=1)"
   ]
  },
  {
   "cell_type": "markdown",
   "id": "f148d1ab",
   "metadata": {},
   "source": [
    "****"
   ]
  },
  {
   "cell_type": "markdown",
   "id": "3d09ca7e",
   "metadata": {},
   "source": [
    "# Scaling and Normalization"
   ]
  },
  {
   "cell_type": "markdown",
   "id": "717534c2",
   "metadata": {},
   "source": [
    "### Get our environment set up"
   ]
  },
  {
   "cell_type": "code",
   "execution_count": 4,
   "id": "fb7914d1",
   "metadata": {},
   "outputs": [],
   "source": [
    "# modules we'll use\n",
    "import pandas as pd\n",
    "import numpy as np"
   ]
  },
  {
   "cell_type": "code",
   "execution_count": 5,
   "id": "bea50708",
   "metadata": {},
   "outputs": [],
   "source": [
    "# for Box-Cox Transformation\n",
    "from scipy import stats"
   ]
  },
  {
   "cell_type": "code",
   "execution_count": 6,
   "id": "1e520a1b",
   "metadata": {},
   "outputs": [],
   "source": [
    "# for min_max scaling\n",
    "from mlxtend.preprocessing import minmax_scaling"
   ]
  },
  {
   "cell_type": "code",
   "execution_count": 7,
   "id": "2eda3cbc",
   "metadata": {},
   "outputs": [],
   "source": [
    "# plotting modules\n",
    "import seaborn as sns\n",
    "import matplotlib.pyplot as plt"
   ]
  },
  {
   "cell_type": "code",
   "execution_count": 22,
   "id": "eb107a7d",
   "metadata": {},
   "outputs": [],
   "source": [
    "df = pd.read_csv(\"ks-projects-201801.csv\")"
   ]
  },
  {
   "cell_type": "code",
   "execution_count": 9,
   "id": "9ea458a3",
   "metadata": {},
   "outputs": [],
   "source": [
    "# set seed for reproducibility\n",
    "np.random.seed(0)"
   ]
  },
  {
   "cell_type": "markdown",
   "id": "604e8dc7",
   "metadata": {},
   "source": [
    "# Scaling vs. Normalization: What's the difference?"
   ]
  },
  {
   "cell_type": "markdown",
   "id": "982702c2",
   "metadata": {},
   "source": [
    "#### In both cases, you're transforming the values of numeric variables so that the transformed data points have specific helpful properties."
   ]
  },
  {
   "cell_type": "markdown",
   "id": "c4976e0b",
   "metadata": {},
   "source": [
    "#### The difference is that, in scaling, you're changing the range of your data while in normalization you're changing the shape of the distribution of your data. "
   ]
  },
  {
   "cell_type": "markdown",
   "id": "ab626831",
   "metadata": {},
   "source": [
    "- **Scaling** : changing range of your data\n",
    "- **Normalization** : changing the shape of distribution of your data "
   ]
  },
  {
   "cell_type": "markdown",
   "id": "291e7f3e",
   "metadata": {},
   "source": [
    "## Scaling"
   ]
  },
  {
   "cell_type": "markdown",
   "id": "113cb0a8",
   "metadata": {},
   "source": [
    "This means that you're transforming your data so that it fits within a specific scale, like 0-100 or 0-1. You want to scale data when you're using methods based on measures of how far apart data points, like support vector machines, or SVM or k-nearest neighbors, or KNN. "
   ]
  },
  {
   "cell_type": "markdown",
   "id": "8e7f9269",
   "metadata": {},
   "source": [
    "**For example**, you might be looking at the prices of some products in both Yen and US Dollars. One US Dollar is worth about 100 Yen, but if you don't scale your prices methods like SVM or KNN will consider a difference in price of 1 Yen as important as a difference of 1 US Dollar! "
   ]
  },
  {
   "cell_type": "markdown",
   "id": "1cbf07fe",
   "metadata": {},
   "source": [
    "**Scaling** helps comparing different variables on equal footing"
   ]
  },
  {
   "cell_type": "code",
   "execution_count": 3,
   "id": "6e090aef",
   "metadata": {},
   "outputs": [],
   "source": [
    "# generate 1000 data points randomly drawn from an exponential distribution\n",
    "original_data = np.random.exponential(size = 1000)"
   ]
  },
  {
   "cell_type": "code",
   "execution_count": 10,
   "id": "273d8d22",
   "metadata": {},
   "outputs": [
    {
     "data": {
      "text/plain": [
       "array([9.12328184e-02, 1.33566928e+00, 5.93445384e-02, 3.68055440e-01,\n",
       "       4.54915156e-01, 4.69842483e-01, 2.97297285e-01, 5.56749700e-01,\n",
       "       2.51414125e+00, 2.11667255e+00, 1.07257574e+00, 1.59071363e+00,\n",
       "       3.47735235e-02, 1.64510807e-01, 6.78979156e-01, 3.42091312e-01,\n",
       "       7.87908744e-01, 2.50187809e+00, 2.29958971e+00, 1.50221708e+00,\n",
       "       2.94460048e-02, 4.69007417e-01, 6.35690335e-01, 2.28711150e+00,\n",
       "       4.11732651e-01, 2.02600330e+00, 1.20075689e+00, 1.01035716e+00,\n",
       "       2.20825974e+00, 8.63677573e-01, 1.73565933e+00, 1.28600875e+00,\n",
       "       5.50121643e-01, 1.23722564e+00, 5.34561175e+00, 1.33061247e+00,\n",
       "       8.56136220e-01, 1.22015824e+00, 4.34637399e-01, 5.22712878e-01,\n",
       "       6.39496294e-01, 2.78011032e-01, 2.73000035e+00, 3.93621293e-01,\n",
       "       1.06618974e+00, 2.68037466e+00, 1.47321187e+00, 6.26578787e-01,\n",
       "       2.26475993e-01, 2.62501038e-01, 3.24054924e+00, 1.80552124e+00,\n",
       "       1.28014292e+00, 1.17609182e-01, 3.33819638e-01, 4.24953447e-01,\n",
       "       2.76077763e+00, 1.57425682e+00, 8.44454253e-01, 5.31738805e-01,\n",
       "       3.20289207e-01, 1.06985356e+00, 1.95360619e+00, 3.71280080e-01,\n",
       "       3.43143201e-01, 2.04528403e+00, 2.02569181e+00, 6.27668225e-01,\n",
       "       2.88269755e-02, 1.06423715e+00, 6.04464157e-01, 5.85653578e-01,\n",
       "       6.39632661e-01, 1.18455172e+00, 9.46096080e-01, 9.22660960e-01,\n",
       "       5.90592279e-01, 2.75722938e+00, 2.62174059e-01, 5.51259301e-02,\n",
       "       2.68935965e-01, 2.75923148e+00, 7.97012303e-01, 2.05514524e+00,\n",
       "       2.84890724e-01, 2.23540255e-01, 1.06555784e+00, 5.57020068e-01,\n",
       "       1.65220017e-02, 3.65489675e+00, 5.71690082e-02, 1.44318553e+00,\n",
       "       1.49498223e+00, 1.20399946e+00, 9.43050074e-02, 1.14897501e+00,\n",
       "       5.50826331e-01, 4.87587577e-01, 1.10700707e+00, 1.83175918e-01,\n",
       "       3.92160670e+00, 2.11242261e-01, 8.67812943e-01, 2.43996057e-01,\n",
       "       1.73617345e-01, 2.34184937e-01, 3.12143222e+00, 1.95863630e+00,\n",
       "       2.33846748e+00, 1.27673047e+00, 1.50547540e+00, 1.33110207e+00,\n",
       "       6.24142670e-01, 4.40834556e-01, 2.11565820e+00, 2.14292006e+00,\n",
       "       1.24500175e+00, 2.11592386e+00, 2.15925412e-02, 1.13294957e+00,\n",
       "       2.47107372e-01, 3.82189055e+00, 2.53021696e+00, 7.69552172e-01,\n",
       "       1.24920576e+00, 4.10188537e-02, 4.93624174e-02, 2.77811240e-01,\n",
       "       4.78737465e-01, 5.57813222e-01, 6.46933205e-03, 3.11910420e-01,\n",
       "       7.26182606e-01, 1.05449168e+00, 1.84058096e-01, 2.45027339e+00,\n",
       "       2.59853659e-02, 6.16590060e-01, 8.30845634e-03, 2.11013233e-01,\n",
       "       3.89756154e-03, 1.24665746e+00, 2.25385182e+00, 8.93675329e-01,\n",
       "       9.38032656e-01, 9.99188157e-01, 1.18568209e+00, 1.34717632e+00,\n",
       "       1.28954697e-01, 5.18193079e+00, 1.99189134e-01, 1.52503962e+00,\n",
       "       2.22340570e+00, 1.56438824e-01, 7.97104287e-01, 3.25239585e-02,\n",
       "       1.88872014e+00, 1.56052501e+00, 7.43694469e-01, 2.41105393e-02,\n",
       "       9.31355012e-01, 8.34586348e-01, 1.03687168e+00, 4.96579534e+00,\n",
       "       7.87578081e-01, 2.38846071e-01, 1.25869165e+00, 8.98227063e-01,\n",
       "       4.97303293e+00, 3.00682725e-01, 2.03053455e-01, 9.14311525e-02,\n",
       "       2.87859498e+00, 1.04449769e-01, 2.99272182e-01, 9.44720541e-01,\n",
       "       1.67600047e+00, 1.84262323e-01, 4.54787736e-01, 5.70156502e-01,\n",
       "       4.05592154e-01, 3.66615233e+00, 5.28148510e+00, 3.63207031e+00,\n",
       "       2.58860915e+00, 4.36668574e-01, 9.74059205e-01, 4.60684365e-02,\n",
       "       8.52444885e-02, 6.32115380e-01, 1.95293373e-01, 2.68726652e+00,\n",
       "       3.94378375e-01, 2.11766618e-01, 1.86058035e+00, 2.36227323e+00,\n",
       "       5.62694446e-01, 2.15676890e+00, 4.46915635e-01, 1.04584420e+00,\n",
       "       9.98838623e-01, 5.78165961e-02, 2.58936521e-01, 2.47213472e+00,\n",
       "       6.63307687e-01, 8.64862976e-02, 1.68691887e-01, 1.71814501e+00,\n",
       "       1.47278510e+00, 3.08603637e-01, 9.00684585e-02, 2.79487367e-02,\n",
       "       8.02034175e-01, 2.82808685e-01, 1.11204714e+00, 1.30290598e-01,\n",
       "       1.11312553e+00, 9.47070039e-01, 1.94683680e-01, 6.13718424e-01,\n",
       "       6.64701753e-01, 1.69758255e+00, 1.43850047e+00, 3.22597995e+00,\n",
       "       3.10120859e-01, 5.35988472e-01, 2.05484993e-01, 1.32844979e+00,\n",
       "       5.51089893e-02, 1.64124896e+00, 2.17930388e+00, 1.83285667e+00,\n",
       "       5.35181475e-01, 1.56011855e+00, 6.48663173e-01, 1.37707933e+00,\n",
       "       1.62376389e+00, 7.32794532e-01, 1.94269475e+00, 4.34697780e-02,\n",
       "       1.05151863e+00, 3.56510434e-01, 2.49437623e-01, 1.62469918e+00,\n",
       "       1.19226482e-01, 6.15298272e-02, 1.14397419e+00, 1.01429684e+00,\n",
       "       3.26800930e+00, 6.36285609e-01, 9.10737828e-01, 8.59930016e-02,\n",
       "       1.34532933e-01, 3.11873382e-01, 5.47837226e-01, 2.82507302e-01,\n",
       "       2.37368220e-01, 1.22860292e+00, 1.07006194e+00, 7.64318275e-01,\n",
       "       7.70346178e-01, 3.58403180e-01, 4.78051588e-01, 1.49138509e+00,\n",
       "       2.32719353e+00, 1.01315471e+00, 1.69182156e+00, 5.82317645e-01,\n",
       "       6.78819372e-01, 7.32628652e-02, 4.27073997e-01, 2.87273737e-01,\n",
       "       3.56546263e-01, 1.07741182e-01, 5.43917614e-01, 3.38243192e-01,\n",
       "       6.20652621e-01, 6.29103409e-01, 1.79340208e-01, 6.87810395e-02,\n",
       "       8.56550509e-01, 9.93260895e-01, 6.21110909e-01, 3.75686910e+00,\n",
       "       4.45179440e-01, 2.69099470e-01, 5.13997243e-01, 2.50851220e+00,\n",
       "       4.95584759e-01, 3.32973392e-01, 1.69821275e+00, 4.10571735e-01,\n",
       "       1.89087704e-01, 1.12263551e+00, 1.58258424e-01, 2.48857589e-02,\n",
       "       1.15340898e-01, 2.06624031e+00, 1.35450922e+00, 2.63925166e-02,\n",
       "       1.62883984e+00, 9.75472967e-01, 4.41816105e-02, 9.33142857e-01,\n",
       "       3.97328398e-02, 6.82810902e-01, 5.48515723e-01, 7.69870191e-01,\n",
       "       1.83742902e+00, 2.18830606e+00, 2.36380577e+00, 2.46414880e+00,\n",
       "       1.55285665e+00, 3.03841940e+00, 6.31753218e-02, 3.35002005e+00,\n",
       "       2.45426689e-01, 8.10209971e+00, 3.49117552e+00, 2.95390720e-02,\n",
       "       1.50231577e-01, 2.65502406e+00, 7.16964957e-01, 7.25886578e-02,\n",
       "       2.84327625e-02, 8.87907005e-02, 4.31697439e-01, 6.40894849e-01,\n",
       "       7.34333046e-01, 8.15073669e-01, 1.25780340e-02, 9.08000555e-01,\n",
       "       1.53488580e+00, 1.16014177e+00, 7.40766574e-01, 1.22739847e-01,\n",
       "       6.04708400e-02, 1.41862149e-01, 1.06537627e-03, 7.16234365e-01,\n",
       "       1.80669232e+00, 1.89762859e+00, 2.08981791e+00, 6.19753036e-01,\n",
       "       4.69131381e-01, 8.65383772e-01, 1.00329594e+00, 2.09599692e+00,\n",
       "       6.15263469e-01, 4.94917583e-01, 1.30460225e+00, 1.53107366e+00,\n",
       "       5.51240194e-01, 4.15492004e-01, 1.00610592e+00, 3.33429154e-01,\n",
       "       2.08714644e+00, 8.89749860e-01, 8.76135232e-01, 4.72925110e-01,\n",
       "       1.89709924e+00, 1.05331453e-01, 8.69612741e-01, 8.84603650e-02,\n",
       "       2.17564211e+00, 2.02390167e-01, 1.31257187e+00, 4.13449368e+00,\n",
       "       1.67001736e+00, 2.71428677e-01, 6.87167817e-01, 1.84324582e-01,\n",
       "       9.57697208e-01, 1.67511450e+00, 2.29984195e+00, 2.40344260e+00,\n",
       "       3.77548704e-01, 1.48651271e+00, 4.11252058e+00, 1.46323139e-01,\n",
       "       1.48440467e-01, 3.69801502e-01, 3.90596306e-02, 7.74549587e-01,\n",
       "       5.30735799e-01, 1.13758695e+00, 3.69034976e-01, 1.91987344e-01,\n",
       "       5.03936637e-01, 3.25118442e-01, 1.00837483e-01, 1.40448498e-03,\n",
       "       4.26824397e-01, 4.92368249e-01, 6.78662150e-02, 8.60281364e-03,\n",
       "       7.84839833e-01, 1.06245468e+00, 3.40618372e+00, 7.43983779e-01,\n",
       "       2.92977993e-01, 1.07792128e+00, 9.14664344e-01, 7.51020905e-01,\n",
       "       1.19020225e-01, 1.44430822e+00, 8.20264611e-02, 2.33234007e+00,\n",
       "       1.72290594e-01, 8.23479520e-02, 8.84176265e-01, 1.22815741e+00,\n",
       "       2.30038285e+00, 2.58417226e+00, 7.25966555e-01, 1.26471837e+00,\n",
       "       9.67083270e-01, 1.43158491e+00, 1.23633896e+00, 2.15473985e+00,\n",
       "       7.54406845e-03, 3.98746282e-01, 2.30468602e+00, 4.44084526e-01,\n",
       "       2.33693483e+00, 4.77725152e-02, 2.16728822e+00, 1.40437145e+00,\n",
       "       6.06655189e-01, 1.22640070e+00, 2.20661196e-01, 7.96712027e-01,\n",
       "       8.70315638e-01, 1.03348907e+00, 1.17896128e+00, 4.09039094e-01,\n",
       "       2.09814365e-01, 8.81264382e-01, 4.40921906e+00, 4.84969090e-01,\n",
       "       5.19381316e-01, 4.66115727e-01, 1.98048337e+00, 3.31757506e-01,\n",
       "       2.29625786e+00, 2.09502662e-01, 9.84006677e-01, 4.65385643e-01,\n",
       "       1.16510682e+00, 3.77802499e-03, 2.90229981e+00, 1.66238795e-01,\n",
       "       1.45165826e-01, 6.65442165e-01, 7.37158391e-01, 6.05256161e-01,\n",
       "       1.32515064e+00, 1.52737286e+00, 4.25762044e+00, 1.88323380e+00,\n",
       "       1.11932004e+00, 4.36226234e-01, 2.78101797e+00, 1.54284337e+00,\n",
       "       1.53371627e-01, 2.02871680e+00, 8.75706459e-01, 9.73767519e-01,\n",
       "       9.16540988e-01, 1.05465903e+00, 1.92934874e+00, 2.06476949e+00,\n",
       "       1.27966010e-01, 1.28116818e-01, 4.80926025e-01, 4.31899085e-01,\n",
       "       3.70637998e+00, 8.32590974e-02, 2.51703842e-01, 8.33911764e-01,\n",
       "       6.15025423e-01, 1.77990937e+00, 7.31772138e-02, 5.83317341e-01,\n",
       "       2.15735908e+00, 3.30634828e+00, 2.28858497e-01, 1.36622893e-01,\n",
       "       2.73308021e-01, 8.95311769e-01, 6.32223851e-01, 1.69993828e-01,\n",
       "       4.36986477e-01, 1.77333923e-01, 9.21730352e-01, 1.64200640e+00,\n",
       "       9.49604607e-01, 8.26984298e-01, 1.58041079e+00, 4.90440853e-01,\n",
       "       3.07303896e+00, 6.63055845e-03, 1.91243504e+00, 7.60458498e-01,\n",
       "       3.78993301e-01, 2.46282835e-01, 6.25536286e-01, 1.57461392e+00,\n",
       "       1.64921604e+00, 7.09788735e-01, 1.34958464e+00, 1.09567986e-01,\n",
       "       3.04115855e+00, 9.58617368e-02, 1.91918436e+00, 3.28456346e-01,\n",
       "       1.34568811e+00, 7.29802941e-01, 1.70716995e+00, 2.09703224e+00,\n",
       "       4.90018871e-01, 7.18825099e+00, 5.63088737e-02, 3.22743510e-02,\n",
       "       4.45866956e-01, 2.07716522e-01, 2.98740748e-01, 1.16639019e+00,\n",
       "       7.12131184e-01, 1.48982935e+00, 2.08645969e-01, 1.65724233e+00,\n",
       "       2.08376264e+00, 1.89807097e-01, 1.45891650e+00, 6.01575098e-01,\n",
       "       7.61839453e-01, 5.11071659e-01, 1.76613542e+00, 5.21076066e-01,\n",
       "       4.06601154e-01, 1.92291119e-01, 3.72206813e-01, 6.87267022e-01,\n",
       "       1.77469575e-01, 6.49868234e-01, 1.09373865e+00, 1.95851432e-01,\n",
       "       9.18785968e-01, 3.51435518e-01, 3.92201171e-01, 1.09329111e+00,\n",
       "       1.64874325e-01, 1.05556594e+00, 1.41553751e+00, 2.50768797e-01,\n",
       "       8.10118329e-01, 1.37182767e+00, 5.19752447e-01, 2.75515827e-01,\n",
       "       1.03827957e+00, 2.23340906e+00, 1.14516285e-01, 5.39425281e-01,\n",
       "       7.32163375e-01, 1.89205684e-01, 3.51723840e+00, 7.57120542e-01,\n",
       "       1.53782221e+00, 4.17553557e-01, 1.72424370e+00, 8.53187507e-02,\n",
       "       1.48539293e+00, 8.86257514e-02, 1.77220893e-01, 2.77456825e-01,\n",
       "       2.22285507e-01, 1.48565777e+00, 2.58401745e-02, 1.91179571e-01,\n",
       "       1.62437804e-01, 2.32423056e+00, 1.03075565e+00, 1.56585232e+00,\n",
       "       3.44060545e-01, 1.32440339e+00, 1.14098570e+00, 9.93619442e-01,\n",
       "       3.16953866e-01, 4.89383320e+00, 2.95124015e-01, 4.33168631e-01,\n",
       "       1.15644750e-01, 1.04754235e+00, 6.51308059e-01, 2.85629237e+00,\n",
       "       1.32421488e+00, 3.93144574e+00, 8.36519295e-01, 7.32863509e-01,\n",
       "       2.79443515e-02, 5.54006284e-01, 1.56388463e+00, 1.77100233e+00,\n",
       "       1.35493654e+00, 3.48756736e-01, 2.19419397e+00, 7.63479771e-01,\n",
       "       2.35312112e+00, 2.32364470e+00, 8.80711291e-02, 5.48506605e-01,\n",
       "       4.59521134e-01, 2.51823357e-02, 3.57289318e-01, 9.86356607e-02,\n",
       "       7.38637901e-01, 2.17066766e-01, 4.33029517e-02, 3.23521361e-01,\n",
       "       5.81800589e-01, 5.85458794e-01, 4.45922653e-01, 1.56503708e+00,\n",
       "       3.58608432e-01, 9.86474948e-01, 7.42776989e-01, 1.57655664e+00,\n",
       "       7.53460682e-01, 2.36186687e-01, 1.90120568e-01, 3.94534248e+00,\n",
       "       3.67497354e-01, 2.30060109e-01, 6.08226267e-01, 1.80739442e+00,\n",
       "       2.33205429e+00, 3.71993784e-01, 3.54936936e-01, 9.72789266e-02,\n",
       "       3.07427480e+00, 1.70715487e+00, 1.01110505e+00, 8.21506203e-02,\n",
       "       9.33850178e-01, 1.24745401e+00, 3.65239448e+00, 2.54034267e+00,\n",
       "       8.54993548e-01, 1.37412232e+00, 2.17836379e-02, 1.04351382e+00,\n",
       "       9.80978204e-02, 6.59038222e-01, 1.94080835e-01, 2.30453681e+00,\n",
       "       1.41530099e+00, 5.04180415e-01, 2.63259508e-01, 3.12994817e+00,\n",
       "       6.00472616e-02, 1.16685632e-03, 1.32736977e+00, 3.54455256e+00,\n",
       "       1.30342911e+00, 1.05724184e+00, 8.35917544e-01, 8.98674223e-01,\n",
       "       2.46282486e-01, 7.51430727e-01, 2.88103905e+00, 7.78697101e-01,\n",
       "       6.58798028e-01, 9.36489066e-01, 5.36780871e-02, 5.94580712e-01,\n",
       "       3.47584100e-01, 3.34507061e+00, 8.65969309e-01, 2.64952765e-01,\n",
       "       3.13242047e-01, 1.14713777e+00, 9.16174235e-02, 7.33303339e-01,\n",
       "       2.41318675e+00, 8.04748969e-01, 1.60995525e+00, 9.42823963e-01,\n",
       "       1.61243204e-01, 1.54381530e+00, 1.02795744e+00, 1.79978743e+00,\n",
       "       4.87842365e-01, 2.48159507e+00, 1.00844686e-01, 4.68344271e-01,\n",
       "       8.53970381e-01, 1.09214692e-01, 1.91498736e+00, 1.23867496e+00,\n",
       "       3.52043925e-01, 6.40799693e-01, 3.80388775e-01, 8.38665914e-02,\n",
       "       9.09961284e-01, 1.14526984e-02, 4.81061222e-01, 1.46012015e+00,\n",
       "       1.54999932e-01, 8.58955438e-01, 1.87894760e+00, 9.47286640e-01,\n",
       "       2.89677885e-01, 7.79669815e-02, 7.95939230e-02, 2.66184703e-01,\n",
       "       1.09130478e+00, 1.20935789e+00, 2.98169128e-01, 3.11614631e-01,\n",
       "       1.31541368e+00, 7.28329741e-01, 1.78073299e-01, 6.66313264e-01,\n",
       "       2.96578813e-01, 2.88692748e+00, 5.55298819e-02, 6.91624898e-01,\n",
       "       5.30360170e-02, 6.73622612e-01, 7.52580467e-01, 1.61675171e-02,\n",
       "       1.17663354e-01, 1.13217229e+00, 2.36791600e-01, 9.92965706e-01,\n",
       "       4.25181189e-01, 1.25272764e+00, 1.46934281e+00, 1.02012597e+00,\n",
       "       3.65050733e-01, 2.57985000e+00, 1.44798339e+00, 1.14819623e+00,\n",
       "       9.98502062e-01, 3.42291355e-01, 1.14911789e+00, 3.23716241e-02,\n",
       "       2.01708806e-02, 3.26477644e+00, 5.99360026e-01, 3.91560537e-01,\n",
       "       9.41365466e-01, 1.83715546e+00, 1.17330142e+00, 2.06994677e+00,\n",
       "       5.95166090e-01, 1.97939997e-01, 8.30721895e-01, 1.20635837e-01,\n",
       "       2.74911183e+00, 2.92679926e-01, 1.44065386e+00, 8.66956672e-01,\n",
       "       9.22242567e-02, 8.90243270e-01, 7.65369777e-01, 1.51399133e+00,\n",
       "       3.52653109e-01, 6.40816435e-01, 8.59226765e-01, 2.57026921e-01,\n",
       "       2.12217208e+00, 3.53932777e-01, 1.95258163e-01, 1.58480200e+00,\n",
       "       6.29472366e+00, 1.20510941e+00, 1.62861156e-02, 5.78213110e-01,\n",
       "       3.65404174e-01, 9.74852652e-01, 4.28857254e-01, 6.71291851e-01,\n",
       "       1.75025070e+00, 6.62806327e-01, 1.01158693e+00, 1.58438184e+00,\n",
       "       1.18094347e+00, 1.15743147e+00, 4.46732232e-01, 9.81533724e-01,\n",
       "       2.63918504e-01, 1.60542508e+00, 1.07894268e+00, 4.64766049e-01,\n",
       "       1.64267507e+00, 1.68146711e-01, 3.96811377e-02, 6.03022341e-01,\n",
       "       1.12326441e-01, 8.96474558e-01, 2.15045245e-01, 2.24167430e-01,\n",
       "       3.07899213e-01, 2.93525996e-01, 1.36873972e+00, 5.29808567e-01,\n",
       "       6.04174726e-01, 5.72463404e-01, 1.23554979e+00, 1.49509599e+00,\n",
       "       2.16337277e-01, 4.75209577e-01, 3.96330000e-01, 8.40419478e-01,\n",
       "       3.78478306e+00, 2.24940663e+00, 6.80720221e-01, 6.42842034e-01,\n",
       "       7.36628115e-02, 1.70239813e+00, 2.57023179e-01, 5.19146934e-01,\n",
       "       1.97334179e-01, 1.88542101e-01, 1.33301990e+00, 1.10119023e+00,\n",
       "       1.88789692e-01, 2.72595715e+00, 1.11887004e+00, 3.63850977e-01,\n",
       "       1.80953500e+00, 1.06148984e+00, 2.13804555e-01, 1.52803484e-01,\n",
       "       8.02762314e-01, 1.46024065e+00, 6.18190205e-01, 2.06801655e+00,\n",
       "       3.13111261e-01, 3.91132163e-02, 7.99803293e-01, 5.91137047e-01,\n",
       "       3.87068798e+00, 1.19531360e+00, 2.93968256e+00, 9.03854461e-01,\n",
       "       2.33681663e+00, 1.58061605e+00, 1.66435447e+00, 2.46604558e+00,\n",
       "       1.24671616e+00, 4.14829777e-01, 1.43817968e-01, 2.05179987e-01,\n",
       "       2.01840665e-01, 1.97553661e-01, 4.09385042e-01, 1.65421206e-01,\n",
       "       2.08168265e+00, 4.06013918e-01, 2.09168408e-01, 1.35688010e-01,\n",
       "       2.47646139e-01, 2.33745658e-01, 2.14781017e+00, 5.21814490e-01,\n",
       "       2.62872002e+00, 4.78746303e-02, 3.84865460e-01, 2.72084733e-01,\n",
       "       5.03638121e-01, 2.95191639e-01, 6.86322471e-01, 1.19965718e+00,\n",
       "       6.17042789e-01, 1.38107470e+00, 2.95580049e-01, 1.82408033e+00,\n",
       "       1.10327391e+00, 1.56905142e+00, 2.00951740e+00, 1.91091693e-01,\n",
       "       1.03292151e-01, 1.65556249e+00, 6.01047096e-01, 3.39502807e+00,\n",
       "       1.64697458e+00, 3.51992836e-02, 7.50304149e-01, 3.69578615e+00,\n",
       "       8.83180406e-01, 1.18998212e-01, 5.08179342e-01, 1.12153329e+00,\n",
       "       3.17987477e-01, 3.05952158e+00, 2.60011264e+00, 2.63850104e+00,\n",
       "       1.10364115e+00, 4.42111091e-01, 2.76859283e+00, 9.68115991e-01,\n",
       "       1.50256874e+00, 7.76952539e-02, 9.81526972e-01, 7.44021178e-01,\n",
       "       7.79858759e-01, 3.96638615e+00, 1.34814009e+00, 3.90263162e-01,\n",
       "       7.32097867e-02, 3.29220773e-01, 1.01517167e+00, 1.87692164e+00,\n",
       "       5.46413492e-01, 5.94481609e-01, 1.61530825e+00, 1.27553837e+00,\n",
       "       1.88448100e+00, 1.17481473e+00, 2.91634990e-01, 1.76098425e-01,\n",
       "       1.33052348e+00, 3.63947487e-02, 3.83248106e-01, 3.25856274e+00,\n",
       "       5.65131852e-01, 4.75794917e-01, 3.93180886e-01, 1.80712609e-01,\n",
       "       6.94791236e-01, 5.71374157e+00, 1.82713608e+00, 9.36192307e-01,\n",
       "       7.87341672e-01, 1.62332684e+00, 3.88261977e-01, 2.79556514e-01,\n",
       "       2.60654116e+00, 2.04865889e+00, 1.26557961e+00, 5.51850598e-01,\n",
       "       3.56971236e-01, 2.02532778e+00, 1.25162677e-02, 2.52700990e+00,\n",
       "       1.44559077e+00, 2.41528973e+00, 1.03214719e+00, 5.81249799e-01,\n",
       "       8.02500905e-01, 1.57486521e+00, 2.95082607e+00, 3.00056808e+00,\n",
       "       2.64307292e+00, 6.47112793e-02, 2.21914998e-01, 4.66408614e-01,\n",
       "       1.57091789e+00, 9.26888965e-01, 3.57572208e-01, 1.49240394e+00,\n",
       "       3.74598805e-02, 5.09937103e-01, 2.44068267e+00, 1.42806421e+00,\n",
       "       3.59307975e+00, 2.92699462e+00, 1.10341579e-02, 8.96659846e-01,\n",
       "       2.63703411e+00, 4.38814884e-01, 1.65727566e-01, 1.72588211e-01,\n",
       "       1.05780168e+00, 2.27594481e+00, 1.63161330e+00, 1.53957359e+00,\n",
       "       1.93248443e+00, 3.06375581e+00, 7.55344956e-01, 4.32502035e-01,\n",
       "       3.43840089e-03, 5.82207447e-01, 1.60273197e+00, 1.79199833e+00,\n",
       "       5.44525369e-01, 4.45576719e-01, 2.63531455e+00, 2.77142998e+00,\n",
       "       1.03653803e+00, 1.44746762e+00, 1.36931289e+00, 3.08125183e-01,\n",
       "       1.03668744e-01, 1.07621819e-01, 8.41139298e-03, 2.04922782e+00])"
      ]
     },
     "execution_count": 10,
     "metadata": {},
     "output_type": "execute_result"
    }
   ],
   "source": [
    "original_data"
   ]
  },
  {
   "cell_type": "code",
   "execution_count": 11,
   "id": "cd65ce99",
   "metadata": {},
   "outputs": [],
   "source": [
    "# mix-max scale the data between 0 and 1\n",
    "scaled_data = minmax_scaling(original_data, columns = [0])"
   ]
  },
  {
   "cell_type": "code",
   "execution_count": 12,
   "id": "8eb2e3a3",
   "metadata": {},
   "outputs": [
    {
     "data": {
      "text/plain": [
       "array([[1.11303617e-02],\n",
       "       [1.64744877e-01],\n",
       "       [7.19403964e-03],\n",
       "       [4.53016305e-02],\n",
       "       [5.60236830e-02],\n",
       "       [5.78663276e-02],\n",
       "       [3.65671712e-02],\n",
       "       [6.85942438e-02],\n",
       "       [3.10216667e-01],\n",
       "       [2.61152723e-01],\n",
       "       [1.32268340e-01],\n",
       "       [1.96227814e-01],\n",
       "       [4.16096833e-03],\n",
       "       [2.01758719e-02],\n",
       "       [8.36823734e-02],\n",
       "       [4.20965919e-02],\n",
       "       [9.71287537e-02],\n",
       "       [3.08702890e-01],\n",
       "       [2.83732205e-01],\n",
       "       [1.85303709e-01],\n",
       "       [3.50333394e-03],\n",
       "       [5.77632463e-02],\n",
       "       [7.83387569e-02],\n",
       "       [2.82191882e-01],\n",
       "       [5.06931902e-02],\n",
       "       [2.49960418e-01],\n",
       "       [1.48091153e-01],\n",
       "       [1.24588014e-01],\n",
       "       [2.72458340e-01],\n",
       "       [1.06481736e-01],\n",
       "       [2.14120059e-01],\n",
       "       [1.58614730e-01],\n",
       "       [6.77760696e-02],\n",
       "       [1.52592893e-01],\n",
       "       [6.59736295e-01],\n",
       "       [1.64120659e-01],\n",
       "       [1.05550823e-01],\n",
       "       [1.50486076e-01],\n",
       "       [5.35205759e-02],\n",
       "       [6.43927035e-02],\n",
       "       [7.88085683e-02],\n",
       "       [3.41864562e-02],\n",
       "       [3.36862536e-01],\n",
       "       [4.84575056e-02],\n",
       "       [1.31480045e-01],\n",
       "       [3.30736691e-01],\n",
       "       [1.81723276e-01],\n",
       "       [7.72140180e-02],\n",
       "       [2.78249181e-02],\n",
       "       [3.22718867e-02],\n",
       "       [3.99885217e-01],\n",
       "       [2.22743885e-01],\n",
       "       [1.57890646e-01],\n",
       "       [1.43862871e-02],\n",
       "       [4.10755279e-02],\n",
       "       [5.23251789e-02],\n",
       "       [3.40661716e-01],\n",
       "       [1.94196368e-01],\n",
       "       [1.04108789e-01],\n",
       "       [6.55068733e-02],\n",
       "       [3.94053176e-02],\n",
       "       [1.31932312e-01],\n",
       "       [2.41023644e-01],\n",
       "       [4.56996834e-02],\n",
       "       [4.22264382e-02],\n",
       "       [2.52340451e-01],\n",
       "       [2.49921967e-01],\n",
       "       [7.73484994e-02],\n",
       "       [3.42692033e-03],\n",
       "       [1.31239016e-01],\n",
       "       [7.44841654e-02],\n",
       "       [7.21621682e-02],\n",
       "       [7.88254017e-02],\n",
       "       [1.46090770e-01],\n",
       "       [1.16655561e-01],\n",
       "       [1.13762706e-01],\n",
       "       [7.27718066e-02],\n",
       "       [3.40223716e-01],\n",
       "       [3.22315241e-02],\n",
       "       [6.67329030e-03],\n",
       "       [3.30662207e-02],\n",
       "       [3.40470858e-01],\n",
       "       [9.82525063e-02],\n",
       "       [2.53557729e-01],\n",
       "       [3.50356925e-02],\n",
       "       [2.74625276e-02],\n",
       "       [1.31402043e-01],\n",
       "       [6.86276183e-02],\n",
       "       [1.90798173e-03],\n",
       "       [4.51032698e-01],\n",
       "       [6.92548996e-03],\n",
       "       [1.78016794e-01],\n",
       "       [1.84410631e-01],\n",
       "       [1.48491419e-01],\n",
       "       [1.15095959e-02],\n",
       "       [1.41699144e-01],\n",
       "       [6.78630570e-02],\n",
       "       [6.00568003e-02],\n",
       "       [1.36518579e-01],\n",
       "       [2.24799124e-02],\n",
       "       [4.83955649e-01],\n",
       "       [2.59444505e-02],\n",
       "       [1.06992210e-01],\n",
       "       [2.99876128e-02],\n",
       "       [2.12999923e-02],\n",
       "       [2.87765181e-02],\n",
       "       [3.85181289e-01],\n",
       "       [2.41644566e-01],\n",
       "       [2.88531317e-01],\n",
       "       [1.57469409e-01],\n",
       "       [1.85705919e-01],\n",
       "       [1.64181096e-01],\n",
       "       [7.69133012e-02],\n",
       "       [5.42855593e-02],\n",
       "       [2.61027511e-01],\n",
       "       [2.64392743e-01],\n",
       "       [1.53552784e-01],\n",
       "       [2.61060304e-01],\n",
       "       [2.53389433e-03],\n",
       "       [1.39720947e-01],\n",
       "       [3.03716768e-02],\n",
       "       [4.71646584e-01],\n",
       "       [3.12201070e-01],\n",
       "       [9.48627995e-02],\n",
       "       [1.54071732e-01],\n",
       "       [4.93189829e-03],\n",
       "       [5.96183637e-03],\n",
       "       [3.41617937e-02],\n",
       "       [5.89643334e-02],\n",
       "       [6.87255261e-02],\n",
       "       [6.67069853e-04],\n",
       "       [3.83710315e-02],\n",
       "       [8.95092158e-02],\n",
       "       [1.30036025e-01],\n",
       "       [2.25888093e-02],\n",
       "       [3.02332754e-01],\n",
       "       [3.07614912e-03],\n",
       "       [7.59809994e-02],\n",
       "       [8.94093245e-04],\n",
       "       [2.59161791e-02],\n",
       "       [3.49607859e-04],\n",
       "       [1.53757167e-01],\n",
       "       [2.78086272e-01],\n",
       "       [1.10184690e-01],\n",
       "       [1.15660204e-01],\n",
       "       [1.23209302e-01],\n",
       "       [1.46230304e-01],\n",
       "       [1.66165318e-01],\n",
       "       [1.57867891e-02],\n",
       "       [6.39531349e-01],\n",
       "       [2.44566002e-02],\n",
       "       [1.88120946e-01],\n",
       "       [2.74327972e-01],\n",
       "       [1.91794580e-02],\n",
       "       [9.82638610e-02],\n",
       "       [3.88327971e-03],\n",
       "       [2.33014044e-01],\n",
       "       [1.92501299e-01],\n",
       "       [9.16708981e-02],\n",
       "       [2.84471860e-03],\n",
       "       [1.14835908e-01],\n",
       "       [1.02890685e-01],\n",
       "       [1.27860994e-01],\n",
       "       [6.12851368e-01],\n",
       "       [9.70879363e-02],\n",
       "       [2.93518932e-02],\n",
       "       [1.55242679e-01],\n",
       "       [1.10746560e-01],\n",
       "       [6.13744782e-01],\n",
       "       [3.69850733e-02],\n",
       "       [2.49336159e-02],\n",
       "       [1.11548443e-02],\n",
       "       [3.55205210e-01],\n",
       "       [1.27618756e-02],\n",
       "       [3.68109544e-02],\n",
       "       [1.16485763e-01],\n",
       "       [2.06755709e-01],\n",
       "       [2.26140193e-02],\n",
       "       [5.60079542e-02],\n",
       "       [7.02491931e-02],\n",
       "       [4.99352010e-02],\n",
       "       [4.52422099e-01],\n",
       "       [6.51820436e-01],\n",
       "       [4.48214979e-01],\n",
       "       [3.19409062e-01],\n",
       "       [5.37713062e-02],\n",
       "       [1.20107358e-01],\n",
       "       [5.55522399e-03],\n",
       "       [1.03911561e-02],\n",
       "       [7.78974607e-02],\n",
       "       [2.39757035e-02],\n",
       "       [3.31587429e-01],\n",
       "       [4.85509607e-02],\n",
       "       [2.60091778e-02],\n",
       "       [2.29540439e-01],\n",
       "       [2.91469923e-01],\n",
       "       [6.93280694e-02],\n",
       "       [2.66102258e-01],\n",
       "       [5.50362139e-02],\n",
       "       [1.28968571e-01],\n",
       "       [1.23166155e-01],\n",
       "       [7.00542887e-03],\n",
       "       [3.18318791e-02],\n",
       "       [3.05031339e-01],\n",
       "       [8.17478712e-02],\n",
       "       [1.05444463e-02],\n",
       "       [2.06919887e-02],\n",
       "       [2.11958074e-01],\n",
       "       [1.81670594e-01],\n",
       "       [3.79628388e-02],\n",
       "       [1.09866319e-02],\n",
       "       [3.31850963e-03],\n",
       "       [9.88724113e-02],\n",
       "       [3.47786834e-02],\n",
       "       [1.37140730e-01],\n",
       "       [1.59516942e-02],\n",
       "       [1.37273848e-01],\n",
       "       [1.16775787e-01],\n",
       "       [2.39004423e-02],\n",
       "       [7.56265216e-02],\n",
       "       [8.19199561e-02],\n",
       "       [2.09419823e-01],\n",
       "       [1.77438464e-01],\n",
       "       [3.98086768e-01],\n",
       "       [3.81501263e-02],\n",
       "       [6.60314564e-02],\n",
       "       [2.52337675e-02],\n",
       "       [1.63853696e-01],\n",
       "       [6.67119911e-03],\n",
       "       [2.02465947e-01],\n",
       "       [2.68883999e-01],\n",
       "       [2.26118199e-01],\n",
       "       [6.59318399e-02],\n",
       "       [1.92451125e-01],\n",
       "       [7.99401373e-02],\n",
       "       [1.69856577e-01],\n",
       "       [2.00307572e-01],\n",
       "       [9.03253987e-02],\n",
       "       [2.39676725e-01],\n",
       "       [5.23444291e-03],\n",
       "       [1.29669028e-01],\n",
       "       [4.38765031e-02],\n",
       "       [3.06593254e-02],\n",
       "       [2.00423025e-01],\n",
       "       [1.45859283e-02],\n",
       "       [7.46379394e-03],\n",
       "       [1.41081838e-01],\n",
       "       [1.25074333e-01],\n",
       "       [4.03274914e-01],\n",
       "       [7.84122381e-02],\n",
       "       [1.12290902e-01],\n",
       "       [1.04835533e-02],\n",
       "       [1.64753724e-02],\n",
       "       [3.83664596e-02],\n",
       "       [6.74940788e-02],\n",
       "       [3.47414804e-02],\n",
       "       [2.91694657e-02],\n",
       "       [1.51528496e-01],\n",
       "       [1.31958034e-01],\n",
       "       [9.42167220e-02],\n",
       "       [9.49608124e-02],\n",
       "       [4.41101456e-02],\n",
       "       [5.88796679e-02],\n",
       "       [1.83966597e-01],\n",
       "       [2.87139649e-01],\n",
       "       [1.24933348e-01],\n",
       "       [2.08708681e-01],\n",
       "       [7.17503772e-02],\n",
       "       [8.36626495e-02],\n",
       "       [8.91213221e-03],\n",
       "       [5.25869418e-02],\n",
       "       [3.53298541e-02],\n",
       "       [4.38809258e-02],\n",
       "       [1.31681710e-02],\n",
       "       [6.70102379e-02],\n",
       "       [4.16215760e-02],\n",
       "       [7.64824860e-02],\n",
       "       [7.75256599e-02],\n",
       "       [2.20064284e-02],\n",
       "       [8.35889103e-03],\n",
       "       [1.05601964e-01],\n",
       "       [1.22477634e-01],\n",
       "       [7.65390575e-02],\n",
       "       [4.63620271e-01],\n",
       "       [5.48218963e-02],\n",
       "       [3.30864039e-02],\n",
       "       [6.33168365e-02],\n",
       "       [3.09521812e-01],\n",
       "       [6.10439807e-02],\n",
       "       [4.09710664e-02],\n",
       "       [2.09497615e-01],\n",
       "       [5.05498856e-02],\n",
       "       [2.32096693e-02],\n",
       "       [1.38447770e-01],\n",
       "       [1.94040713e-02],\n",
       "       [2.94041250e-03],\n",
       "       [1.41062878e-02],\n",
       "       [2.54927315e-01],\n",
       "       [1.67070498e-01],\n",
       "       [3.12640822e-03],\n",
       "       [2.00934152e-01],\n",
       "       [1.20281874e-01],\n",
       "       [5.32231225e-03],\n",
       "       [1.15056602e-01],\n",
       "       [4.77315142e-03],\n",
       "       [8.41553681e-02],\n",
       "       [6.75778332e-02],\n",
       "       [9.49020562e-02],\n",
       "       [2.26682615e-01],\n",
       "       [2.69995237e-01],\n",
       "       [2.91659102e-01],\n",
       "       [3.04045548e-01],\n",
       "       [1.91554708e-01],\n",
       "       [3.74934101e-01],\n",
       "       [7.66691548e-03],\n",
       "       [4.13398405e-01],\n",
       "       [3.01642115e-02],\n",
       "       [1.00000000e+00],\n",
       "       [4.30822781e-01],\n",
       "       [3.51482225e-03],\n",
       "       [1.84132291e-02],\n",
       "       [3.27607387e-01],\n",
       "       [8.83713797e-02],\n",
       "       [8.82890735e-03],\n",
       "       [3.37825827e-03],\n",
       "       [1.08289041e-02],\n",
       "       [5.31576643e-02],\n",
       "       [7.89812074e-02],\n",
       "       [9.05153144e-02],\n",
       "       [1.00482020e-01],\n",
       "       [1.42113429e-03],\n",
       "       [1.11953010e-01],\n",
       "       [1.89336369e-01],\n",
       "       [1.43077580e-01],\n",
       "       [9.13094758e-02],\n",
       "       [1.50196217e-02],\n",
       "       [7.33307147e-03],\n",
       "       [1.73800983e-02],\n",
       "       [0.00000000e+00],\n",
       "       [8.82811947e-02],\n",
       "       [2.22888444e-01],\n",
       "       [2.34113712e-01],\n",
       "       [2.57837758e-01],\n",
       "       [7.63714404e-02],\n",
       "       [5.77785485e-02],\n",
       "       [1.06692351e-01],\n",
       "       [1.23716370e-01],\n",
       "       [2.58600502e-01],\n",
       "       [7.58172436e-02],\n",
       "       [6.09616237e-02],\n",
       "       [1.60909931e-01],\n",
       "       [1.88865794e-01],\n",
       "       [6.79141448e-02],\n",
       "       [5.11572487e-02],\n",
       "       [1.24063237e-01],\n",
       "       [4.10273262e-02],\n",
       "       [2.57507989e-01],\n",
       "       [1.09700126e-01],\n",
       "       [1.08019522e-01],\n",
       "       [5.82468503e-02],\n",
       "       [2.34048368e-01],\n",
       "       [1.28707116e-02],\n",
       "       [1.07214379e-01],\n",
       "       [1.07881272e-02],\n",
       "       [2.68431986e-01],\n",
       "       [2.48517390e-02],\n",
       "       [1.61893709e-01],\n",
       "       [5.10234636e-01],\n",
       "       [2.06017148e-01],\n",
       "       [3.33739236e-02],\n",
       "       [8.46931902e-02],\n",
       "       [2.26217046e-02],\n",
       "       [1.18087616e-01],\n",
       "       [2.06646344e-01],\n",
       "       [2.83763342e-01],\n",
       "       [2.96551913e-01],\n",
       "       [4.64734888e-02],\n",
       "       [1.83365145e-01],\n",
       "       [5.07522254e-01],\n",
       "       [1.79307675e-02],\n",
       "       [1.81921326e-02],\n",
       "       [4.55171662e-02],\n",
       "       [4.69004978e-03],\n",
       "       [9.54796856e-02],\n",
       "       [6.53830611e-02],\n",
       "       [1.40293390e-01],\n",
       "       [4.54225454e-02],\n",
       "       [2.35676038e-02],\n",
       "       [6.20749450e-02],\n",
       "       [4.00014433e-02],\n",
       "       [1.23159713e-02],\n",
       "       [4.18599273e-05],\n",
       "       [5.25561309e-02],\n",
       "       [6.06469313e-02],\n",
       "       [8.24596416e-03],\n",
       "       [9.30429012e-04],\n",
       "       [9.67499242e-02],\n",
       "       [1.31018987e-01],\n",
       "       [4.20331306e-01],\n",
       "       [9.17066108e-02],\n",
       "       [3.60339933e-02],\n",
       "       [1.32928200e-01],\n",
       "       [1.12775595e-01],\n",
       "       [9.25752809e-02],\n",
       "       [1.45604677e-02],\n",
       "       [1.78155380e-01],\n",
       "       [9.99391949e-03],\n",
       "       [2.87774943e-01],\n",
       "       [2.11362168e-02],\n",
       "       [1.00336047e-02],\n",
       "       [1.09012115e-01],\n",
       "       [1.51473501e-01],\n",
       "       [2.83830112e-01],\n",
       "       [3.18861367e-01],\n",
       "       [8.94825463e-02],\n",
       "       [1.55986623e-01],\n",
       "       [1.19246241e-01],\n",
       "       [1.76584801e-01],\n",
       "       [1.52483440e-01],\n",
       "       [2.65851790e-01],\n",
       "       [7.99736418e-04],\n",
       "       [4.90901396e-02],\n",
       "       [2.84361299e-01],\n",
       "       [5.46867389e-02],\n",
       "       [2.88342125e-01],\n",
       "       [5.76557721e-03],\n",
       "       [2.67400773e-01],\n",
       "       [1.73225543e-01],\n",
       "       [7.47546286e-02],\n",
       "       [1.51256651e-01],\n",
       "       [2.71071336e-02],\n",
       "       [9.82154400e-02],\n",
       "       [1.07301145e-01],\n",
       "       [1.27443442e-01],\n",
       "       [1.45400681e-01],\n",
       "       [5.03606948e-02],\n",
       "       [2.57681896e-02],\n",
       "       [1.08652669e-01],\n",
       "       [5.44147019e-01],\n",
       "       [5.97335716e-02],\n",
       "       [6.39814521e-02],\n",
       "       [5.74062931e-02],\n",
       "       [2.44341391e-01],\n",
       "       [4.08209762e-02],\n",
       "       [2.83320918e-01],\n",
       "       [2.57297127e-02],\n",
       "       [1.21335284e-01],\n",
       "       [5.73161707e-02],\n",
       "       [1.43690472e-01],\n",
       "       [3.34852144e-04],\n",
       "       [3.58131359e-01],\n",
       "       [2.03891765e-02],\n",
       "       [1.77879076e-02],\n",
       "       [8.20113533e-02],\n",
       "       [9.08640780e-02],\n",
       "       [7.45819312e-02],\n",
       "       [1.63446445e-01],\n",
       "       [1.88408964e-01],\n",
       "       [5.25433530e-01],\n",
       "       [2.32336804e-01],\n",
       "       [1.38038505e-01],\n",
       "       [5.37167034e-02],\n",
       "       [3.43160204e-01],\n",
       "       [1.90318659e-01],\n",
       "       [1.88008400e-02],\n",
       "       [2.50295375e-01],\n",
       "       [1.07966594e-01],\n",
       "       [1.20071352e-01],\n",
       "       [1.13007250e-01],\n",
       "       [1.30056683e-01],\n",
       "       [2.38029279e-01],\n",
       "       [2.54745756e-01],\n",
       "       [1.56647445e-02],\n",
       "       [1.56833605e-02],\n",
       "       [5.92344914e-02],\n",
       "       [5.31825556e-02],\n",
       "       [4.57387841e-01],\n",
       "       [1.01460774e-02],\n",
       "       [3.09390697e-02],\n",
       "       [1.02807414e-01],\n",
       "       [7.57878589e-02],\n",
       "       [2.19582330e-01],\n",
       "       [8.90155930e-03],\n",
       "       [7.18737807e-02],\n",
       "       [2.66175110e-01],\n",
       "       [4.08007517e-01],\n",
       "       [2.81190168e-02],\n",
       "       [1.67333591e-02],\n",
       "       [3.36059117e-02],\n",
       "       [1.10386693e-01],\n",
       "       [7.79108505e-02],\n",
       "       [2.08527016e-02],\n",
       "       [5.38105485e-02],\n",
       "       [2.17587705e-02],\n",
       "       [1.13647830e-01],\n",
       "       [2.02559446e-01],\n",
       "       [1.17088657e-01],\n",
       "       [1.01952280e-01],\n",
       "       [1.94956020e-01],\n",
       "       [6.04090116e-02],\n",
       "       [3.79207575e-01],\n",
       "       [6.86971805e-04],\n",
       "       [2.35941435e-01],\n",
       "       [9.37402671e-02],\n",
       "       [4.66518113e-02],\n",
       "       [3.02698950e-02],\n",
       "       [7.70853306e-02],\n",
       "       [1.94240448e-01],\n",
       "       [2.03449412e-01],\n",
       "       [8.74855395e-02],\n",
       "       [1.66462604e-01],\n",
       "       [1.33936737e-02],\n",
       "       [3.75272225e-01],\n",
       "       [1.17017601e-02],\n",
       "       [2.36774578e-01],\n",
       "       [4.04134777e-02],\n",
       "       [1.65981611e-01],\n",
       "       [8.99561136e-02],\n",
       "       [2.10603302e-01],\n",
       "       [2.58728303e-01],\n",
       "       [6.03569217e-02],\n",
       "       [8.87193576e-01],\n",
       "       [6.81931408e-03],\n",
       "       [3.85246791e-03],\n",
       "       [5.49067640e-02],\n",
       "       [2.55092298e-02],\n",
       "       [3.67453537e-02],\n",
       "       [1.43848892e-01],\n",
       "       [8.77746938e-02],\n",
       "       [1.83774554e-01],\n",
       "       [2.56239616e-02],\n",
       "       [2.04440185e-01],\n",
       "       [2.57090290e-01],\n",
       "       [2.32984720e-02],\n",
       "       [1.79958640e-01],\n",
       "       [7.41275369e-02],\n",
       "       [9.39107336e-02],\n",
       "       [6.29556995e-02],\n",
       "       [2.17882060e-01],\n",
       "       [6.41906538e-02],\n",
       "       [5.00597531e-02],\n",
       "       [2.36051022e-02],\n",
       "       [4.58140802e-02],\n",
       "       [8.47054361e-02],\n",
       "       [2.17755156e-02],\n",
       "       [8.00888912e-02],\n",
       "       [1.34880712e-01],\n",
       "       [2.40445909e-02],\n",
       "       [1.13284373e-01],\n",
       "       [4.32500503e-02],\n",
       "       [4.82822044e-02],\n",
       "       [1.34825466e-01],\n",
       "       [2.02207449e-02],\n",
       "       [1.30168633e-01],\n",
       "       [1.74603893e-01],\n",
       "       [3.08236468e-02],\n",
       "       [9.98703276e-02],\n",
       "       [1.69208306e-01],\n",
       "       [6.40272648e-02],\n",
       "       [3.38784456e-02],\n",
       "       [1.28034786e-01],\n",
       "       [2.75562797e-01],\n",
       "       [1.40044967e-02],\n",
       "       [6.64556997e-02],\n",
       "       [9.02474881e-02],\n",
       "       [2.32242329e-02],\n",
       "       [4.34040011e-01],\n",
       "       [9.33282263e-02],\n",
       "       [1.89698843e-01],\n",
       "       [5.14117289e-02],\n",
       "       [2.12710903e-01],\n",
       "       [1.04003231e-02],\n",
       "       [1.83226919e-01],\n",
       "       [1.08085427e-02],\n",
       "       [2.17448179e-02],\n",
       "       [3.41180443e-02],\n",
       "       [2.73076403e-02],\n",
       "       [1.83259610e-01],\n",
       "       [3.05822654e-03],\n",
       "       [2.34678915e-02],\n",
       "       [1.99199782e-02],\n",
       "       [2.86773897e-01],\n",
       "       [1.27106026e-01],\n",
       "       [1.93158908e-01],\n",
       "       [4.23396759e-02],\n",
       "       [1.63354205e-01],\n",
       "       [1.40712935e-01],\n",
       "       [1.22521894e-01],\n",
       "       [3.89935997e-02],\n",
       "       [6.03968287e-01],\n",
       "       [3.62989004e-02],\n",
       "       [5.33392697e-02],\n",
       "       [1.41437957e-02],\n",
       "       [1.29178193e-01],\n",
       "       [8.02666247e-02],\n",
       "       [3.52452154e-01],\n",
       "       [1.63330934e-01],\n",
       "       [4.85170190e-01],\n",
       "       [1.03129290e-01],\n",
       "       [9.03339133e-02],\n",
       "       [3.31796831e-03],\n",
       "       [6.82555937e-02],\n",
       "       [1.92916014e-01],\n",
       "       [2.18482836e-01],\n",
       "       [1.67123247e-01],\n",
       "       [4.29193787e-02],\n",
       "       [2.70722046e-01],\n",
       "       [9.41132162e-02],\n",
       "       [2.90340177e-01],\n",
       "       [2.86701577e-01],\n",
       "       [1.07400795e-02],\n",
       "       [6.75767077e-02],\n",
       "       [5.65922497e-02],\n",
       "       [2.97702225e-03],\n",
       "       [4.39726493e-02],\n",
       "       [1.20441762e-02],\n",
       "       [9.10467102e-02],\n",
       "       [2.66634335e-02],\n",
       "       [5.21384970e-03],\n",
       "       [3.98042980e-02],\n",
       "       [7.16865512e-02],\n",
       "       [7.21381239e-02],\n",
       "       [5.49136393e-02],\n",
       "       [1.93058274e-01],\n",
       "       [4.41354821e-02],\n",
       "       [1.21639970e-01],\n",
       "       [9.15576435e-02],\n",
       "       [1.94480261e-01],\n",
       "       [9.28764495e-02],\n",
       "       [2.90236161e-02],\n",
       "       [2.33371671e-02],\n",
       "       [4.86885618e-01],\n",
       "       [4.52327398e-02],\n",
       "       [2.82673451e-02],\n",
       "       [7.49485641e-02],\n",
       "       [2.22975113e-01],\n",
       "       [2.87739666e-01],\n",
       "       [4.57877837e-02],\n",
       "       [4.36822688e-02],\n",
       "       [1.18766995e-02],\n",
       "       [3.79360129e-01],\n",
       "       [2.10601440e-01],\n",
       "       [1.24680335e-01],\n",
       "       [1.00092458e-02],\n",
       "       [1.15143914e-01],\n",
       "       [1.53855493e-01],\n",
       "       [4.50723816e-01],\n",
       "       [3.13450998e-01],\n",
       "       [1.05409771e-01],\n",
       "       [1.69491560e-01],\n",
       "       [2.55748350e-03],\n",
       "       [1.28680907e-01],\n",
       "       [1.19777846e-02],\n",
       "       [8.12208441e-02],\n",
       "       [2.38260265e-02],\n",
       "       [2.84342880e-01],\n",
       "       [1.74574698e-01],\n",
       "       [6.21050372e-02],\n",
       "       [3.23655130e-02],\n",
       "       [3.86232506e-01],\n",
       "       [7.28078452e-03],\n",
       "       [1.25268018e-05],\n",
       "       [1.63720377e-01],\n",
       "       [4.37411698e-01],\n",
       "       [1.60765118e-01],\n",
       "       [1.30375508e-01],\n",
       "       [1.03055009e-01],\n",
       "       [1.10801758e-01],\n",
       "       [3.02698519e-02],\n",
       "       [9.26258697e-02],\n",
       "       [3.55506910e-01],\n",
       "       [9.59916590e-02],\n",
       "       [8.11911942e-02],\n",
       "       [1.15469661e-01],\n",
       "       [6.49456707e-03],\n",
       "       [7.32641428e-02],\n",
       "       [4.27746273e-02],\n",
       "       [4.12787441e-01],\n",
       "       [1.06764630e-01],\n",
       "       [3.25745304e-02],\n",
       "       [3.85354090e-02],\n",
       "       [1.41472354e-01],\n",
       "       [1.11778377e-02],\n",
       "       [9.03882064e-02],\n",
       "       [2.97754740e-01],\n",
       "       [9.92075283e-02],\n",
       "       [1.98603019e-01],\n",
       "       [1.16251647e-01],\n",
       "       [1.97725156e-02],\n",
       "       [1.90438635e-01],\n",
       "       [1.26760611e-01],\n",
       "       [2.22036099e-01],\n",
       "       [6.00882515e-02],\n",
       "       [3.06199134e-01],\n",
       "       [1.23168605e-02],\n",
       "       [5.76813868e-02],\n",
       "       [1.05283470e-01],\n",
       "       [1.33500627e-02],\n",
       "       [2.36256496e-01],\n",
       "       [1.52771799e-01],\n",
       "       [4.33251526e-02],\n",
       "       [7.89694612e-02],\n",
       "       [4.68240700e-02],\n",
       "       [1.02210671e-02],\n",
       "       [1.12195045e-01],\n",
       "       [1.28222171e-03],\n",
       "       [5.92511803e-02],\n",
       "       [1.80107221e-01],\n",
       "       [1.90018397e-02],\n",
       "       [1.05898831e-01],\n",
       "       [2.31807711e-01],\n",
       "       [1.16802525e-01],\n",
       "       [3.56266246e-02],\n",
       "       [9.49281315e-03],\n",
       "       [9.69364448e-03],\n",
       "       [3.27266020e-02],\n",
       "       [1.34580271e-01],\n",
       "       [1.49152869e-01],\n",
       "       [3.66747923e-02],\n",
       "       [3.83345190e-02],\n",
       "       [1.62244505e-01],\n",
       "       [8.97742603e-02],\n",
       "       [2.18500398e-02],\n",
       "       [8.21188827e-02],\n",
       "       [3.64784822e-02],\n",
       "       [3.56233783e-01],\n",
       "       [6.72315452e-03],\n",
       "       [8.52433767e-02],\n",
       "       [6.41530928e-03],\n",
       "       [8.30211561e-02],\n",
       "       [9.27677948e-02],\n",
       "       [1.86422377e-03],\n",
       "       [1.43929741e-02],\n",
       "       [1.39625000e-01],\n",
       "       [2.90982872e-02],\n",
       "       [1.22441196e-01],\n",
       "       [5.23532917e-02],\n",
       "       [1.54506476e-01],\n",
       "       [1.81245675e-01],\n",
       "       [1.25793886e-01],\n",
       "       [4.49307264e-02],\n",
       "       [3.18327823e-01],\n",
       "       [1.78609046e-01],\n",
       "       [1.41603011e-01],\n",
       "       [1.23124609e-01],\n",
       "       [4.21212853e-02],\n",
       "       [1.41716782e-01],\n",
       "       [3.86447539e-03],\n",
       "       [2.35840308e-03],\n",
       "       [4.02875846e-01],\n",
       "       [7.38541062e-02],\n",
       "       [4.82031238e-02],\n",
       "       [1.16071609e-01],\n",
       "       [2.26648847e-01],\n",
       "       [1.44702021e-01],\n",
       "       [2.55384845e-01],\n",
       "       [7.33364025e-02],\n",
       "       [2.43024054e-02],\n",
       "       [1.02413653e-01],\n",
       "       [1.47599005e-02],\n",
       "       [3.39221677e-01],\n",
       "       [3.59971996e-02],\n",
       "       [1.77704281e-01],\n",
       "       [1.06886511e-01],\n",
       "       [1.12527458e-02],\n",
       "       [1.09761033e-01],\n",
       "       [9.43465204e-02],\n",
       "       [1.86757134e-01],\n",
       "       [4.34003510e-02],\n",
       "       [7.89715279e-02],\n",
       "       [1.05932323e-01],\n",
       "       [3.15961560e-02],\n",
       "       [2.61831590e-01],\n",
       "       [4.35583145e-02],\n",
       "       [2.39713571e-02],\n",
       "       [1.95498076e-01],\n",
       "       [7.76895644e-01],\n",
       "       [1.48628433e-01],\n",
       "       [1.87886370e-03],\n",
       "       [7.12437091e-02],\n",
       "       [4.49743555e-02],\n",
       "       [1.20205302e-01],\n",
       "       [5.28070688e-02],\n",
       "       [8.27334446e-02],\n",
       "       [2.15921233e-01],\n",
       "       [8.16859828e-02],\n",
       "       [1.24739819e-01],\n",
       "       [1.95446211e-01],\n",
       "       [1.45645364e-01],\n",
       "       [1.42743018e-01],\n",
       "       [5.50135745e-02],\n",
       "       [1.21030020e-01],\n",
       "       [3.24468602e-02],\n",
       "       [1.98043810e-01],\n",
       "       [1.33054281e-01],\n",
       "       [5.72396874e-02],\n",
       "       [2.02641987e-01],\n",
       "       [2.06246916e-02],\n",
       "       [4.76676926e-03],\n",
       "       [7.43061861e-02],\n",
       "       [1.37341802e-02],\n",
       "       [1.10530229e-01],\n",
       "       [2.64138949e-02],\n",
       "       [2.75399467e-02],\n",
       "       [3.78758841e-02],\n",
       "       [3.61016393e-02],\n",
       "       [1.68827126e-01],\n",
       "       [6.52686027e-02],\n",
       "       [7.44484377e-02],\n",
       "       [7.05339595e-02],\n",
       "       [1.52386025e-01],\n",
       "       [1.84424674e-01],\n",
       "       [2.65733846e-02],\n",
       "       [5.85288472e-02],\n",
       "       [4.87918712e-02],\n",
       "       [1.03610733e-01],\n",
       "       [4.67065998e-01],\n",
       "       [2.77537554e-01],\n",
       "       [8.38972922e-02],\n",
       "       [7.92215700e-02],\n",
       "       [8.96150199e-03],\n",
       "       [2.10014263e-01],\n",
       "       [3.15956941e-02],\n",
       "       [6.39525197e-02],\n",
       "       [2.42276226e-02],\n",
       "       [2.31423195e-02],\n",
       "       [1.64417835e-01],\n",
       "       [1.35800542e-01],\n",
       "       [2.31728824e-02],\n",
       "       [3.36363440e-01],\n",
       "       [1.37982956e-01],\n",
       "       [4.47826272e-02],\n",
       "       [2.23239349e-01],\n",
       "       [1.30899885e-01],\n",
       "       [2.62607428e-02],\n",
       "       [1.87307079e-02],\n",
       "       [9.89622936e-02],\n",
       "       [1.80122095e-01],\n",
       "       [7.61785228e-02],\n",
       "       [2.55146577e-01],\n",
       "       [3.85192646e-02],\n",
       "       [4.69666446e-03],\n",
       "       [9.85970290e-02],\n",
       "       [7.28390533e-02],\n",
       "       [4.77670190e-01],\n",
       "       [1.47419228e-01],\n",
       "       [3.62745924e-01],\n",
       "       [1.11441212e-01],\n",
       "       [2.88327535e-01],\n",
       "       [1.94981358e-01],\n",
       "       [2.05318115e-01],\n",
       "       [3.04279688e-01],\n",
       "       [1.53764413e-01],\n",
       "       [5.10755028e-02],\n",
       "       [1.76215266e-02],\n",
       "       [2.51961172e-02],\n",
       "       [2.47839078e-02],\n",
       "       [2.42547157e-02],\n",
       "       [5.04033990e-02],\n",
       "       [2.02882525e-02],\n",
       "       [2.56833533e-01],\n",
       "       [4.99872640e-02],\n",
       "       [2.56884520e-02],\n",
       "       [1.66179562e-02],\n",
       "       [3.04381826e-02],\n",
       "       [2.87222930e-02],\n",
       "       [2.64996382e-01],\n",
       "       [6.42818056e-02],\n",
       "       [3.24360388e-01],\n",
       "       [5.77818241e-03],\n",
       "       [4.73766766e-02],\n",
       "       [3.34549079e-02],\n",
       "       [6.20380959e-02],\n",
       "       [3.63072481e-02],\n",
       "       [8.45888398e-02],\n",
       "       [1.47955404e-01],\n",
       "       [7.60368846e-02],\n",
       "       [1.70349768e-01],\n",
       "       [3.63551937e-02],\n",
       "       [2.25034839e-01],\n",
       "       [1.36057754e-01],\n",
       "       [1.93553808e-01],\n",
       "       [2.47925381e-01],\n",
       "       [2.34570438e-02],\n",
       "       [1.26189781e-02],\n",
       "       [2.04232824e-01],\n",
       "       [7.40623599e-02],\n",
       "       [4.18954242e-01],\n",
       "       [2.03172723e-01],\n",
       "       [4.21352459e-03],\n",
       "       [9.24868038e-02],\n",
       "       [4.56080128e-01],\n",
       "       [1.08889185e-01],\n",
       "       [1.45577503e-02],\n",
       "       [6.25986689e-02],\n",
       "       [1.38311710e-01],\n",
       "       [3.91211897e-02],\n",
       "       [3.77538976e-01],\n",
       "       [3.20829065e-01],\n",
       "       [3.25567768e-01],\n",
       "       [1.36103086e-01],\n",
       "       [5.44431362e-02],\n",
       "       [3.41626432e-01],\n",
       "       [1.19373721e-01],\n",
       "       [1.85347118e-01],\n",
       "       [9.45927081e-03],\n",
       "       [1.21029187e-01],\n",
       "       [9.17112275e-02],\n",
       "       [9.61350553e-02],\n",
       "       [4.89483270e-01],\n",
       "       [1.66284287e-01],\n",
       "       [4.80429745e-02],\n",
       "       [8.90558014e-03],\n",
       "       [4.05078392e-02],\n",
       "       [1.25182322e-01],\n",
       "       [2.31557625e-01],\n",
       "       [6.73183317e-02],\n",
       "       [7.32519094e-02],\n",
       "       [1.99263799e-01],\n",
       "       [1.57322255e-01],\n",
       "       [2.32490760e-01],\n",
       "       [1.44888826e-01],\n",
       "       [3.58682116e-02],\n",
       "       [2.16062593e-02],\n",
       "       [1.64109674e-01],\n",
       "       [4.36109403e-03],\n",
       "       [4.71770288e-02],\n",
       "       [4.02108821e-01],\n",
       "       [6.96289452e-02],\n",
       "       [5.86011022e-02],\n",
       "       [4.84031413e-02],\n",
       "       [2.21758390e-02],\n",
       "       [8.56342328e-02],\n",
       "       [7.05178619e-01],\n",
       "       [2.25412044e-01],\n",
       "       [1.15433029e-01],\n",
       "       [9.70587538e-02],\n",
       "       [2.00253622e-01],\n",
       "       [4.77959462e-02],\n",
       "       [3.43772322e-02],\n",
       "       [3.21622608e-01],\n",
       "       [2.52757047e-01],\n",
       "       [1.56092936e-01],\n",
       "       [6.79894936e-02],\n",
       "       [4.39333849e-02],\n",
       "       [2.49877030e-01],\n",
       "       [1.41350980e-03],\n",
       "       [3.11805186e-01],\n",
       "       [1.78313698e-01],\n",
       "       [2.98014334e-01],\n",
       "       [1.27277799e-01],\n",
       "       [7.16185612e-02],\n",
       "       [9.89300249e-02],\n",
       "       [1.94271468e-01],\n",
       "       [3.64121490e-01],\n",
       "       [3.70261695e-01],\n",
       "       [3.26132126e-01],\n",
       "       [7.85651566e-03],\n",
       "       [2.72619042e-02],\n",
       "       [5.74424473e-02],\n",
       "       [1.93784207e-01],\n",
       "       [1.14284615e-01],\n",
       "       [4.40075696e-02],\n",
       "       [1.84092365e-01],\n",
       "       [4.49257500e-03],\n",
       "       [6.28156487e-02],\n",
       "       [3.01148865e-01],\n",
       "       [1.76150202e-01],\n",
       "       [4.43401944e-01],\n",
       "       [3.61179711e-01],\n",
       "       [1.23055664e-03],\n",
       "       [1.10553101e-01],\n",
       "       [3.25386688e-01],\n",
       "       [5.40362490e-02],\n",
       "       [2.03260699e-02],\n",
       "       [2.11729549e-02],\n",
       "       [1.30444615e-01],\n",
       "       [2.80813454e-01],\n",
       "       [2.01276511e-01],\n",
       "       [1.89915035e-01],\n",
       "       [2.38416352e-01],\n",
       "       [3.78061654e-01],\n",
       "       [9.31090462e-02],\n",
       "       [5.32569844e-02],\n",
       "       [2.92928597e-04],\n",
       "       [7.17367743e-02],\n",
       "       [1.97711370e-01],\n",
       "       [2.21074604e-01],\n",
       "       [6.70852598e-02],\n",
       "       [5.48709368e-02],\n",
       "       [3.25174424e-01],\n",
       "       [3.41976652e-01],\n",
       "       [1.27819808e-01],\n",
       "       [1.78545379e-01],\n",
       "       [1.68897879e-01],\n",
       "       [3.79037780e-02],\n",
       "       [1.26654651e-02],\n",
       "       [1.31534368e-02],\n",
       "       [9.06799849e-04],\n",
       "       [2.52827277e-01]])"
      ]
     },
     "execution_count": 12,
     "metadata": {},
     "output_type": "execute_result"
    }
   ],
   "source": [
    "scaled_data"
   ]
  },
  {
   "cell_type": "code",
   "execution_count": 18,
   "id": "9ee1c371",
   "metadata": {},
   "outputs": [
    {
     "data": {
      "text/plain": [
       "Text(0.5, 1.0, 'Scaled data')"
      ]
     },
     "execution_count": 18,
     "metadata": {},
     "output_type": "execute_result"
    },
    {
     "data": {
      "image/png": "[encoded data removed]",
      "text/plain": [
       "<Figure size 640x480 with 2 Axes>"
      ]
     },
     "metadata": {},
     "output_type": "display_data"
    }
   ],
   "source": [
    "# plot both together to compare\n",
    "fig, ax=plt.subplots(1,2)\n",
    "sns.distplot(original_data, ax=ax[0])\n",
    "ax[0].set_title(\"Original Data\")\n",
    "sns.distplot(scaled_data, ax=ax[1])\n",
    "ax[1].set_title(\"Scaled data\")"
   ]
  },
  {
   "cell_type": "markdown",
   "id": "9888c58b",
   "metadata": {},
   "source": [
    "Notice that the shape of the data doesn't change, but that instead of ranging from 0 to 8ish, it now ranges from 0 to 1.\n",
    "\n"
   ]
  },
  {
   "cell_type": "markdown",
   "id": "33b11adf",
   "metadata": {},
   "source": [
    "*Explain the code above:\n",
    "\n",
    "1. **fig, ax = plt.subplots(1, 2)**\n",
    " - **plt.subplots(1, 2)** creates a figure object (fig) and a NumPy array of axes objects (ax) with one row and two columns, indicating that we want two subplots side by side.\n",
    " - The **fig** object represents the entire figure, while **ax** is an array containing the individual axes objects for each subplot.\n",
    "\n",
    "2. **sns.distplot(original_data, ax=ax[0])**\n",
    " - **sns.distplot** is a function from the Seaborn library that plots the **distribution** of data using a **histogram** and a kernel density estimation plot.\n",
    " - **original_data** is the dataset we want to plot.\n",
    " - **ax=ax[0]** specifies what we want to plot on the first subplot ax[0] \n",
    "\n",
    "3. **ax[0].set_title(\"Original Data\")**\n",
    " - ax[0] refers to the first subplot.\n",
    " - .set_title(\"Original Data\") sets the title of the first subplot to \"Original Data\".\n",
    " \n",
    " In summary, the provided code creates a figure with two subplots. The sns.distplot function is used to plot the distribution of the original_data on the left subplot and the distribution of the scaled_data on the right subplot. The ax.set_title method is then used to set titles for each subplot.\n",
    "\n",
    " This allows for a visual comparison of the original data distribution and the scaled data distribution side by side."
   ]
  },
  {
   "cell_type": "markdown",
   "id": "640f7d4f",
   "metadata": {},
   "source": [
    "## Normalization"
   ]
  },
  {
   "cell_type": "markdown",
   "id": "c1ebd0cd",
   "metadata": {},
   "source": [
    "Scaling just changes the range of your data. Normalization is a more radical transformation. The point of normalization is to change your observations so that they can **be described as a normal distribution**."
   ]
  },
  {
   "cell_type": "markdown",
   "id": "4a060629",
   "metadata": {},
   "source": [
    "> **Normal distribution:** Also known as the \"bell curve\", this is a specific statistical distribution where a roughly **equal** observations fall **above** and **below** the mean, the mean and the median are the same, and there are more observations closer to the mean. The normal distribution is also known as the **Gaussian distribution**."
   ]
  },
  {
   "cell_type": "markdown",
   "id": "374b3809",
   "metadata": {},
   "source": [
    "Only normalize your data if you're going to be using a machine learning or statistics technique that assumes your data is normally distributed. Some examples of these include **t-tests, ANOVAs, linear regression, linear discriminant analysis (LDA) and Gaussian naive Bayes.** (Pro tip: any method with \"Gaussian\" in the name probably assumes normality.)"
   ]
  },
  {
   "cell_type": "markdown",
   "id": "a103adc4",
   "metadata": {},
   "source": [
    "The method were using to normalize here is called the Box-Cox Transformation. Let's take a quick peek at what normalizing some data looks like:"
   ]
  },
  {
   "cell_type": "code",
   "execution_count": 19,
   "id": "ae87e60a",
   "metadata": {},
   "outputs": [],
   "source": [
    "# normalize the exponential data with boxcox\n",
    "normalized_data = stats.boxcox(original_data)"
   ]
  },
  {
   "cell_type": "code",
   "execution_count": 20,
   "id": "6702267e",
   "metadata": {},
   "outputs": [
    {
     "data": {
      "text/plain": [
       "Text(0.5, 1.0, 'Normalized data')"
      ]
     },
     "execution_count": 20,
     "metadata": {},
     "output_type": "execute_result"
    },
    {
     "data": {
      "image/png": "[encoded data removed]",
      "text/plain": [
       "<Figure size 640x480 with 2 Axes>"
      ]
     },
     "metadata": {},
     "output_type": "display_data"
    }
   ],
   "source": [
    "# plot both together to compare\n",
    "fig, ax=plt.subplots(1,2)\n",
    "sns.distplot(original_data, ax=ax[0])\n",
    "ax[0].set_title(\"Original Data\")\n",
    "sns.distplot(normalized_data[0], ax=ax[1])\n",
    "ax[1].set_title(\"Normalized data\")"
   ]
  },
  {
   "cell_type": "markdown",
   "id": "4f32c3e4",
   "metadata": {},
   "source": [
    "*The Box-Cox transformation is a method used to transform non-normal data into a normal distribution. It is named after statisticians George Box and David Cox. This transformation is particularly useful when working with data that violates the assumption of normality required by many statistical techniques.\n",
    "\n",
    "The Box-Cox transformation applies a power transformation to the data, which is defined by the parameter lambda (λ). The transformation is given by the formula:\n",
    "\n",
    "y(lambda) = (x^lambda - 1) / lambda\n",
    "\n",
    "where y(lambda) is the transformed data and x is the original data.\n",
    "\n",
    "The value of lambda determines the type of transformation applied:\n",
    "\n",
    "lambda = 0: Logarithmic transformation\n",
    "lambda = 1: No transformation (identity)\n",
    "lambda = -1: Reciprocal transformation\n",
    "lambda between -1 and 1: Variations of power transformations\n",
    "To determine the optimal lambda value, statistical techniques like maximum likelihood estimation can be used.\n",
    "\n",
    "Here's a Python example using the scipy.stats module to apply the Box-Cox transformation:"
   ]
  },
  {
   "cell_type": "code",
   "execution_count": 21,
   "id": "45028852",
   "metadata": {},
   "outputs": [
    {
     "name": "stdout",
     "output_type": "stream",
     "text": [
      "Lambda value: 0.2420131978174143\n"
     ]
    },
    {
     "data": {
      "image/png": "[encoded data removed]",
      "text/plain": [
       "<Figure size 640x480 with 2 Axes>"
      ]
     },
     "metadata": {},
     "output_type": "display_data"
    }
   ],
   "source": [
    "import numpy as np\n",
    "from scipy import stats\n",
    "\n",
    "# Generate non-normal data\n",
    "original_data = np.random.exponential(size=1000)\n",
    "\n",
    "# Apply Box-Cox transformation\n",
    "transformed_data, lambda_value = stats.boxcox(original_data)\n",
    "\n",
    "# Print the estimated lambda value\n",
    "print(\"Lambda value:\", lambda_value)\n",
    "\n",
    "# Compare the distributions\n",
    "import matplotlib.pyplot as plt\n",
    "fig, ax = plt.subplots(1, 2)\n",
    "\n",
    "# Plot the original data\n",
    "ax[0].hist(original_data, bins=30)\n",
    "ax[0].set_title(\"Original Data\")\n",
    "\n",
    "# Plot the transformed data\n",
    "ax[1].hist(transformed_data, bins=30)\n",
    "ax[1].set_title(\"Transformed Data\")\n",
    "\n",
    "plt.show()"
   ]
  },
  {
   "cell_type": "markdown",
   "id": "1b70f1b4",
   "metadata": {},
   "source": [
    "Practice scaling on the\n",
    "dataset of Kickstarter campaigns. (Kickstarter is a website where people can ask people to invest in various projects and concept products.)\n",
    "\n",
    "Let's start by scaling the goals of each campaign, which is how much money they were asking for."
   ]
  },
  {
   "cell_type": "code",
   "execution_count": 23,
   "id": "eee9cb5e",
   "metadata": {},
   "outputs": [
    {
     "data": {
      "text/html": [
       "<div>\n",
       "<style scoped>\n",
       "    .dataframe tbody tr th:only-of-type {\n",
       "        vertical-align: middle;\n",
       "    }\n",
       "\n",
       "    .dataframe tbody tr th {\n",
       "        vertical-align: top;\n",
       "    }\n",
       "\n",
       "    .dataframe thead th {\n",
       "        text-align: right;\n",
       "    }\n",
       "</style>\n",
       "<table border=\"1\" class=\"dataframe\">\n",
       "  <thead>\n",
       "    <tr style=\"text-align: right;\">\n",
       "      <th></th>\n",
       "      <th>ID</th>\n",
       "      <th>name</th>\n",
       "      <th>category</th>\n",
       "      <th>main_category</th>\n",
       "      <th>currency</th>\n",
       "      <th>deadline</th>\n",
       "      <th>goal</th>\n",
       "      <th>launched</th>\n",
       "      <th>pledged</th>\n",
       "      <th>state</th>\n",
       "      <th>backers</th>\n",
       "      <th>country</th>\n",
       "      <th>usd pledged</th>\n",
       "      <th>usd_pledged_real</th>\n",
       "      <th>usd_goal_real</th>\n",
       "    </tr>\n",
       "  </thead>\n",
       "  <tbody>\n",
       "    <tr>\n",
       "      <th>0</th>\n",
       "      <td>1000002330</td>\n",
       "      <td>The Songs of Adelaide &amp; Abullah</td>\n",
       "      <td>Poetry</td>\n",
       "      <td>Publishing</td>\n",
       "      <td>GBP</td>\n",
       "      <td>2015-10-09</td>\n",
       "      <td>1000.0</td>\n",
       "      <td>2015-08-11 12:12:28</td>\n",
       "      <td>0.0</td>\n",
       "      <td>failed</td>\n",
       "      <td>0</td>\n",
       "      <td>GB</td>\n",
       "      <td>0.0</td>\n",
       "      <td>0.0</td>\n",
       "      <td>1533.95</td>\n",
       "    </tr>\n",
       "    <tr>\n",
       "      <th>1</th>\n",
       "      <td>1000003930</td>\n",
       "      <td>Greeting From Earth: ZGAC Arts Capsule For ET</td>\n",
       "      <td>Narrative Film</td>\n",
       "      <td>Film &amp; Video</td>\n",
       "      <td>USD</td>\n",
       "      <td>2017-11-01</td>\n",
       "      <td>30000.0</td>\n",
       "      <td>2017-09-02 04:43:57</td>\n",
       "      <td>2421.0</td>\n",
       "      <td>failed</td>\n",
       "      <td>15</td>\n",
       "      <td>US</td>\n",
       "      <td>100.0</td>\n",
       "      <td>2421.0</td>\n",
       "      <td>30000.00</td>\n",
       "    </tr>\n",
       "    <tr>\n",
       "      <th>2</th>\n",
       "      <td>1000004038</td>\n",
       "      <td>Where is Hank?</td>\n",
       "      <td>Narrative Film</td>\n",
       "      <td>Film &amp; Video</td>\n",
       "      <td>USD</td>\n",
       "      <td>2013-02-26</td>\n",
       "      <td>45000.0</td>\n",
       "      <td>2013-01-12 00:20:50</td>\n",
       "      <td>220.0</td>\n",
       "      <td>failed</td>\n",
       "      <td>3</td>\n",
       "      <td>US</td>\n",
       "      <td>220.0</td>\n",
       "      <td>220.0</td>\n",
       "      <td>45000.00</td>\n",
       "    </tr>\n",
       "    <tr>\n",
       "      <th>3</th>\n",
       "      <td>1000007540</td>\n",
       "      <td>ToshiCapital Rekordz Needs Help to Complete Album</td>\n",
       "      <td>Music</td>\n",
       "      <td>Music</td>\n",
       "      <td>USD</td>\n",
       "      <td>2012-04-16</td>\n",
       "      <td>5000.0</td>\n",
       "      <td>2012-03-17 03:24:11</td>\n",
       "      <td>1.0</td>\n",
       "      <td>failed</td>\n",
       "      <td>1</td>\n",
       "      <td>US</td>\n",
       "      <td>1.0</td>\n",
       "      <td>1.0</td>\n",
       "      <td>5000.00</td>\n",
       "    </tr>\n",
       "    <tr>\n",
       "      <th>4</th>\n",
       "      <td>1000011046</td>\n",
       "      <td>Community Film Project: The Art of Neighborhoo...</td>\n",
       "      <td>Film &amp; Video</td>\n",
       "      <td>Film &amp; Video</td>\n",
       "      <td>USD</td>\n",
       "      <td>2015-08-29</td>\n",
       "      <td>19500.0</td>\n",
       "      <td>2015-07-04 08:35:03</td>\n",
       "      <td>1283.0</td>\n",
       "      <td>canceled</td>\n",
       "      <td>14</td>\n",
       "      <td>US</td>\n",
       "      <td>1283.0</td>\n",
       "      <td>1283.0</td>\n",
       "      <td>19500.00</td>\n",
       "    </tr>\n",
       "  </tbody>\n",
       "</table>\n",
       "</div>"
      ],
      "text/plain": [
       "           ID                                               name  \\\n",
       "0  1000002330                    The Songs of Adelaide & Abullah   \n",
       "1  1000003930      Greeting From Earth: ZGAC Arts Capsule For ET   \n",
       "2  1000004038                                     Where is Hank?   \n",
       "3  1000007540  ToshiCapital Rekordz Needs Help to Complete Album   \n",
       "4  1000011046  Community Film Project: The Art of Neighborhoo...   \n",
       "\n",
       "         category main_category currency    deadline     goal  \\\n",
       "0          Poetry    Publishing      GBP  2015-10-09   1000.0   \n",
       "1  Narrative Film  Film & Video      USD  2017-11-01  30000.0   \n",
       "2  Narrative Film  Film & Video      USD  2013-02-26  45000.0   \n",
       "3           Music         Music      USD  2012-04-16   5000.0   \n",
       "4    Film & Video  Film & Video      USD  2015-08-29  19500.0   \n",
       "\n",
       "              launched  pledged     state  backers country  usd pledged  \\\n",
       "0  2015-08-11 12:12:28      0.0    failed        0      GB          0.0   \n",
       "1  2017-09-02 04:43:57   2421.0    failed       15      US        100.0   \n",
       "2  2013-01-12 00:20:50    220.0    failed        3      US        220.0   \n",
       "3  2012-03-17 03:24:11      1.0    failed        1      US          1.0   \n",
       "4  2015-07-04 08:35:03   1283.0  canceled       14      US       1283.0   \n",
       "\n",
       "   usd_pledged_real  usd_goal_real  \n",
       "0               0.0        1533.95  \n",
       "1            2421.0       30000.00  \n",
       "2             220.0       45000.00  \n",
       "3               1.0        5000.00  \n",
       "4            1283.0       19500.00  "
      ]
     },
     "execution_count": 23,
     "metadata": {},
     "output_type": "execute_result"
    }
   ],
   "source": [
    "df.head()"
   ]
  },
  {
   "cell_type": "code",
   "execution_count": 24,
   "id": "f9ba29fa",
   "metadata": {},
   "outputs": [
    {
     "data": {
      "text/plain": [
       "Text(0.5, 1.0, 'Scaled data')"
      ]
     },
     "execution_count": 24,
     "metadata": {},
     "output_type": "execute_result"
    },
    {
     "data": {
      "image/png": "[encoded data removed]",
      "text/plain": [
       "<Figure size 640x480 with 2 Axes>"
      ]
     },
     "metadata": {},
     "output_type": "display_data"
    }
   ],
   "source": [
    "# select the usd_goal_real column\n",
    "usd_goal = df.usd_goal_real\n",
    "\n",
    "# scale the goals from 0 to 1\n",
    "scaled_data = minmax_scaling(usd_goal, columns = [0])\n",
    "\n",
    "# plot the original & scaled data together to compare\n",
    "fig, ax=plt.subplots(1,2)\n",
    "sns.distplot(df.usd_goal_real, ax=ax[0])\n",
    "ax[0].set_title(\"Original Data\")\n",
    "sns.distplot(scaled_data, ax=ax[1])\n",
    "ax[1].set_title(\"Scaled data\")"
   ]
  },
  {
   "cell_type": "markdown",
   "id": "29e6db99",
   "metadata": {},
   "source": [
    "RANGE CHANGE NOT SHAPE OF DATA"
   ]
  },
  {
   "cell_type": "code",
   "execution_count": 25,
   "id": "0cc0932d",
   "metadata": {},
   "outputs": [
    {
     "data": {
      "text/plain": [
       "Text(0.5, 1.0, 'Normalized data')"
      ]
     },
     "execution_count": 25,
     "metadata": {},
     "output_type": "execute_result"
    },
    {
     "data": {
      "image/png": "[encoded data removed]",
      "text/plain": [
       "<Figure size 640x480 with 2 Axes>"
      ]
     },
     "metadata": {},
     "output_type": "display_data"
    }
   ],
   "source": [
    "# get the index of all positive pledges (Box-Cox only takes postive values)\n",
    "index_of_positive_pledges = df.usd_pledged_real > 0\n",
    "\n",
    "# get only positive pledges (using their indexes)\n",
    "positive_pledges = df.usd_pledged_real.loc[index_of_positive_pledges]\n",
    "\n",
    "# normalize the pledges (w/ Box-Cox)\n",
    "normalized_pledges = stats.boxcox(positive_pledges)[0]\n",
    "\n",
    "# plot both together to compare\n",
    "fig, ax=plt.subplots(1,2)\n",
    "sns.distplot(positive_pledges, ax=ax[0])\n",
    "ax[0].set_title(\"Original Data\")\n",
    "sns.distplot(normalized_pledges, ax=ax[1])\n",
    "ax[1].set_title(\"Normalized data\")"
   ]
  },
  {
   "cell_type": "markdown",
   "id": "73e05666",
   "metadata": {},
   "source": [
    "## Code on Scaling and Normalization:\n",
    "\n",
    "> from mlxtend.preprocessing import minmax_scaling\n",
    "> scaled_data = **minmax_scaling(original_data, columns = [0])**\n",
    "\n",
    "**columns=[0]** indicates that only the first column of the original_data should be scaled. The columns parameter accepts a list of column indices or column names to specify the subset of columns to be scaled. By providing [0], it implies that you want to scale the data in the first column of the dataset.\n",
    "\n",
    "> from scipy import stats\n",
    "> normalized_data = **stats.boxcox(original_data)**\n",
    " "
   ]
  },
  {
   "cell_type": "markdown",
   "id": "912cc59e",
   "metadata": {},
   "source": [
    "***"
   ]
  },
  {
   "cell_type": "markdown",
   "id": "33e03f4b",
   "metadata": {},
   "source": [
    "# Parsing Dates"
   ]
  },
  {
   "cell_type": "markdown",
   "id": "ddd9ea92",
   "metadata": {},
   "source": [
    "we'll be working with two datasets: one containing information on earthquakes that occured between 1965 and 2016, and another that contains information on landslides that occured between 2007 and 2016."
   ]
  },
  {
   "cell_type": "code",
   "execution_count": 27,
   "id": "7ab3d9a0",
   "metadata": {},
   "outputs": [],
   "source": [
    "# modules we'll use\n",
    "import pandas as pd\n",
    "import numpy as np\n",
    "import seaborn as sns\n",
    "import datetime"
   ]
  },
  {
   "cell_type": "code",
   "execution_count": 28,
   "id": "85fed9e5",
   "metadata": {},
   "outputs": [],
   "source": [
    "# read in our data\n",
    "earthquakes = pd.read_csv(\"earthquake.csv\")\n",
    "landslides = pd.read_csv(\"catalog.csv\")\n",
    "volcanos = pd.read_csv(\"volcano.csv\")\n",
    "\n",
    "# set seed for reproducibility\n",
    "np.random.seed(0)"
   ]
  },
  {
   "cell_type": "code",
   "execution_count": 29,
   "id": "f37c9480",
   "metadata": {},
   "outputs": [
    {
     "name": "stdout",
     "output_type": "stream",
     "text": [
      "0     3/2/07\n",
      "1    3/22/07\n",
      "2     4/6/07\n",
      "3    4/14/07\n",
      "4    4/15/07\n",
      "Name: date, dtype: object\n"
     ]
    }
   ],
   "source": [
    "# print the first few rows of the date column\n",
    "print(landslides['date'].head())"
   ]
  },
  {
   "cell_type": "code",
   "execution_count": 30,
   "id": "e447e1a9",
   "metadata": {},
   "outputs": [
    {
     "data": {
      "text/plain": [
       "dtype('O')"
      ]
     },
     "execution_count": 30,
     "metadata": {},
     "output_type": "execute_result"
    }
   ],
   "source": [
    "# check the data type of our date column\n",
    "landslides['date'].dtype"
   ]
  },
  {
   "cell_type": "markdown",
   "id": "f8b140c3",
   "metadata": {},
   "source": [
    "date column isn't being recognized as a date, it's time to convert it so that it is recognized as a date. This is called \"parsing dates\" because we're taking in a string and identifying its component parts."
   ]
  },
  {
   "cell_type": "markdown",
   "id": "eb8daced",
   "metadata": {},
   "source": [
    "The basic idea is that you need to point out which parts of the date are where and what punctuation is between them. There are lots of possible parts of a date, but the most common are %d for day, %m for month, %y for a two-digit year and %Y for a four digit year.\n",
    "\n",
    "Some examples:\n",
    "\n",
    "- 1/17/07 has the format \"%m/%d/%y\"\n",
    "- 17-1-2007 has the format \"%d-%m-%Y\"\n",
    "\n",
    "Looking back up at the head of the date column in the landslides dataset, we can see that it's in the format \"month/day/two-digit year\", so we can use the same syntax as the first example to parse in our dates:"
   ]
  },
  {
   "cell_type": "code",
   "execution_count": 31,
   "id": "e1acfdc8",
   "metadata": {},
   "outputs": [],
   "source": [
    "# create a new column, date_parsed, with the parsed dates\n",
    "landslides['date_parsed'] = pd.to_datetime(landslides['date'], format = \"%m/%d/%y\")"
   ]
  },
  {
   "cell_type": "code",
   "execution_count": 32,
   "id": "37d4204a",
   "metadata": {},
   "outputs": [
    {
     "data": {
      "text/plain": [
       "0   2007-03-02\n",
       "1   2007-03-22\n",
       "2   2007-04-06\n",
       "3   2007-04-14\n",
       "4   2007-04-15\n",
       "Name: date_parsed, dtype: datetime64[ns]"
      ]
     },
     "execution_count": 32,
     "metadata": {},
     "output_type": "execute_result"
    }
   ],
   "source": [
    "# print the first few rows\n",
    "landslides['date_parsed'].head()"
   ]
  },
  {
   "cell_type": "markdown",
   "id": "c332d435",
   "metadata": {},
   "source": [
    "What if I run into an error with multiple date formats? While we're specifying the date format here, sometimes you'll run into an error when there are multiple date formats in a single column. If that happens, you have have pandas try to infer what the right date format should be. You can do that like so:\n",
    "> landslides['date_parsed'] = pd.to_datetime(landslides['Date'], infer_datetime_format=True)"
   ]
  },
  {
   "cell_type": "markdown",
   "id": "cd42b77f",
   "metadata": {},
   "source": [
    "#### Select just the day of the month from our column"
   ]
  },
  {
   "cell_type": "code",
   "execution_count": 33,
   "id": "f198744e",
   "metadata": {},
   "outputs": [
    {
     "ename": "AttributeError",
     "evalue": "Can only use .dt accessor with datetimelike values",
     "output_type": "error",
     "traceback": [
      "\u001b[1;31m---------------------------------------------------------------------------\u001b[0m",
      "\u001b[1;31mAttributeError\u001b[0m                            Traceback (most recent call last)",
      "\u001b[1;32m~\\AppData\\Local\\Temp\\ipykernel_6140\\3046668772.py\u001b[0m in \u001b[0;36m<module>\u001b[1;34m\u001b[0m\n\u001b[0;32m      1\u001b[0m \u001b[1;31m# try to get the day of the month from the date column\u001b[0m\u001b[1;33m\u001b[0m\u001b[1;33m\u001b[0m\u001b[0m\n\u001b[1;32m----> 2\u001b[1;33m \u001b[0mday_of_month_landslides\u001b[0m \u001b[1;33m=\u001b[0m \u001b[0mlandslides\u001b[0m\u001b[1;33m[\u001b[0m\u001b[1;34m'date'\u001b[0m\u001b[1;33m]\u001b[0m\u001b[1;33m.\u001b[0m\u001b[0mdt\u001b[0m\u001b[1;33m.\u001b[0m\u001b[0mday\u001b[0m\u001b[1;33m\u001b[0m\u001b[1;33m\u001b[0m\u001b[0m\n\u001b[0m",
      "\u001b[1;32mF:\\ANACONDA\\lib\\site-packages\\pandas\\core\\generic.py\u001b[0m in \u001b[0;36m__getattr__\u001b[1;34m(self, name)\u001b[0m\n\u001b[0;32m   5573\u001b[0m         ):\n\u001b[0;32m   5574\u001b[0m             \u001b[1;32mreturn\u001b[0m \u001b[0mself\u001b[0m\u001b[1;33m[\u001b[0m\u001b[0mname\u001b[0m\u001b[1;33m]\u001b[0m\u001b[1;33m\u001b[0m\u001b[1;33m\u001b[0m\u001b[0m\n\u001b[1;32m-> 5575\u001b[1;33m         \u001b[1;32mreturn\u001b[0m \u001b[0mobject\u001b[0m\u001b[1;33m.\u001b[0m\u001b[0m__getattribute__\u001b[0m\u001b[1;33m(\u001b[0m\u001b[0mself\u001b[0m\u001b[1;33m,\u001b[0m \u001b[0mname\u001b[0m\u001b[1;33m)\u001b[0m\u001b[1;33m\u001b[0m\u001b[1;33m\u001b[0m\u001b[0m\n\u001b[0m\u001b[0;32m   5576\u001b[0m \u001b[1;33m\u001b[0m\u001b[0m\n\u001b[0;32m   5577\u001b[0m     \u001b[1;32mdef\u001b[0m \u001b[0m__setattr__\u001b[0m\u001b[1;33m(\u001b[0m\u001b[0mself\u001b[0m\u001b[1;33m,\u001b[0m \u001b[0mname\u001b[0m\u001b[1;33m:\u001b[0m \u001b[0mstr\u001b[0m\u001b[1;33m,\u001b[0m \u001b[0mvalue\u001b[0m\u001b[1;33m)\u001b[0m \u001b[1;33m->\u001b[0m \u001b[1;32mNone\u001b[0m\u001b[1;33m:\u001b[0m\u001b[1;33m\u001b[0m\u001b[1;33m\u001b[0m\u001b[0m\n",
      "\u001b[1;32mF:\\ANACONDA\\lib\\site-packages\\pandas\\core\\accessor.py\u001b[0m in \u001b[0;36m__get__\u001b[1;34m(self, obj, cls)\u001b[0m\n\u001b[0;32m    180\u001b[0m             \u001b[1;31m# we're accessing the attribute of the class, i.e., Dataset.geo\u001b[0m\u001b[1;33m\u001b[0m\u001b[1;33m\u001b[0m\u001b[0m\n\u001b[0;32m    181\u001b[0m             \u001b[1;32mreturn\u001b[0m \u001b[0mself\u001b[0m\u001b[1;33m.\u001b[0m\u001b[0m_accessor\u001b[0m\u001b[1;33m\u001b[0m\u001b[1;33m\u001b[0m\u001b[0m\n\u001b[1;32m--> 182\u001b[1;33m         \u001b[0maccessor_obj\u001b[0m \u001b[1;33m=\u001b[0m \u001b[0mself\u001b[0m\u001b[1;33m.\u001b[0m\u001b[0m_accessor\u001b[0m\u001b[1;33m(\u001b[0m\u001b[0mobj\u001b[0m\u001b[1;33m)\u001b[0m\u001b[1;33m\u001b[0m\u001b[1;33m\u001b[0m\u001b[0m\n\u001b[0m\u001b[0;32m    183\u001b[0m         \u001b[1;31m# Replace the property with the accessor object. Inspired by:\u001b[0m\u001b[1;33m\u001b[0m\u001b[1;33m\u001b[0m\u001b[0m\n\u001b[0;32m    184\u001b[0m         \u001b[1;31m# https://www.pydanny.com/cached-property.html\u001b[0m\u001b[1;33m\u001b[0m\u001b[1;33m\u001b[0m\u001b[0m\n",
      "\u001b[1;32mF:\\ANACONDA\\lib\\site-packages\\pandas\\core\\indexes\\accessors.py\u001b[0m in \u001b[0;36m__new__\u001b[1;34m(cls, data)\u001b[0m\n\u001b[0;32m    507\u001b[0m             \u001b[1;32mreturn\u001b[0m \u001b[0mPeriodProperties\u001b[0m\u001b[1;33m(\u001b[0m\u001b[0mdata\u001b[0m\u001b[1;33m,\u001b[0m \u001b[0morig\u001b[0m\u001b[1;33m)\u001b[0m\u001b[1;33m\u001b[0m\u001b[1;33m\u001b[0m\u001b[0m\n\u001b[0;32m    508\u001b[0m \u001b[1;33m\u001b[0m\u001b[0m\n\u001b[1;32m--> 509\u001b[1;33m         \u001b[1;32mraise\u001b[0m \u001b[0mAttributeError\u001b[0m\u001b[1;33m(\u001b[0m\u001b[1;34m\"Can only use .dt accessor with datetimelike values\"\u001b[0m\u001b[1;33m)\u001b[0m\u001b[1;33m\u001b[0m\u001b[1;33m\u001b[0m\u001b[0m\n\u001b[0m",
      "\u001b[1;31mAttributeError\u001b[0m: Can only use .dt accessor with datetimelike values"
     ]
    }
   ],
   "source": [
    "# try to get the day of the month from the date column\n",
    "day_of_month_landslides = landslides['date'].dt.day"
   ]
  },
  {
   "cell_type": "code",
   "execution_count": 34,
   "id": "a7600bcc",
   "metadata": {},
   "outputs": [],
   "source": [
    "# get the day of the month from the date_parsed column\n",
    "day_of_month_landslides = landslides['date_parsed'].dt.day"
   ]
  },
  {
   "cell_type": "markdown",
   "id": "486da2db",
   "metadata": {},
   "source": [
    "#### Plot the day of the month to check the date parsing"
   ]
  },
  {
   "cell_type": "markdown",
   "id": "35c87162",
   "metadata": {},
   "source": [
    "let's plot a histogram of the days of the month. We expect it to have values between 1 and 31 and, since there's no reason to suppose the landslides are more common on some days of the month than others, a relatively even distribution. (With a dip on 31 because not all months have 31 days.) Let's see if that's the case:"
   ]
  },
  {
   "cell_type": "code",
   "execution_count": 35,
   "id": "0d87c9aa",
   "metadata": {},
   "outputs": [
    {
     "data": {
      "text/plain": [
       "<AxesSubplot:xlabel='date_parsed'>"
      ]
     },
     "execution_count": 35,
     "metadata": {},
     "output_type": "execute_result"
    },
    {
     "data": {
      "image/png": "[encoded data removed]",
      "text/plain": [
       "<Figure size 640x480 with 1 Axes>"
      ]
     },
     "metadata": {},
     "output_type": "display_data"
    }
   ],
   "source": [
    "# remove na's\n",
    "day_of_month_landslides = day_of_month_landslides.dropna()\n",
    "\n",
    "# plot the day of the month\n",
    "sns.distplot(day_of_month_landslides, kde=False, bins=31)"
   ]
  },
  {
   "cell_type": "markdown",
   "id": "87080825",
   "metadata": {},
   "source": [
    "#### Extra "
   ]
  },
  {
   "cell_type": "markdown",
   "id": "5c560ace",
   "metadata": {},
   "source": [
    " The datetime module can parse strings representing dates and times into datetime objects, allowing you to perform various operations and manipulations on the parsed dates."
   ]
  },
  {
   "cell_type": "markdown",
   "id": "5ca40fe8",
   "metadata": {},
   "source": [
    "1. datatime class:"
   ]
  },
  {
   "cell_type": "code",
   "execution_count": 37,
   "id": "5d8ef472",
   "metadata": {},
   "outputs": [
    {
     "name": "stdout",
     "output_type": "stream",
     "text": [
      "2023-06-04 20:49:00.585904\n",
      "2023-06-04 20:49:00\n",
      "2023-06-04\n",
      "20:49:00.585904\n",
      "2023-06-03 20:49:00.585904\n"
     ]
    }
   ],
   "source": [
    "from datetime import datetime\n",
    "\n",
    "# Current date and time\n",
    "current_datetime = datetime.now()\n",
    "print(current_datetime)\n",
    "\n",
    "# Formatting datetime as string\n",
    "formatted_datetime = current_datetime.strftime(\"%Y-%m-%d %H:%M:%S\")\n",
    "print(formatted_datetime)\n",
    "\n",
    "# Extracting date and time components\n",
    "date = current_datetime.date()\n",
    "time = current_datetime.time()\n",
    "print(date)\n",
    "print(time)\n",
    "\n",
    "# Arithmetic operations with timedelta\n",
    "from datetime import timedelta\n",
    "\n",
    "one_day = timedelta(days=1)\n",
    "yesterday = current_datetime - one_day\n",
    "print(yesterday)\n"
   ]
  },
  {
   "cell_type": "markdown",
   "id": "cf642023",
   "metadata": {},
   "source": [
    "2. data class:"
   ]
  },
  {
   "cell_type": "code",
   "execution_count": 38,
   "id": "f244b517",
   "metadata": {},
   "outputs": [
    {
     "name": "stdout",
     "output_type": "stream",
     "text": [
      "1990-05-15\n",
      "15-May-1990\n",
      "1990 5 15\n",
      "12073\n"
     ]
    }
   ],
   "source": [
    "from datetime import date\n",
    "\n",
    "# Creating a date object\n",
    "birthday = date(1990, 5, 15)\n",
    "print(birthday)\n",
    "\n",
    "# Formatting date as string\n",
    "formatted_date = birthday.strftime(\"%d-%b-%Y\")\n",
    "print(formatted_date)\n",
    "\n",
    "# Extracting individual components\n",
    "year = birthday.year\n",
    "month = birthday.month\n",
    "day = birthday.day\n",
    "print(year, month, day)\n",
    "\n",
    "# Arithmetic operations with other date objects\n",
    "today = date.today()\n",
    "days_passed = today - birthday\n",
    "print(days_passed.days)\n"
   ]
  },
  {
   "cell_type": "markdown",
   "id": "8aa4da13",
   "metadata": {},
   "source": [
    "3. time class:"
   ]
  },
  {
   "cell_type": "code",
   "execution_count": 39,
   "id": "5b88d99a",
   "metadata": {},
   "outputs": [
    {
     "name": "stdout",
     "output_type": "stream",
     "text": [
      "14:30:00\n",
      "14:30:00\n",
      "14 30 0\n"
     ]
    }
   ],
   "source": [
    "from datetime import time\n",
    "\n",
    "# Creating a time object\n",
    "meeting_time = time(14, 30, 0)\n",
    "print(meeting_time)\n",
    "\n",
    "# Formatting time as string\n",
    "formatted_time = meeting_time.strftime(\"%H:%M:%S\")\n",
    "print(formatted_time)\n",
    "\n",
    "# Extracting individual components\n",
    "hour = meeting_time.hour\n",
    "minute = meeting_time.minute\n",
    "second = meeting_time.second\n",
    "print(hour, minute, second)\n"
   ]
  },
  {
   "cell_type": "markdown",
   "id": "0c584c1d",
   "metadata": {},
   "source": [
    "4. timedelta class"
   ]
  },
  {
   "cell_type": "code",
   "execution_count": 40,
   "id": "88b6de94",
   "metadata": {},
   "outputs": [
    {
     "name": "stdout",
     "output_type": "stream",
     "text": [
      "2023-06-11 20:51:43.465545\n",
      "364\n"
     ]
    }
   ],
   "source": [
    "from datetime import datetime, timedelta\n",
    "\n",
    "# Calculating future dates\n",
    "current_datetime = datetime.now()\n",
    "one_week = timedelta(weeks=1)\n",
    "future_datetime = current_datetime + one_week\n",
    "print(future_datetime)\n",
    "\n",
    "# Time difference between two dates\n",
    "start_date = date(2023, 1, 1)\n",
    "end_date = date(2023, 12, 31)\n",
    "duration = end_date - start_date\n",
    "print(duration.days)"
   ]
  },
  {
   "cell_type": "markdown",
   "id": "0dab3d59",
   "metadata": {},
   "source": [
    "5. pd.to_datetime()\n",
    "The pd.to_datetime() function is a powerful method provided by the pandas library in Python. It is used to convert a wide range of input types into pandas' DatetimeIndex object, which represents dates and times in a structured format."
   ]
  },
  {
   "cell_type": "code",
   "execution_count": 41,
   "id": "dcf1796a",
   "metadata": {},
   "outputs": [
    {
     "name": "stdout",
     "output_type": "stream",
     "text": [
      "2023-06-04 00:00:00\n",
      "2023-06-04 00:00:00\n",
      "DatetimeIndex(['2023-06-04', '2023-06-05', '2023-06-06'], dtype='datetime64[ns]', freq=None)\n",
      "0   2023-06-04\n",
      "1   2023-06-05\n",
      "2   2023-06-06\n",
      "dtype: datetime64[ns]\n"
     ]
    }
   ],
   "source": [
    "import pandas as pd\n",
    "\n",
    "# Example usage with different input types\n",
    "date_string = \"2023-06-04\"\n",
    "date_integer = 20230604\n",
    "date_list = [\"2023-06-04\", \"2023-06-05\", \"2023-06-06\"]\n",
    "series = pd.Series(date_list)\n",
    "\n",
    "# Converting different input types to pandas' DatetimeIndex\n",
    "datetime_index_string = pd.to_datetime(date_string)\n",
    "datetime_index_integer = pd.to_datetime(date_integer, format=\"%Y%m%d\")\n",
    "datetime_index_list = pd.to_datetime(date_list)\n",
    "datetime_index_series = pd.to_datetime(series)\n",
    "\n",
    "# Displaying the converted DatetimeIndex objects\n",
    "print(datetime_index_string)\n",
    "print(datetime_index_integer)\n",
    "print(datetime_index_list)\n",
    "print(datetime_index_series)"
   ]
  },
  {
   "cell_type": "markdown",
   "id": "8e2cd788",
   "metadata": {},
   "source": [
    "Accessing datetime properties: In pandas, the dt accessor is used to access various datetime properties and methods of a Series or DataFrame column containing datetime values. It provides a convenient way to extract and manipulate specific components of the datetime objects."
   ]
  },
  {
   "cell_type": "code",
   "execution_count": 44,
   "id": "15de4ff7",
   "metadata": {},
   "outputs": [
    {
     "name": "stdout",
     "output_type": "stream",
     "text": [
      "0    2023\n",
      "1    2023\n",
      "2    2023\n",
      "Name: date, dtype: int64\n",
      "0    6\n",
      "1    6\n",
      "2    6\n",
      "Name: date, dtype: int64\n",
      "0    4\n",
      "1    5\n",
      "2    6\n",
      "Name: date, dtype: int64\n",
      "0    0\n",
      "1    0\n",
      "2    0\n",
      "Name: date, dtype: int64\n",
      "0    0\n",
      "1    0\n",
      "2    0\n",
      "Name: date, dtype: int64\n",
      "0    0\n",
      "1    0\n",
      "2    0\n",
      "Name: date, dtype: int64\n",
      "0   2023-06-05\n",
      "1   2023-06-06\n",
      "2   2023-06-07\n",
      "Name: date, dtype: datetime64[ns]\n"
     ]
    }
   ],
   "source": [
    "# Create a sample DataFrame with a datetime column\n",
    "df = pd.DataFrame({\n",
    "    'date': ['2023-06-04', '2023-06-05', '2023-06-06'],\n",
    "    'value': [10, 15, 12]\n",
    "})\n",
    "df['date'] = pd.to_datetime(df['date'])  # Convert 'date' column to datetime\n",
    "\n",
    "# Accessing datetime properties using dt accessor\n",
    "print(df['date'].dt.year)        # Extract year component\n",
    "print(df['date'].dt.month)       # Extract month component\n",
    "print(df['date'].dt.day)         # Extract day component\n",
    "print(df['date'].dt.hour)        # Extract hour component\n",
    "print(df['date'].dt.minute)      # Extract minute component\n",
    "print(df['date'].dt.second)      # Extract second component\n",
    "\n",
    "# Performing datetime operations with dt accessor\n",
    "one_day = pd.Timedelta(days=1)\n",
    "tomorrow = df['date'] + one_day\n",
    "print(tomorrow)"
   ]
  },
  {
   "cell_type": "markdown",
   "id": "2627affe",
   "metadata": {},
   "source": [
    "***"
   ]
  },
  {
   "cell_type": "markdown",
   "id": "97302fb0",
   "metadata": {},
   "source": [
    "# Character Encodings"
   ]
  },
  {
   "cell_type": "code",
   "execution_count": 1,
   "id": "4d804094",
   "metadata": {},
   "outputs": [],
   "source": [
    "# modules we'll use\n",
    "import pandas as pd\n",
    "import numpy as np\n",
    "\n",
    "# helpful character encoding module\n",
    "import chardet\n",
    "\n",
    "# set seed for reproducibility\n",
    "np.random.seed(0)"
   ]
  },
  {
   "cell_type": "markdown",
   "id": "660b54eb",
   "metadata": {},
   "source": [
    "## What are encodings?"
   ]
  },
  {
   "cell_type": "markdown",
   "id": "1d9df161",
   "metadata": {},
   "source": [
    "Character encodings are specific sets of rules for mapping from raw binary byte strings (that look like this: 0110100001101001) to characters that make up human-readable text (like \"hi\"). There are many different encodings, and if you tried to read in text with a different encoding that the one it was originally written in, you ended up with scrambled text called \"mojibake\" (said like mo-gee-bah-kay). Here's an example of mojibake:\n",
    "\n",
    "æ–‡å—åŒ–ã??\n",
    "\n",
    "You might also end up with a \"unknown\" characters. There are what gets printed when there's no mapping between a particular byte and a character in the encoding you're using to read your byte string in and they look like this:\n",
    "\n",
    "����������\n",
    "\n",
    "Character encoding mismatches are less common today than they used to be, but it's definitely still a problem. There are lots of different character encodings, but the main one you need to know is UTF-8."
   ]
  },
  {
   "cell_type": "markdown",
   "id": "da68f391",
   "metadata": {},
   "source": [
    "> UTF-8 is the standard text encoding. All Python code is in UTF-8 and, ideally, all your data should be as well. It's when things aren't in UTF-8 that you run into trouble.\n"
   ]
  },
  {
   "cell_type": "code",
   "execution_count": 2,
   "id": "2c63cf4d",
   "metadata": {},
   "outputs": [
    {
     "data": {
      "text/plain": [
       "str"
      ]
     },
     "execution_count": 2,
     "metadata": {},
     "output_type": "execute_result"
    }
   ],
   "source": [
    "# start with a string\n",
    "before = \"This is the euro symbol: €\"\n",
    "\n",
    "# check to see what datatype it is\n",
    "type(before)"
   ]
  },
  {
   "cell_type": "markdown",
   "id": "0c493583",
   "metadata": {},
   "source": [
    " bytes data type, which is a sequence of integers. You can convert a string into bytes by specifying which encoding it's in:"
   ]
  },
  {
   "cell_type": "code",
   "execution_count": 3,
   "id": "49e8834d",
   "metadata": {},
   "outputs": [
    {
     "data": {
      "text/plain": [
       "bytes"
      ]
     },
     "execution_count": 3,
     "metadata": {},
     "output_type": "execute_result"
    }
   ],
   "source": [
    "# encode it to a different encoding, replacing characters that raise errors\n",
    "after = before.encode(\"utf-8\", errors = \"replace\")\n",
    "\n",
    "# check the type\n",
    "type(after)"
   ]
  },
  {
   "cell_type": "code",
   "execution_count": 4,
   "id": "bc932af5",
   "metadata": {},
   "outputs": [
    {
     "data": {
      "text/plain": [
       "b'This is the euro symbol: \\xe2\\x82\\xac'"
      ]
     },
     "execution_count": 4,
     "metadata": {},
     "output_type": "execute_result"
    }
   ],
   "source": [
    "# take a look at what the bytes look like\n",
    "after #\\xe2\\x82\\xac\" when it's printed as if it were an ASCII string"
   ]
  },
  {
   "cell_type": "code",
   "execution_count": 5,
   "id": "fe08bb25",
   "metadata": {},
   "outputs": [
    {
     "name": "stdout",
     "output_type": "stream",
     "text": [
      "This is the euro symbol: €\n"
     ]
    }
   ],
   "source": [
    "# convert it back to utf-8\n",
    "print(after.decode(\"utf-8\"))"
   ]
  },
  {
   "cell_type": "code",
   "execution_count": 6,
   "id": "8f008aa0",
   "metadata": {},
   "outputs": [
    {
     "name": "stdout",
     "output_type": "stream",
     "text": [
      "This is the euro symbol: ?\n"
     ]
    }
   ],
   "source": [
    "# start with a string\n",
    "before = \"This is the euro symbol: €\"\n",
    "\n",
    "# encode it to a different encoding, replacing characters that raise errors\n",
    "after = before.encode(\"ascii\", errors = \"replace\")\n",
    "\n",
    "# convert it back to utf-8\n",
    "print(after.decode(\"ascii\"))\n",
    "\n",
    "# We've lost the original underlying byte string! It's been \n",
    "# replaced with the underlying byte string for the unknown character :("
   ]
  },
  {
   "cell_type": "markdown",
   "id": "ac5817e0",
   "metadata": {},
   "source": [
    "Most files you'll encounter will probably be encoded with UTF-8. This is what Python expects by default, so most of the time you won't run into problems. However, sometimes you'll get an error like this:"
   ]
  },
  {
   "cell_type": "code",
   "execution_count": 7,
   "id": "8e86346f",
   "metadata": {},
   "outputs": [
    {
     "ename": "UnicodeDecodeError",
     "evalue": "'utf-8' codec can't decode byte 0x99 in position 7955: invalid start byte",
     "output_type": "error",
     "traceback": [
      "\u001b[1;31m---------------------------------------------------------------------------\u001b[0m",
      "\u001b[1;31mUnicodeDecodeError\u001b[0m                        Traceback (most recent call last)",
      "\u001b[1;32m~\\AppData\\Local\\Temp\\ipykernel_12100\\3888766042.py\u001b[0m in \u001b[0;36m<module>\u001b[1;34m\u001b[0m\n\u001b[0;32m      1\u001b[0m \u001b[1;31m# try to read in a file not in UTF-8\u001b[0m\u001b[1;33m\u001b[0m\u001b[1;33m\u001b[0m\u001b[0m\n\u001b[1;32m----> 2\u001b[1;33m \u001b[0mkickstarter_2016\u001b[0m \u001b[1;33m=\u001b[0m \u001b[0mpd\u001b[0m\u001b[1;33m.\u001b[0m\u001b[0mread_csv\u001b[0m\u001b[1;33m(\u001b[0m\u001b[1;34m\"ks-projects-201612.csv\"\u001b[0m\u001b[1;33m)\u001b[0m\u001b[1;33m\u001b[0m\u001b[1;33m\u001b[0m\u001b[0m\n\u001b[0m",
      "\u001b[1;32mF:\\ANACONDA\\lib\\site-packages\\pandas\\util\\_decorators.py\u001b[0m in \u001b[0;36mwrapper\u001b[1;34m(*args, **kwargs)\u001b[0m\n\u001b[0;32m    309\u001b[0m                     \u001b[0mstacklevel\u001b[0m\u001b[1;33m=\u001b[0m\u001b[0mstacklevel\u001b[0m\u001b[1;33m,\u001b[0m\u001b[1;33m\u001b[0m\u001b[1;33m\u001b[0m\u001b[0m\n\u001b[0;32m    310\u001b[0m                 )\n\u001b[1;32m--> 311\u001b[1;33m             \u001b[1;32mreturn\u001b[0m \u001b[0mfunc\u001b[0m\u001b[1;33m(\u001b[0m\u001b[1;33m*\u001b[0m\u001b[0margs\u001b[0m\u001b[1;33m,\u001b[0m \u001b[1;33m**\u001b[0m\u001b[0mkwargs\u001b[0m\u001b[1;33m)\u001b[0m\u001b[1;33m\u001b[0m\u001b[1;33m\u001b[0m\u001b[0m\n\u001b[0m\u001b[0;32m    312\u001b[0m \u001b[1;33m\u001b[0m\u001b[0m\n\u001b[0;32m    313\u001b[0m         \u001b[1;32mreturn\u001b[0m \u001b[0mwrapper\u001b[0m\u001b[1;33m\u001b[0m\u001b[1;33m\u001b[0m\u001b[0m\n",
      "\u001b[1;32mF:\\ANACONDA\\lib\\site-packages\\pandas\\io\\parsers\\readers.py\u001b[0m in \u001b[0;36mread_csv\u001b[1;34m(filepath_or_buffer, sep, delimiter, header, names, index_col, usecols, squeeze, prefix, mangle_dupe_cols, dtype, engine, converters, true_values, false_values, skipinitialspace, skiprows, skipfooter, nrows, na_values, keep_default_na, na_filter, verbose, skip_blank_lines, parse_dates, infer_datetime_format, keep_date_col, date_parser, dayfirst, cache_dates, iterator, chunksize, compression, thousands, decimal, lineterminator, quotechar, quoting, doublequote, escapechar, comment, encoding, encoding_errors, dialect, error_bad_lines, warn_bad_lines, on_bad_lines, delim_whitespace, low_memory, memory_map, float_precision, storage_options)\u001b[0m\n\u001b[0;32m    676\u001b[0m     \u001b[0mkwds\u001b[0m\u001b[1;33m.\u001b[0m\u001b[0mupdate\u001b[0m\u001b[1;33m(\u001b[0m\u001b[0mkwds_defaults\u001b[0m\u001b[1;33m)\u001b[0m\u001b[1;33m\u001b[0m\u001b[1;33m\u001b[0m\u001b[0m\n\u001b[0;32m    677\u001b[0m \u001b[1;33m\u001b[0m\u001b[0m\n\u001b[1;32m--> 678\u001b[1;33m     \u001b[1;32mreturn\u001b[0m \u001b[0m_read\u001b[0m\u001b[1;33m(\u001b[0m\u001b[0mfilepath_or_buffer\u001b[0m\u001b[1;33m,\u001b[0m \u001b[0mkwds\u001b[0m\u001b[1;33m)\u001b[0m\u001b[1;33m\u001b[0m\u001b[1;33m\u001b[0m\u001b[0m\n\u001b[0m\u001b[0;32m    679\u001b[0m \u001b[1;33m\u001b[0m\u001b[0m\n\u001b[0;32m    680\u001b[0m \u001b[1;33m\u001b[0m\u001b[0m\n",
      "\u001b[1;32mF:\\ANACONDA\\lib\\site-packages\\pandas\\io\\parsers\\readers.py\u001b[0m in \u001b[0;36m_read\u001b[1;34m(filepath_or_buffer, kwds)\u001b[0m\n\u001b[0;32m    573\u001b[0m \u001b[1;33m\u001b[0m\u001b[0m\n\u001b[0;32m    574\u001b[0m     \u001b[1;31m# Create the parser.\u001b[0m\u001b[1;33m\u001b[0m\u001b[1;33m\u001b[0m\u001b[0m\n\u001b[1;32m--> 575\u001b[1;33m     \u001b[0mparser\u001b[0m \u001b[1;33m=\u001b[0m \u001b[0mTextFileReader\u001b[0m\u001b[1;33m(\u001b[0m\u001b[0mfilepath_or_buffer\u001b[0m\u001b[1;33m,\u001b[0m \u001b[1;33m**\u001b[0m\u001b[0mkwds\u001b[0m\u001b[1;33m)\u001b[0m\u001b[1;33m\u001b[0m\u001b[1;33m\u001b[0m\u001b[0m\n\u001b[0m\u001b[0;32m    576\u001b[0m \u001b[1;33m\u001b[0m\u001b[0m\n\u001b[0;32m    577\u001b[0m     \u001b[1;32mif\u001b[0m \u001b[0mchunksize\u001b[0m \u001b[1;32mor\u001b[0m \u001b[0miterator\u001b[0m\u001b[1;33m:\u001b[0m\u001b[1;33m\u001b[0m\u001b[1;33m\u001b[0m\u001b[0m\n",
      "\u001b[1;32mF:\\ANACONDA\\lib\\site-packages\\pandas\\io\\parsers\\readers.py\u001b[0m in \u001b[0;36m__init__\u001b[1;34m(self, f, engine, **kwds)\u001b[0m\n\u001b[0;32m    930\u001b[0m \u001b[1;33m\u001b[0m\u001b[0m\n\u001b[0;32m    931\u001b[0m         \u001b[0mself\u001b[0m\u001b[1;33m.\u001b[0m\u001b[0mhandles\u001b[0m\u001b[1;33m:\u001b[0m \u001b[0mIOHandles\u001b[0m \u001b[1;33m|\u001b[0m \u001b[1;32mNone\u001b[0m \u001b[1;33m=\u001b[0m \u001b[1;32mNone\u001b[0m\u001b[1;33m\u001b[0m\u001b[1;33m\u001b[0m\u001b[0m\n\u001b[1;32m--> 932\u001b[1;33m         \u001b[0mself\u001b[0m\u001b[1;33m.\u001b[0m\u001b[0m_engine\u001b[0m \u001b[1;33m=\u001b[0m \u001b[0mself\u001b[0m\u001b[1;33m.\u001b[0m\u001b[0m_make_engine\u001b[0m\u001b[1;33m(\u001b[0m\u001b[0mf\u001b[0m\u001b[1;33m,\u001b[0m \u001b[0mself\u001b[0m\u001b[1;33m.\u001b[0m\u001b[0mengine\u001b[0m\u001b[1;33m)\u001b[0m\u001b[1;33m\u001b[0m\u001b[1;33m\u001b[0m\u001b[0m\n\u001b[0m\u001b[0;32m    933\u001b[0m \u001b[1;33m\u001b[0m\u001b[0m\n\u001b[0;32m    934\u001b[0m     \u001b[1;32mdef\u001b[0m \u001b[0mclose\u001b[0m\u001b[1;33m(\u001b[0m\u001b[0mself\u001b[0m\u001b[1;33m)\u001b[0m\u001b[1;33m:\u001b[0m\u001b[1;33m\u001b[0m\u001b[1;33m\u001b[0m\u001b[0m\n",
      "\u001b[1;32mF:\\ANACONDA\\lib\\site-packages\\pandas\\io\\parsers\\readers.py\u001b[0m in \u001b[0;36m_make_engine\u001b[1;34m(self, f, engine)\u001b[0m\n\u001b[0;32m   1232\u001b[0m \u001b[1;33m\u001b[0m\u001b[0m\n\u001b[0;32m   1233\u001b[0m         \u001b[1;32mtry\u001b[0m\u001b[1;33m:\u001b[0m\u001b[1;33m\u001b[0m\u001b[1;33m\u001b[0m\u001b[0m\n\u001b[1;32m-> 1234\u001b[1;33m             \u001b[1;32mreturn\u001b[0m \u001b[0mmapping\u001b[0m\u001b[1;33m[\u001b[0m\u001b[0mengine\u001b[0m\u001b[1;33m]\u001b[0m\u001b[1;33m(\u001b[0m\u001b[0mf\u001b[0m\u001b[1;33m,\u001b[0m \u001b[1;33m**\u001b[0m\u001b[0mself\u001b[0m\u001b[1;33m.\u001b[0m\u001b[0moptions\u001b[0m\u001b[1;33m)\u001b[0m\u001b[1;33m\u001b[0m\u001b[1;33m\u001b[0m\u001b[0m\n\u001b[0m\u001b[0;32m   1235\u001b[0m         \u001b[1;32mexcept\u001b[0m \u001b[0mException\u001b[0m\u001b[1;33m:\u001b[0m\u001b[1;33m\u001b[0m\u001b[1;33m\u001b[0m\u001b[0m\n\u001b[0;32m   1236\u001b[0m             \u001b[1;32mif\u001b[0m \u001b[0mself\u001b[0m\u001b[1;33m.\u001b[0m\u001b[0mhandles\u001b[0m \u001b[1;32mis\u001b[0m \u001b[1;32mnot\u001b[0m \u001b[1;32mNone\u001b[0m\u001b[1;33m:\u001b[0m\u001b[1;33m\u001b[0m\u001b[1;33m\u001b[0m\u001b[0m\n",
      "\u001b[1;32mF:\\ANACONDA\\lib\\site-packages\\pandas\\io\\parsers\\c_parser_wrapper.py\u001b[0m in \u001b[0;36m__init__\u001b[1;34m(self, src, **kwds)\u001b[0m\n\u001b[0;32m     73\u001b[0m \u001b[1;33m\u001b[0m\u001b[0m\n\u001b[0;32m     74\u001b[0m         \u001b[0mkwds\u001b[0m\u001b[1;33m[\u001b[0m\u001b[1;34m\"dtype\"\u001b[0m\u001b[1;33m]\u001b[0m \u001b[1;33m=\u001b[0m \u001b[0mensure_dtype_objs\u001b[0m\u001b[1;33m(\u001b[0m\u001b[0mkwds\u001b[0m\u001b[1;33m.\u001b[0m\u001b[0mget\u001b[0m\u001b[1;33m(\u001b[0m\u001b[1;34m\"dtype\"\u001b[0m\u001b[1;33m,\u001b[0m \u001b[1;32mNone\u001b[0m\u001b[1;33m)\u001b[0m\u001b[1;33m)\u001b[0m\u001b[1;33m\u001b[0m\u001b[1;33m\u001b[0m\u001b[0m\n\u001b[1;32m---> 75\u001b[1;33m         \u001b[0mself\u001b[0m\u001b[1;33m.\u001b[0m\u001b[0m_reader\u001b[0m \u001b[1;33m=\u001b[0m \u001b[0mparsers\u001b[0m\u001b[1;33m.\u001b[0m\u001b[0mTextReader\u001b[0m\u001b[1;33m(\u001b[0m\u001b[0msrc\u001b[0m\u001b[1;33m,\u001b[0m \u001b[1;33m**\u001b[0m\u001b[0mkwds\u001b[0m\u001b[1;33m)\u001b[0m\u001b[1;33m\u001b[0m\u001b[1;33m\u001b[0m\u001b[0m\n\u001b[0m\u001b[0;32m     76\u001b[0m \u001b[1;33m\u001b[0m\u001b[0m\n\u001b[0;32m     77\u001b[0m         \u001b[0mself\u001b[0m\u001b[1;33m.\u001b[0m\u001b[0munnamed_cols\u001b[0m \u001b[1;33m=\u001b[0m \u001b[0mself\u001b[0m\u001b[1;33m.\u001b[0m\u001b[0m_reader\u001b[0m\u001b[1;33m.\u001b[0m\u001b[0munnamed_cols\u001b[0m\u001b[1;33m\u001b[0m\u001b[1;33m\u001b[0m\u001b[0m\n",
      "\u001b[1;32mF:\\ANACONDA\\lib\\site-packages\\pandas\\_libs\\parsers.pyx\u001b[0m in \u001b[0;36mpandas._libs.parsers.TextReader.__cinit__\u001b[1;34m()\u001b[0m\n",
      "\u001b[1;32mF:\\ANACONDA\\lib\\site-packages\\pandas\\_libs\\parsers.pyx\u001b[0m in \u001b[0;36mpandas._libs.parsers.TextReader._get_header\u001b[1;34m()\u001b[0m\n",
      "\u001b[1;32mF:\\ANACONDA\\lib\\site-packages\\pandas\\_libs\\parsers.pyx\u001b[0m in \u001b[0;36mpandas._libs.parsers.TextReader._tokenize_rows\u001b[1;34m()\u001b[0m\n",
      "\u001b[1;32mF:\\ANACONDA\\lib\\site-packages\\pandas\\_libs\\parsers.pyx\u001b[0m in \u001b[0;36mpandas._libs.parsers.raise_parser_error\u001b[1;34m()\u001b[0m\n",
      "\u001b[1;31mUnicodeDecodeError\u001b[0m: 'utf-8' codec can't decode byte 0x99 in position 7955: invalid start byte"
     ]
    }
   ],
   "source": [
    "# try to read in a file not in UTF-8\n",
    "kickstarter_2016 = pd.read_csv(\"ks-projects-201612.csv\")"
   ]
  },
  {
   "cell_type": "markdown",
   "id": "056e60de",
   "metadata": {},
   "source": [
    "I'm going to just look at the first ten thousand bytes of this file. This is usually enough for a good guess about what the encoding is and is much faster than trying to look at the whole file. (Especially with a large file this can be very slow.) Another reason to just look at the first part of the file is that we can see by looking at the error message that the first problem is the 11th character. So we probably only need to look at the first little bit of the file to figure out what's going on."
   ]
  },
  {
   "cell_type": "code",
   "execution_count": 8,
   "id": "9807b30c",
   "metadata": {},
   "outputs": [
    {
     "name": "stdout",
     "output_type": "stream",
     "text": [
      "{'encoding': 'Windows-1252', 'confidence': 0.73, 'language': ''}\n"
     ]
    }
   ],
   "source": [
    "# look at the first ten thousand bytes to guess the character encoding\n",
    "with open(\"ks-projects-201801.csv\", 'rb') as rawdata:\n",
    "    result = chardet.detect(rawdata.read(10000))\n",
    "\n",
    "# check what the character encoding might be\n",
    "print(result)"
   ]
  },
  {
   "cell_type": "code",
   "execution_count": 9,
   "id": "ea127054",
   "metadata": {},
   "outputs": [
    {
     "name": "stderr",
     "output_type": "stream",
     "text": [
      "C:\\Users\\zweis\\AppData\\Local\\Temp\\ipykernel_12100\\4281713030.py:2: DtypeWarning: Columns (13,14,15) have mixed types. Specify dtype option on import or set low_memory=False.\n",
      "  kickstarter_2016 = pd.read_csv(\"ks-projects-201612.csv\", encoding='Windows-1252')\n"
     ]
    },
    {
     "data": {
      "text/html": [
       "<div>\n",
       "<style scoped>\n",
       "    .dataframe tbody tr th:only-of-type {\n",
       "        vertical-align: middle;\n",
       "    }\n",
       "\n",
       "    .dataframe tbody tr th {\n",
       "        vertical-align: top;\n",
       "    }\n",
       "\n",
       "    .dataframe thead th {\n",
       "        text-align: right;\n",
       "    }\n",
       "</style>\n",
       "<table border=\"1\" class=\"dataframe\">\n",
       "  <thead>\n",
       "    <tr style=\"text-align: right;\">\n",
       "      <th></th>\n",
       "      <th>ID</th>\n",
       "      <th>name</th>\n",
       "      <th>category</th>\n",
       "      <th>main_category</th>\n",
       "      <th>currency</th>\n",
       "      <th>deadline</th>\n",
       "      <th>goal</th>\n",
       "      <th>launched</th>\n",
       "      <th>pledged</th>\n",
       "      <th>state</th>\n",
       "      <th>backers</th>\n",
       "      <th>country</th>\n",
       "      <th>usd pledged</th>\n",
       "      <th>Unnamed: 13</th>\n",
       "      <th>Unnamed: 14</th>\n",
       "      <th>Unnamed: 15</th>\n",
       "      <th>Unnamed: 16</th>\n",
       "    </tr>\n",
       "  </thead>\n",
       "  <tbody>\n",
       "    <tr>\n",
       "      <th>0</th>\n",
       "      <td>1000002330</td>\n",
       "      <td>The Songs of Adelaide &amp; Abullah</td>\n",
       "      <td>Poetry</td>\n",
       "      <td>Publishing</td>\n",
       "      <td>GBP</td>\n",
       "      <td>2015-10-09 11:36:00</td>\n",
       "      <td>1000</td>\n",
       "      <td>2015-08-11 12:12:28</td>\n",
       "      <td>0</td>\n",
       "      <td>failed</td>\n",
       "      <td>0</td>\n",
       "      <td>GB</td>\n",
       "      <td>0</td>\n",
       "      <td>NaN</td>\n",
       "      <td>NaN</td>\n",
       "      <td>NaN</td>\n",
       "      <td>NaN</td>\n",
       "    </tr>\n",
       "    <tr>\n",
       "      <th>1</th>\n",
       "      <td>1000004038</td>\n",
       "      <td>Where is Hank?</td>\n",
       "      <td>Narrative Film</td>\n",
       "      <td>Film &amp; Video</td>\n",
       "      <td>USD</td>\n",
       "      <td>2013-02-26 00:20:50</td>\n",
       "      <td>45000</td>\n",
       "      <td>2013-01-12 00:20:50</td>\n",
       "      <td>220</td>\n",
       "      <td>failed</td>\n",
       "      <td>3</td>\n",
       "      <td>US</td>\n",
       "      <td>220</td>\n",
       "      <td>NaN</td>\n",
       "      <td>NaN</td>\n",
       "      <td>NaN</td>\n",
       "      <td>NaN</td>\n",
       "    </tr>\n",
       "    <tr>\n",
       "      <th>2</th>\n",
       "      <td>1000007540</td>\n",
       "      <td>ToshiCapital Rekordz Needs Help to Complete Album</td>\n",
       "      <td>Music</td>\n",
       "      <td>Music</td>\n",
       "      <td>USD</td>\n",
       "      <td>2012-04-16 04:24:11</td>\n",
       "      <td>5000</td>\n",
       "      <td>2012-03-17 03:24:11</td>\n",
       "      <td>1</td>\n",
       "      <td>failed</td>\n",
       "      <td>1</td>\n",
       "      <td>US</td>\n",
       "      <td>1</td>\n",
       "      <td>NaN</td>\n",
       "      <td>NaN</td>\n",
       "      <td>NaN</td>\n",
       "      <td>NaN</td>\n",
       "    </tr>\n",
       "    <tr>\n",
       "      <th>3</th>\n",
       "      <td>1000011046</td>\n",
       "      <td>Community Film Project: The Art of Neighborhoo...</td>\n",
       "      <td>Film &amp; Video</td>\n",
       "      <td>Film &amp; Video</td>\n",
       "      <td>USD</td>\n",
       "      <td>2015-08-29 01:00:00</td>\n",
       "      <td>19500</td>\n",
       "      <td>2015-07-04 08:35:03</td>\n",
       "      <td>1283</td>\n",
       "      <td>canceled</td>\n",
       "      <td>14</td>\n",
       "      <td>US</td>\n",
       "      <td>1283</td>\n",
       "      <td>NaN</td>\n",
       "      <td>NaN</td>\n",
       "      <td>NaN</td>\n",
       "      <td>NaN</td>\n",
       "    </tr>\n",
       "    <tr>\n",
       "      <th>4</th>\n",
       "      <td>1000014025</td>\n",
       "      <td>Monarch Espresso Bar</td>\n",
       "      <td>Restaurants</td>\n",
       "      <td>Food</td>\n",
       "      <td>USD</td>\n",
       "      <td>2016-04-01 13:38:27</td>\n",
       "      <td>50000</td>\n",
       "      <td>2016-02-26 13:38:27</td>\n",
       "      <td>52375</td>\n",
       "      <td>successful</td>\n",
       "      <td>224</td>\n",
       "      <td>US</td>\n",
       "      <td>52375</td>\n",
       "      <td>NaN</td>\n",
       "      <td>NaN</td>\n",
       "      <td>NaN</td>\n",
       "      <td>NaN</td>\n",
       "    </tr>\n",
       "  </tbody>\n",
       "</table>\n",
       "</div>"
      ],
      "text/plain": [
       "          ID                                               name   \\\n",
       "0  1000002330                    The Songs of Adelaide & Abullah   \n",
       "1  1000004038                                     Where is Hank?   \n",
       "2  1000007540  ToshiCapital Rekordz Needs Help to Complete Album   \n",
       "3  1000011046  Community Film Project: The Art of Neighborhoo...   \n",
       "4  1000014025                               Monarch Espresso Bar   \n",
       "\n",
       "        category  main_category  currency             deadline   goal   \\\n",
       "0          Poetry     Publishing       GBP  2015-10-09 11:36:00   1000   \n",
       "1  Narrative Film   Film & Video       USD  2013-02-26 00:20:50  45000   \n",
       "2           Music          Music       USD  2012-04-16 04:24:11   5000   \n",
       "3    Film & Video   Film & Video       USD  2015-08-29 01:00:00  19500   \n",
       "4     Restaurants           Food       USD  2016-04-01 13:38:27  50000   \n",
       "\n",
       "             launched  pledged       state  backers  country  usd pledged   \\\n",
       "0  2015-08-11 12:12:28        0      failed        0       GB            0   \n",
       "1  2013-01-12 00:20:50      220      failed        3       US          220   \n",
       "2  2012-03-17 03:24:11        1      failed        1       US            1   \n",
       "3  2015-07-04 08:35:03     1283    canceled       14       US         1283   \n",
       "4  2016-02-26 13:38:27    52375  successful      224       US        52375   \n",
       "\n",
       "  Unnamed: 13 Unnamed: 14 Unnamed: 15  Unnamed: 16  \n",
       "0         NaN         NaN         NaN          NaN  \n",
       "1         NaN         NaN         NaN          NaN  \n",
       "2         NaN         NaN         NaN          NaN  \n",
       "3         NaN         NaN         NaN          NaN  \n",
       "4         NaN         NaN         NaN          NaN  "
      ]
     },
     "execution_count": 9,
     "metadata": {},
     "output_type": "execute_result"
    }
   ],
   "source": [
    "# read in the file with the encoding detected by chardet\n",
    "kickstarter_2016 = pd.read_csv(\"ks-projects-201612.csv\", encoding='Windows-1252')\n",
    "\n",
    "# look at the first few lines\n",
    "kickstarter_2016.head()"
   ]
  },
  {
   "cell_type": "markdown",
   "id": "ca7dd33f",
   "metadata": {},
   "source": [
    "Saving your files with UTF-8 encoding"
   ]
  },
  {
   "cell_type": "code",
   "execution_count": 10,
   "id": "bea51628",
   "metadata": {},
   "outputs": [],
   "source": [
    "# save our file (will be saved as UTF-8 by default!)\n",
    "kickstarter_2016.to_csv(\"ks-projects-201801-utf8.csv\")"
   ]
  },
  {
   "cell_type": "markdown",
   "id": "d2338854",
   "metadata": {},
   "source": [
    "*Extra*\n",
    "\n",
    "In Python, the encode() and decode() functions are used to convert between Unicode strings and byte strings with a specific character encoding. Here's an explanation of each function along with an example:\n",
    "1. encode(encoding='utf-8', errors='strict'):\n",
    "\n",
    "- The encode() function is used to encode a Unicode string into a byte string using the specified encoding.\n",
    "- encoding parameter is optional and defaults to 'utf-8', which is a widely used encoding for Unicode.\n",
    "- errors parameter is optional and specifies how to handle encoding errors. The default value is 'strict', which raises a UnicodeEncodeError if there is an unencodable character. Other error handling options include 'ignore', 'replace', and more.\n",
    "\n"
   ]
  },
  {
   "cell_type": "code",
   "execution_count": 37,
   "id": "07485d28",
   "metadata": {},
   "outputs": [
    {
     "name": "stdout",
     "output_type": "stream",
     "text": [
      "b'Hello, \\xe4\\xbd\\xa0\\xe5\\xa5\\xbd'\n"
     ]
    }
   ],
   "source": [
    "text = \"Hello, 你好\"\n",
    "encoded_text = text.encode('utf-8')\n",
    "print(encoded_text)  # Output: b'Hello, \\xe4\\xbd\\xa0\\xe5\\xa5\\xbd'"
   ]
  },
  {
   "cell_type": "markdown",
   "id": "f02d0f15",
   "metadata": {},
   "source": [
    "2. decode(encoding='utf-8', errors='strict'):\n",
    "\n",
    "- The decode() function is used to decode a byte string into a Unicode string using the specified encoding.\n",
    "- The encoding parameter is optional and defaults to 'utf-8' (or the encoding of the byte string if not specified).\n",
    "- The errors parameter is optional and specifies how to handle decoding errors. The default value is 'strict', which raises a UnicodeDecodeError if there is an invalid byte sequence. Other error handling options include 'ignore', 'replace', and more."
   ]
  },
  {
   "cell_type": "code",
   "execution_count": 38,
   "id": "56a24f65",
   "metadata": {},
   "outputs": [
    {
     "name": "stdout",
     "output_type": "stream",
     "text": [
      "Hello, 你好\n"
     ]
    }
   ],
   "source": [
    "byte_string = b'Hello, \\xe4\\xbd\\xa0\\xe5\\xa5\\xbd'\n",
    "decoded_text = byte_string.decode('utf-8')\n",
    "print(decoded_text)  # Output: Hello, 你好"
   ]
  },
  {
   "cell_type": "markdown",
   "id": "de504828",
   "metadata": {},
   "source": [
    "***"
   ]
  },
  {
   "cell_type": "markdown",
   "id": "319d3207",
   "metadata": {},
   "source": [
    "<a id=\"id\"></a>"
   ]
  },
  {
   "cell_type": "markdown",
   "id": "3101427e",
   "metadata": {},
   "source": [
    "# Inconsistent Data Entry"
   ]
  },
  {
   "cell_type": "code",
   "execution_count": 15,
   "id": "44050d64",
   "metadata": {},
   "outputs": [],
   "source": [
    "# helpful modules\n",
    "import fuzzywuzzy\n",
    "from fuzzywuzzy import process\n",
    "import chardet\n",
    "\n",
    "# set seed for reproducibility\n",
    "np.random.seed(0)"
   ]
  },
  {
   "cell_type": "code",
   "execution_count": 16,
   "id": "9915751b",
   "metadata": {},
   "outputs": [
    {
     "name": "stdout",
     "output_type": "stream",
     "text": [
      "{'encoding': 'Windows-1252', 'confidence': 0.73, 'language': ''}\n"
     ]
    }
   ],
   "source": [
    "# look at the first ten thousand bytes to guess the character encoding\n",
    "with open(\"PakistanSuicideAttacks Ver 11 (30-November-2017).csv\", 'rb') as rawdata:\n",
    "    result = chardet.detect(rawdata.read(100000))\n",
    "\n",
    "# check what the character encoding might be\n",
    "print(result)"
   ]
  },
  {
   "cell_type": "code",
   "execution_count": 18,
   "id": "2c9af45c",
   "metadata": {},
   "outputs": [],
   "source": [
    "# read in our data\n",
    "suicide_attacks = pd.read_csv(\"PakistanSuicideAttacks Ver 11 (30-November-2017).csv\", \n",
    "                              encoding='Windows-1252')"
   ]
  },
  {
   "cell_type": "markdown",
   "id": "813e248d",
   "metadata": {},
   "source": [
    "Do some preliminary text pre-processing\n"
   ]
  },
  {
   "cell_type": "markdown",
   "id": "7709bc89",
   "metadata": {},
   "source": [
    "For this exercise, I'm interested in cleaning up the \"City\" column to make sure there's no data entry inconsistencies in it. We could go through and check each row by hand, of course, and hand-correct inconsistencies when we find them. There's a more efficient way to do this though!"
   ]
  },
  {
   "cell_type": "code",
   "execution_count": 23,
   "id": "64207d6a",
   "metadata": {},
   "outputs": [
    {
     "data": {
      "text/plain": [
       "0      Islamabad\n",
       "1        Karachi\n",
       "2       Karachi \n",
       "3        Karachi\n",
       "4         Quetta\n",
       "         ...    \n",
       "491       Quetta\n",
       "492       Quetta\n",
       "493       Quetta\n",
       "494     Peshawar\n",
       "495       Quetta\n",
       "Name: City, Length: 496, dtype: object"
      ]
     },
     "execution_count": 23,
     "metadata": {},
     "output_type": "execute_result"
    }
   ],
   "source": [
    "suicide_attacks.City"
   ]
  },
  {
   "cell_type": "code",
   "execution_count": 24,
   "id": "092c2ae4",
   "metadata": {},
   "outputs": [],
   "source": [
    "# get all the unique values in the 'City' column\n",
    "cities = suicide_attacks['City'].unique()"
   ]
  },
  {
   "cell_type": "code",
   "execution_count": 25,
   "id": "e24c444e",
   "metadata": {},
   "outputs": [
    {
     "data": {
      "text/plain": [
       "array(['ATTOCK', 'Attock ', 'Bajaur Agency', 'Bannu', 'Bhakkar ', 'Buner',\n",
       "       'Chakwal ', 'Chaman', 'Charsadda', 'Charsadda ', 'D. I Khan',\n",
       "       'D.G Khan', 'D.G Khan ', 'D.I Khan', 'D.I Khan ', 'Dara Adam Khel',\n",
       "       'Dara Adam khel', 'Fateh Jang', 'Ghallanai, Mohmand Agency ',\n",
       "       'Gujrat', 'Hangu', 'Haripur', 'Hayatabad', 'Islamabad',\n",
       "       'Islamabad ', 'Jacobabad', 'KURRAM AGENCY', 'Karachi', 'Karachi ',\n",
       "       'Karak', 'Khanewal', 'Khuzdar', 'Khyber Agency', 'Khyber Agency ',\n",
       "       'Kohat', 'Kohat ', 'Kuram Agency ', 'Lahore', 'Lahore ',\n",
       "       'Lakki Marwat', 'Lakki marwat', 'Lasbela', 'Lower Dir', 'MULTAN',\n",
       "       'Malakand ', 'Mansehra', 'Mardan', 'Mohmand Agency',\n",
       "       'Mohmand Agency ', 'Mohmand agency', 'Mosal Kor, Mohmand Agency',\n",
       "       'Multan', 'Muzaffarabad', 'North Waziristan', 'North waziristan',\n",
       "       'Nowshehra', 'Orakzai Agency', 'Peshawar', 'Peshawar ', 'Pishin',\n",
       "       'Poonch', 'Quetta', 'Quetta ', 'Rawalpindi', 'Sargodha',\n",
       "       'Sehwan town', 'Shabqadar-Charsadda', 'Shangla ', 'Shikarpur',\n",
       "       'Sialkot', 'South Waziristan', 'South waziristan', 'Sudhanoti',\n",
       "       'Sukkur', 'Swabi ', 'Swat', 'Swat ', 'Taftan',\n",
       "       'Tangi, Charsadda District', 'Tank', 'Tank ', 'Taunsa',\n",
       "       'Tirah Valley', 'Totalai', 'Upper Dir', 'Wagah', 'Zhob', 'bannu',\n",
       "       'karachi', 'karachi ', 'lakki marwat', 'peshawar', 'swat'],\n",
       "      dtype=object)"
      ]
     },
     "execution_count": 25,
     "metadata": {},
     "output_type": "execute_result"
    }
   ],
   "source": [
    "# sort them alphabetically and then take a closer look\n",
    "cities.sort()\n",
    "cities"
   ]
  },
  {
   "cell_type": "markdown",
   "id": "f068ae8c",
   "metadata": {},
   "source": [
    " I can see some problems due to inconsistent data entry: 'Lahore' and 'Lahore ', for example, or 'Lakki Marwat' and 'Lakki marwat'.\n",
    "\n",
    "The first thing I'm going to do is make everything lower case (I can change it back at the end if I like) and remove any white spaces at the beginning and end of cells. Inconsistencies in capitalizations and trailing white spaces are very common in text data and you can fix a good 80% of your text data entry inconsistencies by doing this."
   ]
  },
  {
   "cell_type": "code",
   "execution_count": 26,
   "id": "68c8a46d",
   "metadata": {},
   "outputs": [],
   "source": [
    "# convert to lower case\n",
    "suicide_attacks['City'] = suicide_attacks['City'].str.lower()\n",
    "# remove trailing white spaces\n",
    "suicide_attacks['City'] = suicide_attacks['City'].str.strip()"
   ]
  },
  {
   "cell_type": "code",
   "execution_count": 27,
   "id": "9b6d5389",
   "metadata": {},
   "outputs": [
    {
     "data": {
      "text/plain": [
       "0      islamabad\n",
       "1        karachi\n",
       "2        karachi\n",
       "3        karachi\n",
       "4         quetta\n",
       "         ...    \n",
       "491       quetta\n",
       "492       quetta\n",
       "493       quetta\n",
       "494     peshawar\n",
       "495       quetta\n",
       "Name: City, Length: 496, dtype: object"
      ]
     },
     "execution_count": 27,
     "metadata": {},
     "output_type": "execute_result"
    }
   ],
   "source": [
    "suicide_attacks['City'] "
   ]
  },
  {
   "cell_type": "code",
   "execution_count": 32,
   "id": "64138a8f",
   "metadata": {},
   "outputs": [
    {
     "data": {
      "text/plain": [
       "array(['attock', 'bajaur agency', 'bannu', 'bhakkar', 'buner', 'chakwal',\n",
       "       'chaman', 'charsadda', 'd. i khan', 'd.g khan', 'd.i khan',\n",
       "       'dara adam khel', 'fateh jang', 'ghallanai, mohmand agency',\n",
       "       'gujrat', 'hangu', 'haripur', 'hayatabad', 'islamabad',\n",
       "       'jacobabad', 'karachi', 'karak', 'khanewal', 'khuzdar',\n",
       "       'khyber agency', 'kohat', 'kuram agency', 'kurram agency',\n",
       "       'lahore', 'lakki marwat', 'lasbela', 'lower dir', 'malakand',\n",
       "       'mansehra', 'mardan', 'mohmand agency',\n",
       "       'mosal kor, mohmand agency', 'multan', 'muzaffarabad',\n",
       "       'north waziristan', 'nowshehra', 'orakzai agency', 'peshawar',\n",
       "       'pishin', 'poonch', 'quetta', 'rawalpindi', 'sargodha',\n",
       "       'sehwan town', 'shabqadar-charsadda', 'shangla', 'shikarpur',\n",
       "       'sialkot', 'south waziristan', 'sudhanoti', 'sukkur', 'swabi',\n",
       "       'swat', 'taftan', 'tangi, charsadda district', 'tank', 'taunsa',\n",
       "       'tirah valley', 'totalai', 'upper dir', 'wagah', 'zhob'],\n",
       "      dtype=object)"
      ]
     },
     "execution_count": 32,
     "metadata": {},
     "output_type": "execute_result"
    }
   ],
   "source": [
    "cities = suicide_attacks['City'].unique()\n",
    "# sort them alphabetically and then take a closer look\n",
    "cities.sort()\n",
    "cities"
   ]
  },
  {
   "cell_type": "markdown",
   "id": "7c4652b5",
   "metadata": {},
   "source": [
    "Use fuzzy matching to correct inconsistent data entry\n",
    "\n",
    "It does look like there are some remaining inconsistencies: 'd. i khan' and 'd.i khan' should probably be the same. (I looked it up and 'd.g khan' is a seperate city, so I shouldn't combine those.)\n",
    "\n",
    "I'm going to use the fuzzywuzzy package to help identify which string are closest to each other.\n",
    "\n",
    "> Fuzzy matching: The process of automatically finding text strings that are very similar to the target string. In general, a string is considered \"closer\" to another one the fewer characters you'd need to change if you were transforming one string into another. So \"apple\" and \"snapple\" are two changes away from each other (add \"s\" and \"n\") while \"in\" and \"on\" and one change away (rplace \"i\" with \"o\"). You won't always be able to rely on fuzzy matching 100%, but it will usually end up saving you at least a little time.\n",
    "\n",
    "\n",
    "Fuzzywuzzy returns a ratio given two strings. The closer the ratio is to 100, the smaller the edit distance between the two strings. Here, we're going to get the ten strings from our list of cities that have the closest distance to \"d.i khan\".\n"
   ]
  },
  {
   "cell_type": "code",
   "execution_count": 33,
   "id": "5a3971a9",
   "metadata": {},
   "outputs": [
    {
     "data": {
      "text/plain": [
       "[('d. i khan', 100),\n",
       " ('d.i khan', 100),\n",
       " ('d.g khan', 88),\n",
       " ('khanewal', 50),\n",
       " ('sudhanoti', 47),\n",
       " ('hangu', 46),\n",
       " ('kohat', 46),\n",
       " ('dara adam khel', 45),\n",
       " ('chaman', 43),\n",
       " ('mardan', 43)]"
      ]
     },
     "execution_count": 33,
     "metadata": {},
     "output_type": "execute_result"
    }
   ],
   "source": [
    "# get the top 10 closest matches to \"d.i khan\"\n",
    "matches = fuzzywuzzy.process.extract(\"d.i khan\", cities, limit=10, scorer=fuzzywuzzy.fuzz.token_sort_ratio)\n",
    "\n",
    "# take a look at them\n",
    "matches"
   ]
  },
  {
   "cell_type": "code",
   "execution_count": 34,
   "id": "817a2e90",
   "metadata": {},
   "outputs": [],
   "source": [
    "# function to replace rows in the provided column of the provided dataframe\n",
    "# that match the provided string above the provided ratio with the provided string\n",
    "def replace_matches_in_column(df, column, string_to_match, min_ratio = 90):\n",
    "    # get a list of unique strings\n",
    "    strings = df[column].unique()\n",
    "    \n",
    "    # get the top 10 closest matches to our input string\n",
    "    matches = fuzzywuzzy.process.extract(string_to_match, strings, \n",
    "                                         limit=10, scorer=fuzzywuzzy.fuzz.token_sort_ratio)\n",
    "\n",
    "    # only get matches with a ratio > 90\n",
    "    close_matches = [matches[0] for matches in matches if matches[1] >= min_ratio]\n",
    "\n",
    "    # get the rows of all the close matches in our dataframe\n",
    "    rows_with_matches = df[column].isin(close_matches)\n",
    "\n",
    "    # replace all rows with close matches with the input matches \n",
    "    df.loc[rows_with_matches, column] = string_to_match\n",
    "    \n",
    "    # let us know the function's done\n",
    "    print(\"All done!\")"
   ]
  },
  {
   "cell_type": "code",
   "execution_count": 35,
   "id": "e942db45",
   "metadata": {},
   "outputs": [
    {
     "name": "stdout",
     "output_type": "stream",
     "text": [
      "All done!\n"
     ]
    }
   ],
   "source": [
    "# use the function we just wrote to replace close matches to \"d.i khan\" with \"d.i khan\"\n",
    "replace_matches_in_column(df=suicide_attacks, column='City', string_to_match=\"d.i khan\")"
   ]
  },
  {
   "cell_type": "code",
   "execution_count": 36,
   "id": "63affe70",
   "metadata": {},
   "outputs": [
    {
     "data": {
      "text/plain": [
       "array(['attock', 'bajaur agency', 'bannu', 'bhakkar', 'buner', 'chakwal',\n",
       "       'chaman', 'charsadda', 'd.g khan', 'd.i khan', 'dara adam khel',\n",
       "       'fateh jang', 'ghallanai, mohmand agency', 'gujrat', 'hangu',\n",
       "       'haripur', 'hayatabad', 'islamabad', 'jacobabad', 'karachi',\n",
       "       'karak', 'khanewal', 'khuzdar', 'khyber agency', 'kohat',\n",
       "       'kuram agency', 'kurram agency', 'lahore', 'lakki marwat',\n",
       "       'lasbela', 'lower dir', 'malakand', 'mansehra', 'mardan',\n",
       "       'mohmand agency', 'mosal kor, mohmand agency', 'multan',\n",
       "       'muzaffarabad', 'north waziristan', 'nowshehra', 'orakzai agency',\n",
       "       'peshawar', 'pishin', 'poonch', 'quetta', 'rawalpindi', 'sargodha',\n",
       "       'sehwan town', 'shabqadar-charsadda', 'shangla', 'shikarpur',\n",
       "       'sialkot', 'south waziristan', 'sudhanoti', 'sukkur', 'swabi',\n",
       "       'swat', 'taftan', 'tangi, charsadda district', 'tank', 'taunsa',\n",
       "       'tirah valley', 'totalai', 'upper dir', 'wagah', 'zhob'],\n",
       "      dtype=object)"
      ]
     },
     "execution_count": 36,
     "metadata": {},
     "output_type": "execute_result"
    }
   ],
   "source": [
    "# get all the unique values in the 'City' column\n",
    "cities = suicide_attacks['City'].unique()\n",
    "\n",
    "# sort them alphabetically and then take a closer look\n",
    "cities.sort()\n",
    "cities"
   ]
  },
  {
   "cell_type": "markdown",
   "id": "48a6d56f",
   "metadata": {},
   "source": [
    "*Extra*\n",
    "\n",
    "a dataset with a \"country\" column containing country names, but the entries are inconsistent due to typos, abbreviations, or variations in formatting. You want to standardize the country names for further analysis."
   ]
  },
  {
   "cell_type": "code",
   "execution_count": 39,
   "id": "731883a6",
   "metadata": {},
   "outputs": [
    {
     "name": "stdout",
     "output_type": "stream",
     "text": [
      "   id         country\n",
      "0   1   United States\n",
      "1   2             usa\n",
      "2   3  United Kingdom\n",
      "3   4              uk\n",
      "4   5         germany\n"
     ]
    }
   ],
   "source": [
    "# Sample inconsistent data\n",
    "data = {\n",
    "    'id': [1, 2, 3, 4, 5],\n",
    "    'country': ['United States', 'USA', 'United Kingdom', 'UK', 'Germany']\n",
    "}\n",
    "\n",
    "df = pd.DataFrame(data)\n",
    "\n",
    "# Mapping of inconsistent entries to standardized country names\n",
    "country_mapping = {\n",
    "    'USA': 'United States',\n",
    "    'UK': 'United Kingdom'\n",
    "}\n",
    "\n",
    "# Function to clean and standardize country names\n",
    "def clean_country_name(country):\n",
    "    # Convert to lowercase for case-insensitive comparison\n",
    "    country = country.lower()\n",
    "\n",
    "    # Handle specific mappings\n",
    "    if country in country_mapping:\n",
    "        return country_mapping[country]\n",
    "\n",
    "    # Check for partial matches\n",
    "    if 'united states' in country:\n",
    "        return 'United States'\n",
    "    elif 'united kingdom' in country:\n",
    "        return 'United Kingdom'\n",
    "\n",
    "    # Fallback: return the original entry\n",
    "    return country\n",
    "\n",
    "# Apply data cleaning to the 'country' column\n",
    "df['country'] = df['country'].apply(clean_country_name)\n",
    "\n",
    "print(df)\n"
   ]
  },
  {
   "cell_type": "markdown",
   "id": "f7e6e5f7",
   "metadata": {},
   "source": [
    "#### str.strip()"
   ]
  },
  {
   "cell_type": "markdown",
   "id": "373b69d1",
   "metadata": {},
   "source": [
    "used to remove leading and trailing characters (whitespace or specified characters) from a string. It returns a new string with the desired characters removed."
   ]
  },
  {
   "cell_type": "code",
   "execution_count": 40,
   "id": "1847cf61",
   "metadata": {},
   "outputs": [
    {
     "name": "stdout",
     "output_type": "stream",
     "text": [
      "Hello, World!\n"
     ]
    }
   ],
   "source": [
    "text = \"  Hello, World!  \"\n",
    "clean_text = text.strip()\n",
    "print(clean_text)  # Output: \"Hello, World!\""
   ]
  },
  {
   "cell_type": "code",
   "execution_count": 41,
   "id": "3a8f55ea",
   "metadata": {},
   "outputs": [
    {
     "name": "stdout",
     "output_type": "stream",
     "text": [
      "Hello, World!\n"
     ]
    }
   ],
   "source": [
    "text = \"$$$Hello, World!$$$\"\n",
    "clean_text = text.strip(\"$\")\n",
    "print(clean_text)  # Output: \"Hello, World!\""
   ]
  },
  {
   "cell_type": "code",
   "execution_count": 42,
   "id": "c79380af",
   "metadata": {},
   "outputs": [
    {
     "name": "stdout",
     "output_type": "stream",
     "text": [
      "Hello, World!\n"
     ]
    }
   ],
   "source": [
    "text = \"*|*Hello, World!*|*\"\n",
    "clean_text = text.strip(\"*|\")\n",
    "print(clean_text)  # Output: \"Hello, World!\""
   ]
  },
  {
   "cell_type": "code",
   "execution_count": 43,
   "id": "26741db0",
   "metadata": {},
   "outputs": [
    {
     "name": "stdout",
     "output_type": "stream",
     "text": [
      "hello, world!\n"
     ]
    }
   ],
   "source": [
    "#str.lower\n",
    "text = \"Hello, World!\"\n",
    "lower_text = text.lower()\n",
    "print(lower_text)  # Output: \"hello, world!\""
   ]
  },
  {
   "cell_type": "markdown",
   "id": "5ed64a95",
   "metadata": {},
   "source": [
    "FuzzyWuzzy is a Python library that provides fuzzy string matching capabilities."
   ]
  },
  {
   "cell_type": "markdown",
   "id": "b9fb0fcd",
   "metadata": {},
   "source": [
    " FuzzyWuzzy is useful when dealing with string matching or string similarity tasks, especially in scenarios where there might be variations, misspellings, or typos in the data."
   ]
  },
  {
   "cell_type": "code",
   "execution_count": 44,
   "id": "aa632a6c",
   "metadata": {},
   "outputs": [
    {
     "name": "stdout",
     "output_type": "stream",
     "text": [
      "89\n",
      "18\n"
     ]
    }
   ],
   "source": [
    "from fuzzywuzzy import fuzz\n",
    "\n",
    "# Example strings for comparison\n",
    "string1 = \"apple\"\n",
    "string2 = \"aple\"\n",
    "string3 = \"banana\"\n",
    "\n",
    "# Calculate similarity scores\n",
    "ratio1 = fuzz.ratio(string1, string2)\n",
    "ratio2 = fuzz.ratio(string1, string3)\n",
    "\n",
    "print(ratio1)  \n",
    "print(ratio2)  "
   ]
  },
  {
   "cell_type": "markdown",
   "id": "42249cbe",
   "metadata": {},
   "source": [
    "The fuzzywuzzy.process module provides functions to perform fuzzy matching and string similarity calculations on a list of choices against a query string. The primary function in this module is extractOne(), which returns the best match from a list of choices based on similarity scores."
   ]
  },
  {
   "cell_type": "code",
   "execution_count": 45,
   "id": "189d770f",
   "metadata": {},
   "outputs": [
    {
     "name": "stdout",
     "output_type": "stream",
     "text": [
      "('aple', 89)\n"
     ]
    }
   ],
   "source": [
    "from fuzzywuzzy import process\n",
    "\n",
    "query = \"apple\"\n",
    "choices = [\"aple\", \"banana\", \"orange\", \"grape\"]\n",
    "\n",
    "best_match = process.extractOne(query, choices)\n",
    "print(best_match)  # Output: (\"aple\", 91)"
   ]
  },
  {
   "cell_type": "markdown",
   "id": "17536566",
   "metadata": {},
   "source": [
    "*******"
   ]
  },
  {
   "cell_type": "raw",
   "id": "abfac790",
   "metadata": {},
   "source": [
    "If you want to link directly to a specific section of your notebook\n",
    "\n",
    "Create a new cell above the section you want to link to and add the following line of code:\n",
    " <a id=\"id\"></a>\n",
    "To create an anchor link that links to the above section, simply add the following line of code:\n",
    "  [Section title](#id)"
   ]
  },
  {
   "cell_type": "markdown",
   "id": "b291900b",
   "metadata": {},
   "source": [
    "***"
   ]
  },
  {
   "cell_type": "markdown",
   "id": "507e8aec",
   "metadata": {},
   "source": []
  },
  {
   "cell_type": "markdown",
   "id": "73c062eb",
   "metadata": {},
   "source": [
    "# Comprehensive Tutorial: Data Cleaning"
   ]
  },
  {
   "cell_type": "markdown",
   "id": "62609fc3",
   "metadata": {},
   "source": [
    "# <span style=\"background-color: yellow\"> 0. What is Data Cleaning?</span>\n"
   ]
  },
  {
   "cell_type": "markdown",
   "id": "a928e902",
   "metadata": {},
   "source": [
    "Data Cleaning is the collective term for all methods which improve the quality of data.\n",
    "\n",
    "High-quality data has the following properties:"
   ]
  },
  {
   "cell_type": "markdown",
   "id": "8335b4e7",
   "metadata": {},
   "source": [
    "### <span style=\"background-color: yellow\">Completeness:</span>\n",
    "  - There should be no missing values in our dataset\n"
   ]
  },
  {
   "cell_type": "markdown",
   "id": "d6cd67a9",
   "metadata": {},
   "source": [
    "### <span style=\"background-color: yellow\">Consistency:</span>\n",
    "   - No inconsistencies within the data\n",
    "   \n",
    "   \n",
    "   - Example 1: One data set contains the customers' places of residence. An inconsistency would occur, when the zip code and the address don't match within the same row\n",
    "   \n",
    "   \n",
    "   - Example 2: One dataset contains information about the status of your companies cargo ships (damaged, under repair, scrapped). The second dataset contains information about the position of the cargo ships. An inconsistency would occur if one cargo ship is said to be scrapped but on the open sea.\n"
   ]
  },
  {
   "cell_type": "markdown",
   "id": "032aaf23",
   "metadata": {},
   "source": [
    "### <span style=\"background-color: yellow\">Uniformity:</span>\n",
    "   - Variabels should be measured on the same scale.\n",
    "   - Example: Some income might be measured in EUR, some might be measured in USD\n",
    "   - Assure uniformity even across multiple features (E.g. measure both, the income and the expenses using the same unit)"
   ]
  },
  {
   "cell_type": "markdown",
   "id": "40deff81",
   "metadata": {},
   "source": [
    "### <span style=\"background-color: yellow\">Accuracy:</span>\n",
    " - The data should be as close to the ground truth as possible\n",
    " - Example: Since the exact height of people depends, among other things, on the daytime, it's impossible to determine 100% accurate measurements. Errors of a few millimeters are legit, but using inaccurate measurements (like 1.80 instead of 1.87) should be avoided.\n"
   ]
  },
  {
   "cell_type": "markdown",
   "id": "6f22137b",
   "metadata": {},
   "source": [
    "### <span style=\"background-color: yellow\">Validity:</span>\n",
    " - The data fulfills the necessary constraints. These constraints could either be defined for functionality reasons (e.g. the uniqueness of identifiers) or domain and business-related reasons (e.g. the pattern of customer identifiers).\n"
   ]
  },
  {
   "cell_type": "code",
   "execution_count": 1,
   "id": "84001a27",
   "metadata": {},
   "outputs": [],
   "source": [
    "import numpy as np\n",
    "import pandas as pd\n",
    "from sklearn.model_selection import train_test_split\n",
    "import matplotlib.pyplot as plt\n",
    "import matplotlib.colors\n",
    "import seaborn as sns\n",
    "sns.set_style(\"whitegrid\", {'axes.grid' : False})\n",
    "from sklearn.neighbors import KNeighborsRegressor"
   ]
  },
  {
   "cell_type": "code",
   "execution_count": 2,
   "id": "4b0ca70b",
   "metadata": {},
   "outputs": [],
   "source": [
    "df = pd.read_csv('winemag-data-130k-v2.csv')"
   ]
  },
  {
   "cell_type": "code",
   "execution_count": 3,
   "id": "6f9827d0",
   "metadata": {},
   "outputs": [
    {
     "data": {
      "text/html": [
       "<div>\n",
       "<style scoped>\n",
       "    .dataframe tbody tr th:only-of-type {\n",
       "        vertical-align: middle;\n",
       "    }\n",
       "\n",
       "    .dataframe tbody tr th {\n",
       "        vertical-align: top;\n",
       "    }\n",
       "\n",
       "    .dataframe thead th {\n",
       "        text-align: right;\n",
       "    }\n",
       "</style>\n",
       "<table border=\"1\" class=\"dataframe\">\n",
       "  <thead>\n",
       "    <tr style=\"text-align: right;\">\n",
       "      <th></th>\n",
       "      <th>Unnamed: 0</th>\n",
       "      <th>country</th>\n",
       "      <th>description</th>\n",
       "      <th>designation</th>\n",
       "      <th>points</th>\n",
       "      <th>price</th>\n",
       "      <th>province</th>\n",
       "      <th>region_1</th>\n",
       "      <th>region_2</th>\n",
       "      <th>taster_name</th>\n",
       "      <th>taster_twitter_handle</th>\n",
       "      <th>title</th>\n",
       "      <th>variety</th>\n",
       "      <th>winery</th>\n",
       "    </tr>\n",
       "  </thead>\n",
       "  <tbody>\n",
       "    <tr>\n",
       "      <th>0</th>\n",
       "      <td>0</td>\n",
       "      <td>Italy</td>\n",
       "      <td>Aromas include tropical fruit, broom, brimston...</td>\n",
       "      <td>Vulkà Bianco</td>\n",
       "      <td>87</td>\n",
       "      <td>NaN</td>\n",
       "      <td>Sicily &amp; Sardinia</td>\n",
       "      <td>Etna</td>\n",
       "      <td>NaN</td>\n",
       "      <td>Kerin O’Keefe</td>\n",
       "      <td>@kerinokeefe</td>\n",
       "      <td>Nicosia 2013 Vulkà Bianco  (Etna)</td>\n",
       "      <td>White Blend</td>\n",
       "      <td>Nicosia</td>\n",
       "    </tr>\n",
       "    <tr>\n",
       "      <th>1</th>\n",
       "      <td>1</td>\n",
       "      <td>Portugal</td>\n",
       "      <td>This is ripe and fruity, a wine that is smooth...</td>\n",
       "      <td>Avidagos</td>\n",
       "      <td>87</td>\n",
       "      <td>15.0</td>\n",
       "      <td>Douro</td>\n",
       "      <td>NaN</td>\n",
       "      <td>NaN</td>\n",
       "      <td>Roger Voss</td>\n",
       "      <td>@vossroger</td>\n",
       "      <td>Quinta dos Avidagos 2011 Avidagos Red (Douro)</td>\n",
       "      <td>Portuguese Red</td>\n",
       "      <td>Quinta dos Avidagos</td>\n",
       "    </tr>\n",
       "    <tr>\n",
       "      <th>2</th>\n",
       "      <td>2</td>\n",
       "      <td>US</td>\n",
       "      <td>Tart and snappy, the flavors of lime flesh and...</td>\n",
       "      <td>NaN</td>\n",
       "      <td>87</td>\n",
       "      <td>14.0</td>\n",
       "      <td>Oregon</td>\n",
       "      <td>Willamette Valley</td>\n",
       "      <td>Willamette Valley</td>\n",
       "      <td>Paul Gregutt</td>\n",
       "      <td>@paulgwine</td>\n",
       "      <td>Rainstorm 2013 Pinot Gris (Willamette Valley)</td>\n",
       "      <td>Pinot Gris</td>\n",
       "      <td>Rainstorm</td>\n",
       "    </tr>\n",
       "  </tbody>\n",
       "</table>\n",
       "</div>"
      ],
      "text/plain": [
       "   Unnamed: 0   country                                        description  \\\n",
       "0           0     Italy  Aromas include tropical fruit, broom, brimston...   \n",
       "1           1  Portugal  This is ripe and fruity, a wine that is smooth...   \n",
       "2           2        US  Tart and snappy, the flavors of lime flesh and...   \n",
       "\n",
       "    designation  points  price           province           region_1  \\\n",
       "0  Vulkà Bianco      87    NaN  Sicily & Sardinia               Etna   \n",
       "1      Avidagos      87   15.0              Douro                NaN   \n",
       "2           NaN      87   14.0             Oregon  Willamette Valley   \n",
       "\n",
       "            region_2    taster_name taster_twitter_handle  \\\n",
       "0                NaN  Kerin O’Keefe          @kerinokeefe   \n",
       "1                NaN     Roger Voss            @vossroger   \n",
       "2  Willamette Valley   Paul Gregutt           @paulgwine    \n",
       "\n",
       "                                           title         variety  \\\n",
       "0              Nicosia 2013 Vulkà Bianco  (Etna)     White Blend   \n",
       "1  Quinta dos Avidagos 2011 Avidagos Red (Douro)  Portuguese Red   \n",
       "2  Rainstorm 2013 Pinot Gris (Willamette Valley)      Pinot Gris   \n",
       "\n",
       "                winery  \n",
       "0              Nicosia  \n",
       "1  Quinta dos Avidagos  \n",
       "2            Rainstorm  "
      ]
     },
     "execution_count": 3,
     "metadata": {},
     "output_type": "execute_result"
    }
   ],
   "source": [
    "df.head(3)"
   ]
  },
  {
   "cell_type": "code",
   "execution_count": 4,
   "id": "47d41b02",
   "metadata": {},
   "outputs": [
    {
     "data": {
      "text/plain": [
       "(129971, 14)"
      ]
     },
     "execution_count": 4,
     "metadata": {},
     "output_type": "execute_result"
    }
   ],
   "source": [
    "df.shape"
   ]
  },
  {
   "cell_type": "code",
   "execution_count": 5,
   "id": "1da186d1",
   "metadata": {},
   "outputs": [
    {
     "data": {
      "text/plain": [
       "<bound method NDFrame.describe of         Unnamed: 0   country  \\\n",
       "0                0     Italy   \n",
       "1                1  Portugal   \n",
       "2                2        US   \n",
       "3                3        US   \n",
       "4                4        US   \n",
       "...            ...       ...   \n",
       "129966      129966   Germany   \n",
       "129967      129967        US   \n",
       "129968      129968    France   \n",
       "129969      129969    France   \n",
       "129970      129970    France   \n",
       "\n",
       "                                              description  \\\n",
       "0       Aromas include tropical fruit, broom, brimston...   \n",
       "1       This is ripe and fruity, a wine that is smooth...   \n",
       "2       Tart and snappy, the flavors of lime flesh and...   \n",
       "3       Pineapple rind, lemon pith and orange blossom ...   \n",
       "4       Much like the regular bottling from 2012, this...   \n",
       "...                                                   ...   \n",
       "129966  Notes of honeysuckle and cantaloupe sweeten th...   \n",
       "129967  Citation is given as much as a decade of bottl...   \n",
       "129968  Well-drained gravel soil gives this wine its c...   \n",
       "129969  A dry style of Pinot Gris, this is crisp with ...   \n",
       "129970  Big, rich and off-dry, this is powered by inte...   \n",
       "\n",
       "                                   designation  points  price  \\\n",
       "0                                 Vulkà Bianco      87    NaN   \n",
       "1                                     Avidagos      87   15.0   \n",
       "2                                          NaN      87   14.0   \n",
       "3                         Reserve Late Harvest      87   13.0   \n",
       "4           Vintner's Reserve Wild Child Block      87   65.0   \n",
       "...                                        ...     ...    ...   \n",
       "129966  Brauneberger Juffer-Sonnenuhr Spätlese      90   28.0   \n",
       "129967                                     NaN      90   75.0   \n",
       "129968                                   Kritt      90   30.0   \n",
       "129969                                     NaN      90   32.0   \n",
       "129970           Lieu-dit Harth Cuvée Caroline      90   21.0   \n",
       "\n",
       "                 province             region_1           region_2  \\\n",
       "0       Sicily & Sardinia                 Etna                NaN   \n",
       "1                   Douro                  NaN                NaN   \n",
       "2                  Oregon    Willamette Valley  Willamette Valley   \n",
       "3                Michigan  Lake Michigan Shore                NaN   \n",
       "4                  Oregon    Willamette Valley  Willamette Valley   \n",
       "...                   ...                  ...                ...   \n",
       "129966              Mosel                  NaN                NaN   \n",
       "129967             Oregon               Oregon       Oregon Other   \n",
       "129968             Alsace               Alsace                NaN   \n",
       "129969             Alsace               Alsace                NaN   \n",
       "129970             Alsace               Alsace                NaN   \n",
       "\n",
       "               taster_name taster_twitter_handle  \\\n",
       "0            Kerin O’Keefe          @kerinokeefe   \n",
       "1               Roger Voss            @vossroger   \n",
       "2             Paul Gregutt           @paulgwine    \n",
       "3       Alexander Peartree                   NaN   \n",
       "4             Paul Gregutt           @paulgwine    \n",
       "...                    ...                   ...   \n",
       "129966  Anna Lee C. Iijima                   NaN   \n",
       "129967        Paul Gregutt           @paulgwine    \n",
       "129968          Roger Voss            @vossroger   \n",
       "129969          Roger Voss            @vossroger   \n",
       "129970          Roger Voss            @vossroger   \n",
       "\n",
       "                                                    title         variety  \\\n",
       "0                       Nicosia 2013 Vulkà Bianco  (Etna)     White Blend   \n",
       "1           Quinta dos Avidagos 2011 Avidagos Red (Douro)  Portuguese Red   \n",
       "2           Rainstorm 2013 Pinot Gris (Willamette Valley)      Pinot Gris   \n",
       "3       St. Julian 2013 Reserve Late Harvest Riesling ...        Riesling   \n",
       "4       Sweet Cheeks 2012 Vintner's Reserve Wild Child...      Pinot Noir   \n",
       "...                                                   ...             ...   \n",
       "129966  Dr. H. Thanisch (Erben Müller-Burggraef) 2013 ...        Riesling   \n",
       "129967                  Citation 2004 Pinot Noir (Oregon)      Pinot Noir   \n",
       "129968  Domaine Gresser 2013 Kritt Gewurztraminer (Als...  Gewürztraminer   \n",
       "129969      Domaine Marcel Deiss 2012 Pinot Gris (Alsace)      Pinot Gris   \n",
       "129970  Domaine Schoffit 2012 Lieu-dit Harth Cuvée Car...  Gewürztraminer   \n",
       "\n",
       "                                          winery  \n",
       "0                                        Nicosia  \n",
       "1                            Quinta dos Avidagos  \n",
       "2                                      Rainstorm  \n",
       "3                                     St. Julian  \n",
       "4                                   Sweet Cheeks  \n",
       "...                                          ...  \n",
       "129966  Dr. H. Thanisch (Erben Müller-Burggraef)  \n",
       "129967                                  Citation  \n",
       "129968                           Domaine Gresser  \n",
       "129969                      Domaine Marcel Deiss  \n",
       "129970                          Domaine Schoffit  \n",
       "\n",
       "[129971 rows x 14 columns]>"
      ]
     },
     "execution_count": 5,
     "metadata": {},
     "output_type": "execute_result"
    }
   ],
   "source": [
    "df.describe"
   ]
  },
  {
   "cell_type": "markdown",
   "id": "dccfe3b9",
   "metadata": {},
   "source": [
    "# <span style=\"background-color: yellow\">1. Find and Visualize Missing Values:</span>"
   ]
  },
  {
   "cell_type": "markdown",
   "id": "b7fec712",
   "metadata": {},
   "source": [
    "Missing data occurs, when a specific value wasn't measured, can't be measured, or got lost due to any mistakes.\n",
    "- None: numpy arrays and pandas series with dtype: 'object' contain None values, if missing values occur.\n",
    "\n",
    "- NAN: numpy arrays and pandas series with dtype: 'float64' (or any float in general) contain NaN values, if missing values occur. The advantage of NaNs is, that they don't lead to a crash when used in aggregations:"
   ]
  },
  {
   "cell_type": "code",
   "execution_count": 6,
   "id": "65e829ee",
   "metadata": {},
   "outputs": [
    {
     "name": "stdout",
     "output_type": "stream",
     "text": [
      "with_None dtype: object\n",
      "with_NaN dtype: float64\n"
     ]
    }
   ],
   "source": [
    "with_None = np.array([1, None, 2])\n",
    "with_NaN = np.array([1, np.nan, 2])\n",
    "print(f'with_None dtype: {with_None.dtype}\\n' + \n",
    "      f'with_NaN dtype: {with_NaN.dtype}')"
   ]
  },
  {
   "cell_type": "code",
   "execution_count": 7,
   "id": "3f08b542",
   "metadata": {},
   "outputs": [
    {
     "data": {
      "text/plain": [
       "nan"
      ]
     },
     "execution_count": 7,
     "metadata": {},
     "output_type": "execute_result"
    }
   ],
   "source": [
    "#with_None.sum()  throws an error, due to None\n",
    "with_NaN.sum() # throws no error, but provides a nan"
   ]
  },
  {
   "cell_type": "code",
   "execution_count": 8,
   "id": "a572aa43",
   "metadata": {},
   "outputs": [
    {
     "data": {
      "text/plain": [
       "3.0"
      ]
     },
     "execution_count": 8,
     "metadata": {},
     "output_type": "execute_result"
    }
   ],
   "source": [
    "np.nansum(with_NaN) # sum, which ignores NaN (throws error with None)"
   ]
  },
  {
   "cell_type": "markdown",
   "id": "d763c55c",
   "metadata": {},
   "source": [
    "### Missing values lead to a lack of Completeness.\n",
    "\n",
    "It is not only important to know whether a dataset contains missing values, but also do we need to know which columns contain which amount of missing values."
   ]
  },
  {
   "cell_type": "code",
   "execution_count": 9,
   "id": "91f3a942",
   "metadata": {},
   "outputs": [
    {
     "data": {
      "image/png": "[encoded data removed]",
      "text/plain": [
       "<Figure size 800x1000 with 2 Axes>"
      ]
     },
     "metadata": {},
     "output_type": "display_data"
    }
   ],
   "source": [
    "def nullscan(df_check, save=False):\n",
    "    '''\n",
    "    df: a dataframe on which we want to perofrm the nullscan\n",
    "    save: determines, whether you want to save the .png of the plot or not\n",
    "    \n",
    "    plots the rate of null values per column in a dataframe using \n",
    "    a seaborn heatmap and a barplot.\n",
    "    '''\n",
    "    # a df with the same size of the original dataframe, containing True in cells containing NUll values.\n",
    "    # and False in all the other cells.\n",
    "    df_nulls = df_check.isna()\n",
    "    \n",
    "     # a series containing the sum of all values within a column having the column names as indices.\n",
    "    # True is interpreted as 1 and False is interpreted as 0 \n",
    "    nulls_per_col = df_nulls.sum(axis=0)\n",
    "    \n",
    "    # the rate makes it way more interpretable:\n",
    "    nulls_per_col /= len(df_check.index)\n",
    "    \n",
    "    with plt.style.context('dark_background'):\n",
    "        fig, (ax1, ax2) = plt.subplots(nrows=2, ncols=1, sharex=True, figsize=(8, 10))\n",
    "        vir = matplotlib.cm.get_cmap('viridis')\n",
    "        colormap = matplotlib.colors.ListedColormap([vir(0), 'darkorange'])\n",
    "        sns.heatmap(df_check.isnull(), cmap=colormap, cbar=False, yticklabels=False, ax=ax1)\n",
    "    \n",
    "        nulls_per_col.plot(kind='bar', color='darkorange', x=nulls_per_col.values, \n",
    "                           y=nulls_per_col.index, ax=ax2, width=1, linewidth=1, \n",
    "                           edgecolor='black', align='edge', label='Null value rate')\n",
    "        \n",
    "        ax2.set_ylim((0,1))\n",
    "        # centered labels\n",
    "        labels=df_check.columns\n",
    "        ticks = np.arange(0.5, len(labels))\n",
    "        ax2.xaxis.set(ticks=ticks, ticklabels=labels)\n",
    "    \n",
    "        # hide spines:\n",
    "        # NOTE: I could have used ax2.set_frameon(False), \n",
    "        # but I wanted the bottom and the left spine to stay white.\n",
    "        ax2.spines['top'].set_color('black')\n",
    "        ax2.spines['right'].set_color('black')\n",
    "        \n",
    "        \n",
    "        \n",
    "        # workaround to visualize very small amounts of null values per col\n",
    "        na_ticks = ticks[(nulls_per_col > 0) & (nulls_per_col < 0.05)]\n",
    "        if (len(na_ticks) > 0):\n",
    "            ax2.plot(na_ticks, [0,]*len(na_ticks), 's', c='darkorange', markersize=10, \n",
    "                     label='Very few missing values')\n",
    "    \n",
    "        fig.suptitle('Null Value Rate per Column', fontsize=30, y=1.05)\n",
    "        ax2.legend()\n",
    "        fig.tight_layout() \n",
    "        if(save):\n",
    "            plt.savefig('nullscan.png')\n",
    "        plt.show()\n",
    "nullscan(df)"
   ]
  },
  {
   "cell_type": "markdown",
   "id": "27c79ef7",
   "metadata": {},
   "source": [
    "### Break down the code above"
   ]
  },
  {
   "cell_type": "markdown",
   "id": "50d1b0c4",
   "metadata": {},
   "source": [
    "We created a function called nullscan that performs a null value analysis on the df and generates visualizations to display the rate of null values per column:\n",
    "\n",
    "def nullscan(df_check, save=False):  It takes two parameters, df_check, which represents the DataFrame to be analyzed, and save, a boolean flag indicating whether to save the generated plot as a PNG file.\n",
    "\n",
    "\n",
    "df_nulls = df_check.isna() : The resulting DataFrame has the same shape as df_check, with True values where the original DataFrame had null values, and False values elsewhere.\n",
    "\n",
    "\n",
    "nulls_per_col = df_nulls.sum(axis=0) : calculate the sum of True values in each column. The result is a Series called nulls_per_col, where the column names are the indices and the values represent the count of null values in each column.\n",
    "\n",
    "nulls_per_col /= len(df_check.index) :  This line divides each value in the nulls_per_col Series by the total number of rows in the original DataFrame (len(df_check.index))."
   ]
  },
  {
   "cell_type": "raw",
   "id": "190ab42c",
   "metadata": {},
   "source": [
    "with plt.style.context('dark_background'):\n",
    "    fig, (ax1, ax2) = plt.subplots(nrows=2, ncols=1, sharex=True, figsize=(8, 10))\n",
    "    vir = matplotlib.cm.get_cmap('viridis')\n",
    "    colormap = matplotlib.colors.ListedColormap([vir(0), 'darkorange'])\n",
    "    sns.heatmap(df_check.isnull(), cmap=colormap, cbar=False, yticklabels=False, ax=ax1)\n"
   ]
  },
  {
   "cell_type": "markdown",
   "id": "f4cf7c18",
   "metadata": {},
   "source": [
    "This block of code sets up the figure and the first subplot (ax1) for the heatmap visualization. It uses the dark_background style for the plot. A colormap called viridis is created using matplotlib.cm.get_cmap, and then a custom colormap called colormap is defined using ListedColormap with the viridis and 'darkorange' colors.\n",
    "\n",
    "\n",
    "The sns.heatmap() function is used to create the heatmap plot. It takes df_check.isnull() as the data, applies the custom colormap, colormap, hides the colorbar (cbar=False), hides the y-axis tick labels (yticklabels=False), and assigns ax1 as the axis for the plot."
   ]
  },
  {
   "cell_type": "raw",
   "id": "76ba3be3",
   "metadata": {},
   "source": [
    "nulls_per_col.plot(kind='bar', color='darkorange', x=nulls_per_col.values, \n",
    "                   y=nulls_per_col.index, ax=ax2, width=1, linewidth=1, \n",
    "                   edgecolor='black', align='edge', label='Null value rate')\n"
   ]
  },
  {
   "cell_type": "markdown",
   "id": "ddb82123",
   "metadata": {},
   "source": [
    "In this line, a bar plot is created using nulls_per_col.plot(). The kind parameter is set to 'bar', the color is set to 'darkorange', x is assigned to nulls_per_col.values, and y is assigned to nulls_per_col.index. The plot is assigned to the second subplot (ax2).\n",
    "\n",
    "\n",
    "Other formatting parameters include width=1 (bar width), linewidth=1 (border width of the bars), edgecolor='black' (color of the bar borders), align='edge' (alignment of bars on the x-axis), and label='Null value rate' (label for the legend)."
   ]
  },
  {
   "cell_type": "markdown",
   "id": "665d841e",
   "metadata": {},
   "source": [
    "ax2.set_ylim((0, 1)) : This line sets the y-axis limits of the second subplot (ax2) to range from 0 to 1. This ensures that the vertical bars representing null value rates are scaled appropriately."
   ]
  },
  {
   "cell_type": "raw",
   "id": "778e8ee4",
   "metadata": {},
   "source": [
    "labels = df_check.columns\n",
    "ticks = np.arange(0.5, len(labels))\n",
    "ax2.xaxis.set(ticks=ticks, ticklabels=labels)"
   ]
  },
  {
   "cell_type": "markdown",
   "id": "95b3734d",
   "metadata": {},
   "source": [
    "Here, the x-axis labels are set to the column names of the original DataFrame (df_check.columns). The x-axis ticks are generated using np.arange() with a start of 0.5 and an end of the number of labels. The xaxis.set() function sets the ticks and tick labels for the x-axis of ax2."
   ]
  },
  {
   "cell_type": "raw",
   "id": "1bba15cb",
   "metadata": {},
   "source": [
    "ax2.spines['top'].set_color('black')\n",
    "ax2.spines['right'].set_color('black')"
   ]
  },
  {
   "cell_type": "markdown",
   "id": "2d94fb61",
   "metadata": {},
   "source": [
    "These lines change the color of the top and right spines (borders) of ax2 to black. This is done to hide the spines and only show the bottom and left spines."
   ]
  },
  {
   "cell_type": "raw",
   "id": "cb71e7ff",
   "metadata": {},
   "source": [
    "na_ticks = ticks[(nulls_per_col > 0) & (nulls_per_col < 0.05)]\n",
    "if len(na_ticks) > 0:\n",
    "    ax2.plot(na_ticks, [0,]*len(na_ticks), 's', c='darkorange', markersize=10, \n",
    "             label='Very few missing values')\n"
   ]
  },
  {
   "cell_type": "markdown",
   "id": "af33be92",
   "metadata": {},
   "source": [
    "This block of code identifies the x-axis tick positions (na_ticks) where the null value rate is greater than 0 and less than 0.05. If there are any such ticks, a scatter plot is created using ax2.plot(). The s parameter specifies the marker shape as square, the color is set to 'darkorange', markersize is set to 10, and a label 'Very few missing values' is assigned to the legend."
   ]
  },
  {
   "cell_type": "raw",
   "id": "5d1915b6",
   "metadata": {},
   "source": [
    "fig.suptitle('Null Value Rate per Column', fontsize=30, y=1.05)\n",
    "ax2.legend()\n",
    "fig.tight_layout()\n",
    "if save:\n",
    "    plt.savefig('nullscan.png')\n",
    "plt.show()\n"
   ]
  },
  {
   "cell_type": "markdown",
   "id": "6c86abbd",
   "metadata": {},
   "source": [
    "The remaining lines set the title of the entire figure (fig.suptitle()), add a legend to ax2 (ax2.legend()), and adjust the spacing of the subplots (fig.tight_layout()).\n",
    "\n",
    "If the save parameter is True, the figure is saved as a PNG file named 'nullscan.png' using plt.savefig().\n",
    "\n",
    "Finally, plt.show() is called to display the generated plot on the screen.\n",
    "\n",
    "To use this function, you would need to pass a DataFrame (df) as an argument when calling the nullscan() function, like nullscan(df)."
   ]
  },
  {
   "cell_type": "markdown",
   "id": "8cf0effb",
   "metadata": {},
   "source": [
    "# <span style=\"background-color: yellow\">2. HANDLE Missing Values:</span>"
   ]
  },
  {
   "cell_type": "markdown",
   "id": "4d2d4fd2",
   "metadata": {},
   "source": [
    "#### There are some standard ways of handling these Null Values:\n",
    "\n",
    "- Drop rows containing a specified amount of Null Values. Use this method only, if the number of missing values within the respective row is very high.\n",
    "- Drop columns containing a specified amount of Null Values if the column isn't too relevant and the number of missing values is very high.\n",
    "- Replace missing values with the column average. The most common value of a categorical feature and the median or the mean of a numerical feature can be interpreted as the average of the respective column.\n",
    "- Replace the missing value with a predicted value. Therefore, one could use any Machine Learning Algorithm.\n",
    "- Replace the missing values with zeros or 'Unknown' and treat it just like any other value if possible"
   ]
  },
  {
   "cell_type": "markdown",
   "id": "45e4b7f4",
   "metadata": {},
   "source": [
    "Note: Replacing missing values is often called imputation. If you impute many missing values in one column, it might improve the performance of your model if you create a binary flag column containing ones in all rows where you imputed a missing value"
   ]
  },
  {
   "cell_type": "markdown",
   "id": "17eea52d",
   "metadata": {},
   "source": [
    "### Drop Rows"
   ]
  },
  {
   "cell_type": "code",
   "execution_count": 10,
   "id": "4ce42459",
   "metadata": {},
   "outputs": [
    {
     "data": {
      "image/png": "[encoded data removed]",
      "text/plain": [
       "<Figure size 800x1000 with 2 Axes>"
      ]
     },
     "metadata": {},
     "output_type": "display_data"
    }
   ],
   "source": [
    "# drop all rows with Null values in 'country', 'province' OR 'variety':\n",
    "df = df.dropna(subset=['country', 'province', 'variety'])\n",
    "\n",
    "# one could even drop all rows containing 'too many' Null values:\n",
    "# nrows_before = len(df.index)\n",
    "# na_allowed = int(len(df.columns)/3)\n",
    "# thresh = int(len(df.columns)) - na_allowed\n",
    "# df = df.dropna(axis=0, thresh=thresh)\n",
    "# nrows_afterwards = len(df.index)\n",
    "nullscan(df, save=True)"
   ]
  },
  {
   "cell_type": "markdown",
   "id": "70a02872",
   "metadata": {},
   "source": [
    "### Drop Rows"
   ]
  },
  {
   "cell_type": "code",
   "execution_count": 11,
   "id": "473a79ff",
   "metadata": {},
   "outputs": [
    {
     "data": {
      "image/png": "[encoded data removed]",
      "text/plain": [
       "<Figure size 800x1000 with 2 Axes>"
      ]
     },
     "metadata": {},
     "output_type": "display_data"
    }
   ],
   "source": [
    "df = df.drop('region_2', axis=1)\n",
    "\n",
    "nullscan(df)"
   ]
  },
  {
   "cell_type": "markdown",
   "id": "d2444ebf",
   "metadata": {},
   "source": [
    "### Replace Null values with 'Unknown' or 0\n"
   ]
  },
  {
   "cell_type": "markdown",
   "id": "d31d35ea",
   "metadata": {},
   "source": [
    "The column 'designation' has the second biggest amount of Missing Values. Let's take a look at the column."
   ]
  },
  {
   "cell_type": "code",
   "execution_count": 15,
   "id": "b8b83a1d",
   "metadata": {},
   "outputs": [
    {
     "data": {
      "image/png": "[encoded data removed]",
      "text/plain": [
       "<Figure size 800x1000 with 1 Axes>"
      ]
     },
     "metadata": {},
     "output_type": "display_data"
    },
    {
     "data": {
      "image/png": "[encoded data removed]",
      "text/plain": [
       "<Figure size 800x1000 with 1 Axes>"
      ]
     },
     "metadata": {},
     "output_type": "display_data"
    }
   ],
   "source": [
    "designation = df['designation'].value_counts().head(20) / len(df.index)\n",
    "\n",
    "fig, ax = plt.subplots(nrows=1, ncols=1, figsize=(8,10), sharey=True)\n",
    "ax.barh(y=designation.index, width=designation.values, color='darkorange', edgecolor='black')\n",
    "ax.set_title('Occurance of Designations in the Dataset', fontsize=20)\n",
    "ax.set_xlabel('Occurance in the Dataset')\n",
    "ax.set_ylabel('Designation')\n",
    "ax.set_facecolor('black')\n",
    "plt.show()"
   ]
  },
  {
   "cell_type": "markdown",
   "id": "b567bfea",
   "metadata": {},
   "source": [
    "Some values appear pretty often and it might be interesting to reveal any relationships between this feature and the other features. We shouldn't drop the column but replace the missing values with anything suitable. Unfortunately, the most common designation 'Reserve' is merely occurring in slightly more than 1% of the rows. Hence, we shouldn't replace the missing values with this most common value of the column.\n",
    "\n",
    "\n",
    "Alternatively, I suggest replacing missing values with 'Unknown' and treat it like any other value. The same method can be applied to the column 'region_1'."
   ]
  },
  {
   "cell_type": "code",
   "execution_count": 16,
   "id": "e448d0b2",
   "metadata": {},
   "outputs": [
    {
     "data": {
      "image/png": "[encoded data removed]",
      "text/plain": [
       "<Figure size 800x1000 with 2 Axes>"
      ]
     },
     "metadata": {},
     "output_type": "display_data"
    }
   ],
   "source": [
    "df[['designation', 'region_1']] = df[['designation', 'region_1']].fillna('Unknown')\n",
    "nullscan(df)"
   ]
  },
  {
   "cell_type": "markdown",
   "id": "321f6f96",
   "metadata": {},
   "source": [
    "To handle 'taster_name' and 'taster_twitter_handle', we have to get some insights into the relationship of the two variables.\n",
    "\n",
    "We know that both represent a reviewer and it might happen, that some reviewers are solely known by their name, and that some others are solely known by their Twitter handle. If so, we would have to find a way to merge these two columns into one column containing an identifier for the taster. To that end, we would prioritize the 'taster_name' to distinguish between the tasters from each other and fill the missing values in that column with the Twitter handle in the respective rows. Furthermore, it might happen that a single Twitter handle is used to review wines by multiple people or a single taster can have multiple Twitter handles.\n",
    "\n",
    "Let's see how often a taster name is given but a Twitter handle isn't:"
   ]
  },
  {
   "cell_type": "code",
   "execution_count": 17,
   "id": "aba28fcb",
   "metadata": {},
   "outputs": [
    {
     "name": "stdout",
     "output_type": "stream",
     "text": [
      "rows containing a name but no twitter handle: 4969\n",
      "rows containing a twitter handle but no taster name: 0\n"
     ]
    }
   ],
   "source": [
    "only_name = df.loc[df['taster_twitter_handle'].isnull() & df['taster_name'].notna(), \n",
    "                   ['taster_name', 'taster_twitter_handle']]\n",
    "num_only_name = len(only_name.index)\n",
    "\n",
    "only_twitter = df.loc[df['taster_name'].isnull() & df['taster_twitter_handle'].notna(), \n",
    "                      ['taster_name', 'taster_twitter_handle']]\n",
    "num_only_twitter = len(only_twitter.index)\n",
    "\n",
    "print(f'rows containing a name but no twitter handle: {num_only_name}'\n",
    "      + f'\\nrows containing a twitter handle but no taster name: {num_only_twitter}')"
   ]
  },
  {
   "cell_type": "markdown",
   "id": "61c7e45d",
   "metadata": {},
   "source": [
    "Since tasters might review wines using multiple Twitter handles, and review differently using differing Twitter handles (e.g. if they delete their Twitter account and start reviewing wine on Twitter using a new account), we should scan if there are any tasters using multiple Twitter handles."
   ]
  },
  {
   "cell_type": "code",
   "execution_count": 19,
   "id": "0a339195",
   "metadata": {},
   "outputs": [
    {
     "data": {
      "image/png": "[encoded data removed]",
      "text/plain": [
       "<Figure size 800x1000 with 1 Axes>"
      ]
     },
     "metadata": {},
     "output_type": "display_data"
    },
    {
     "data": {
      "image/png": "[encoded data removed]",
      "text/plain": [
       "<Figure size 800x1000 with 1 Axes>"
      ]
     },
     "metadata": {},
     "output_type": "display_data"
    }
   ],
   "source": [
    "twitter_per_name = df.groupby('taster_name')['taster_twitter_handle'].nunique()\n",
    "labels = twitter_per_name.index\n",
    "\n",
    "\n",
    "fig, ax = plt.subplots(figsize=(8,10))\n",
    "twitter_per_name.plot(kind='barh', ax=ax, color='darkorange', edgecolor='black')\n",
    "ax.set_xticks([0,1])\n",
    "ax.set_xlabel('Number of Twitter Handles')\n",
    "ax.set_ylabel('Taster')\n",
    "ax.set_title('Twitter handles per taster', fontsize=20)\n",
    "ax.set_facecolor('black')\n",
    "plt.show()"
   ]
  },
  {
   "cell_type": "markdown",
   "id": "1e15e520",
   "metadata": {},
   "source": [
    "As shown above, each taster uses either one Twitter Handle or no Twitter handle at all. Thus, we can simply drop the column 'taster_twitter_handle'. It doesn't provide any further information for our models. Moreover, we can replace the missing values in 'taster_name' with Unknown."
   ]
  },
  {
   "cell_type": "code",
   "execution_count": 20,
   "id": "3764f173",
   "metadata": {},
   "outputs": [
    {
     "data": {
      "image/png": "[encoded data removed]",
      "text/plain": [
       "<Figure size 800x1000 with 2 Axes>"
      ]
     },
     "metadata": {},
     "output_type": "display_data"
    }
   ],
   "source": [
    "df = df.drop('taster_twitter_handle', axis=1)\n",
    "df['taster_name'] = df['taster_name'].fillna('Unknown')\n",
    "nullscan(df)"
   ]
  }
 ],
 "metadata": {
  "kernelspec": {
   "display_name": "Python 3 (ipykernel)",
   "language": "python",
   "name": "python3"
  },
  "language_info": {
   "codemirror_mode": {
    "name": "ipython",
    "version": 3
   },
   "file_extension": ".py",
   "mimetype": "text/x-python",
   "name": "python",
   "nbconvert_exporter": "python",
   "pygments_lexer": "ipython3",
   "version": "3.9.13"
  }
 },
 "nbformat": 4,
 "nbformat_minor": 5
}
